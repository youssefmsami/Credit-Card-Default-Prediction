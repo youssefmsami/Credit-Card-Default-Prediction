{
 "cells": [
  {
   "cell_type": "markdown",
   "metadata": {},
   "source": [
    "# Problem Definition"
   ]
  },
  {
   "cell_type": "markdown",
   "metadata": {},
   "source": [
    "Create predictive model to estimate credit card default."
   ]
  },
  {
   "cell_type": "markdown",
   "metadata": {},
   "source": [
    "# Data Discription"
   ]
  },
  {
   "cell_type": "markdown",
   "metadata": {},
   "source": [
    "customerID - Client unique identification - character <br>\n",
    "sex - Sex (Female, Male) - factor <br>\n",
    "status - Marital Status (Divorced,Married,Single,Unknown,Widower) - factor <br>\n",
    "age -  in years - numeric <br>\n",
    "externalScore - A score provided by third party about the risk of default - numeric <br>\n",
    "indSimin - A binary variable that indicates if the client has guarantors - binary <br>\n",
    "indXlist-A binary variable that indicates if the client has debts with official agencies published in public<br>\n",
    "indCreditBureau - A binary variable that indicates if the client appears in the delinquency list Credit Bureau <br>\n",
    "indInternet - A binary variable that indicates if the client ask for information about credit cards online - binary<br>\n",
    "indBadDebt -  A binary variable that indicates whether the actual debt is classified as sub-standard or lower-quality risk<br>\n",
    "salary - Salary in intervals (None , <650 , [650,1000) , [1000,1300) , [1300,1500) , [1500,2000) , [2000,3000) , [3000,5000), [5000,8000) , >8000 , Unknown) - factor <br>\n",
    "numLoans - Number of active loans that the client has in the bank - numeric <br>\n",
    "numMortgages - Number of active mortgages that the client has in the bank - numeric <br>\n",
    "channel - Channel for which the credit card has been contracted (App, Branch,Call Center, External Agent,Online, Recovery, Unknown) - factor <br>\n",
    "indBadLocation - A binary varible indicanting if the client's adress is located in a low rent per capita zone <br>\n",
    "previous - client debt classification of the previous year (Default, Normal, Refinancing, Restructuring, Unpaid) - factor <br>\n",
    "sumExternalDefault - The amount of money that the client's debs that are in default - numeric <br>\n",
    "target - A binary variable that indicates that the credit card fee has been unpaid - binary <br>"
   ]
  },
  {
   "cell_type": "markdown",
   "metadata": {},
   "source": [
    "# Importing Libraries"
   ]
  },
  {
   "cell_type": "code",
   "execution_count": 1,
   "metadata": {
    "collapsed": true
   },
   "outputs": [],
   "source": [
    "import os\n",
    "mingw_path = 'C:\\\\Program Files\\\\mingw-w64\\\\x86_64-5.3.0-posix-seh-rt_v4-rev0\\\\mingw64\\\\bin'\n",
    "os.environ['PATH'] = mingw_path + ';' + os.environ['PATH']\n"
   ]
  },
  {
   "cell_type": "code",
   "execution_count": 99,
   "metadata": {},
   "outputs": [],
   "source": [
    "import numpy as np\n",
    "import pandas as pd\n",
    "from sklearn import datasets\n",
    "from sklearn import metrics\n",
    "from sklearn.metrics import auc\n",
    "from sklearn.metrics import roc_auc_score\n",
    "from sklearn.metrics import accuracy_score\n",
    "from sklearn.linear_model import LogisticRegression\n",
    "from sklearn.svm import SVC\n",
    "import random\n",
    "from sklearn.tree import DecisionTreeClassifier\n",
    "from sklearn.ensemble import RandomForestClassifier\n",
    "from sklearn.ensemble import ExtraTreesClassifier\n",
    "from sklearn import preprocessing\n",
    "from sklearn.cross_validation import train_test_split\n",
    "import scipy\n",
    "import matplotlib.pyplot as plt\n",
    "import seaborn as sns\n",
    "import math\n",
    "import xgboost as xgb\n",
    "from xgboost import XGBClassifier\n",
    "from sklearn.preprocessing import StandardScaler\n",
    "from sklearn.preprocessing import MinMaxScaler\n",
    "from fancyimpute import BiScaler, KNN, NuclearNormMinimization, SoftImpute, IterativeSVD, MICE\n",
    "%matplotlib inline "
   ]
  },
  {
   "cell_type": "markdown",
   "metadata": {},
   "source": [
    "# Importing Datasets"
   ]
  },
  {
   "cell_type": "code",
   "execution_count": 4,
   "metadata": {
    "collapsed": true
   },
   "outputs": [],
   "source": [
    "train_data = pd.read_csv(\"challengeTrain.csv\")\n",
    "test = pd.read_csv(\"challengeTest.csv\")"
   ]
  },
  {
   "cell_type": "markdown",
   "metadata": {},
   "source": [
    "## Check Datasets"
   ]
  },
  {
   "cell_type": "code",
   "execution_count": 5,
   "metadata": {},
   "outputs": [
    {
     "name": "stdout",
     "output_type": "stream",
     "text": [
      "<class 'pandas.core.frame.DataFrame'>\n",
      "RangeIndex: 522939 entries, 0 to 522938\n",
      "Data columns (total 18 columns):\n",
      "customerID            522939 non-null object\n",
      "sex                   522939 non-null object\n",
      "status                522939 non-null object\n",
      "age                   500238 non-null float64\n",
      "externalScore         514626 non-null float64\n",
      "indSimin              522939 non-null int64\n",
      "indXlist              522939 non-null int64\n",
      "indCreditBureau       522939 non-null int64\n",
      "indInternet           522939 non-null int64\n",
      "indBadDebt            522939 non-null int64\n",
      "salary                522939 non-null object\n",
      "numLoans              267338 non-null float64\n",
      "numMortgages          267338 non-null float64\n",
      "channel               522939 non-null object\n",
      "indBadLocation        522939 non-null int64\n",
      "previous              522939 non-null object\n",
      "sumExternalDefault    520260 non-null float64\n",
      "target                522939 non-null int64\n",
      "dtypes: float64(5), int64(7), object(6)\n",
      "memory usage: 71.8+ MB\n"
     ]
    }
   ],
   "source": [
    "train_data.info()"
   ]
  },
  {
   "cell_type": "code",
   "execution_count": 6,
   "metadata": {},
   "outputs": [
    {
     "data": {
      "text/plain": [
       "(522939, 18)"
      ]
     },
     "execution_count": 6,
     "metadata": {},
     "output_type": "execute_result"
    }
   ],
   "source": [
    "train_data.shape"
   ]
  },
  {
   "cell_type": "code",
   "execution_count": 8,
   "metadata": {
    "scrolled": true
   },
   "outputs": [
    {
     "data": {
      "text/html": [
       "<div>\n",
       "<style>\n",
       "    .dataframe thead tr:only-child th {\n",
       "        text-align: right;\n",
       "    }\n",
       "\n",
       "    .dataframe thead th {\n",
       "        text-align: left;\n",
       "    }\n",
       "\n",
       "    .dataframe tbody tr th {\n",
       "        vertical-align: top;\n",
       "    }\n",
       "</style>\n",
       "<table border=\"1\" class=\"dataframe\">\n",
       "  <thead>\n",
       "    <tr style=\"text-align: right;\">\n",
       "      <th></th>\n",
       "      <th>customerID</th>\n",
       "      <th>sex</th>\n",
       "      <th>status</th>\n",
       "      <th>age</th>\n",
       "      <th>externalScore</th>\n",
       "      <th>indSimin</th>\n",
       "      <th>indXlist</th>\n",
       "      <th>indCreditBureau</th>\n",
       "      <th>indInternet</th>\n",
       "      <th>indBadDebt</th>\n",
       "      <th>salary</th>\n",
       "      <th>numLoans</th>\n",
       "      <th>numMortgages</th>\n",
       "      <th>channel</th>\n",
       "      <th>indBadLocation</th>\n",
       "      <th>previous</th>\n",
       "      <th>sumExternalDefault</th>\n",
       "      <th>target</th>\n",
       "    </tr>\n",
       "  </thead>\n",
       "  <tbody>\n",
       "    <tr>\n",
       "      <th>0</th>\n",
       "      <td>D_00046780637</td>\n",
       "      <td>Female</td>\n",
       "      <td>Single</td>\n",
       "      <td>23.0</td>\n",
       "      <td>373.0</td>\n",
       "      <td>0</td>\n",
       "      <td>0</td>\n",
       "      <td>0</td>\n",
       "      <td>1</td>\n",
       "      <td>1</td>\n",
       "      <td>[1000,1300)</td>\n",
       "      <td>NaN</td>\n",
       "      <td>NaN</td>\n",
       "      <td>External Agent</td>\n",
       "      <td>0</td>\n",
       "      <td>Normal</td>\n",
       "      <td>1173.46</td>\n",
       "      <td>1</td>\n",
       "    </tr>\n",
       "    <tr>\n",
       "      <th>1</th>\n",
       "      <td>D_00043828980</td>\n",
       "      <td>Male</td>\n",
       "      <td>Single</td>\n",
       "      <td>27.0</td>\n",
       "      <td>702.0</td>\n",
       "      <td>1</td>\n",
       "      <td>0</td>\n",
       "      <td>0</td>\n",
       "      <td>1</td>\n",
       "      <td>0</td>\n",
       "      <td>[1500,2000)</td>\n",
       "      <td>1.0</td>\n",
       "      <td>0.0</td>\n",
       "      <td>External Agent</td>\n",
       "      <td>0</td>\n",
       "      <td>Restructuring</td>\n",
       "      <td>0.00</td>\n",
       "      <td>0</td>\n",
       "    </tr>\n",
       "    <tr>\n",
       "      <th>2</th>\n",
       "      <td>D_00043396577</td>\n",
       "      <td>Male</td>\n",
       "      <td>Single</td>\n",
       "      <td>28.0</td>\n",
       "      <td>728.0</td>\n",
       "      <td>0</td>\n",
       "      <td>0</td>\n",
       "      <td>0</td>\n",
       "      <td>1</td>\n",
       "      <td>0</td>\n",
       "      <td>[1500,2000)</td>\n",
       "      <td>2.0</td>\n",
       "      <td>0.0</td>\n",
       "      <td>External Agent</td>\n",
       "      <td>0</td>\n",
       "      <td>Restructuring</td>\n",
       "      <td>0.00</td>\n",
       "      <td>1</td>\n",
       "    </tr>\n",
       "    <tr>\n",
       "      <th>3</th>\n",
       "      <td>D_00006768677</td>\n",
       "      <td>Male</td>\n",
       "      <td>Single</td>\n",
       "      <td>45.0</td>\n",
       "      <td>650.0</td>\n",
       "      <td>0</td>\n",
       "      <td>0</td>\n",
       "      <td>0</td>\n",
       "      <td>0</td>\n",
       "      <td>0</td>\n",
       "      <td>[1000,1300)</td>\n",
       "      <td>1.0</td>\n",
       "      <td>0.0</td>\n",
       "      <td>Call Center</td>\n",
       "      <td>0</td>\n",
       "      <td>Unpaid</td>\n",
       "      <td>0.00</td>\n",
       "      <td>1</td>\n",
       "    </tr>\n",
       "    <tr>\n",
       "      <th>4</th>\n",
       "      <td>D_00062632001</td>\n",
       "      <td>Female</td>\n",
       "      <td>Unknown</td>\n",
       "      <td>NaN</td>\n",
       "      <td>625.0</td>\n",
       "      <td>0</td>\n",
       "      <td>0</td>\n",
       "      <td>0</td>\n",
       "      <td>1</td>\n",
       "      <td>0</td>\n",
       "      <td>[650,1000)</td>\n",
       "      <td>NaN</td>\n",
       "      <td>NaN</td>\n",
       "      <td>External Agent</td>\n",
       "      <td>0</td>\n",
       "      <td>Normal</td>\n",
       "      <td>0.00</td>\n",
       "      <td>0</td>\n",
       "    </tr>\n",
       "  </tbody>\n",
       "</table>\n",
       "</div>"
      ],
      "text/plain": [
       "      customerID     sex   status   age  externalScore  indSimin  indXlist  \\\n",
       "0  D_00046780637  Female   Single  23.0          373.0         0         0   \n",
       "1  D_00043828980    Male   Single  27.0          702.0         1         0   \n",
       "2  D_00043396577    Male   Single  28.0          728.0         0         0   \n",
       "3  D_00006768677    Male   Single  45.0          650.0         0         0   \n",
       "4  D_00062632001  Female  Unknown   NaN          625.0         0         0   \n",
       "\n",
       "   indCreditBureau  indInternet  indBadDebt       salary  numLoans  \\\n",
       "0                0            1           1  [1000,1300)       NaN   \n",
       "1                0            1           0  [1500,2000)       1.0   \n",
       "2                0            1           0  [1500,2000)       2.0   \n",
       "3                0            0           0  [1000,1300)       1.0   \n",
       "4                0            1           0   [650,1000)       NaN   \n",
       "\n",
       "   numMortgages         channel  indBadLocation       previous  \\\n",
       "0           NaN  External Agent               0         Normal   \n",
       "1           0.0  External Agent               0  Restructuring   \n",
       "2           0.0  External Agent               0  Restructuring   \n",
       "3           0.0     Call Center               0         Unpaid   \n",
       "4           NaN  External Agent               0         Normal   \n",
       "\n",
       "   sumExternalDefault  target  \n",
       "0             1173.46       1  \n",
       "1                0.00       0  \n",
       "2                0.00       1  \n",
       "3                0.00       1  \n",
       "4                0.00       0  "
      ]
     },
     "execution_count": 8,
     "metadata": {},
     "output_type": "execute_result"
    }
   ],
   "source": [
    "train_data.head()"
   ]
  },
  {
   "cell_type": "code",
   "execution_count": 9,
   "metadata": {
    "scrolled": true
   },
   "outputs": [
    {
     "name": "stdout",
     "output_type": "stream",
     "text": [
      "<class 'pandas.core.frame.DataFrame'>\n",
      "RangeIndex: 174313 entries, 0 to 174312\n",
      "Data columns (total 17 columns):\n",
      "customerID            174313 non-null object\n",
      "sex                   174313 non-null object\n",
      "status                174313 non-null object\n",
      "age                   166841 non-null float64\n",
      "externalScore         171556 non-null float64\n",
      "indSimin              174313 non-null int64\n",
      "indXlist              174313 non-null int64\n",
      "indCreditBureau       174313 non-null int64\n",
      "indInternet           174313 non-null int64\n",
      "indBadDebt            174313 non-null int64\n",
      "salary                174313 non-null object\n",
      "numLoans              88934 non-null float64\n",
      "numMortgages          88934 non-null float64\n",
      "channel               174313 non-null object\n",
      "indBadLocation        174313 non-null int64\n",
      "previous              174313 non-null object\n",
      "sumExternalDefault    173438 non-null float64\n",
      "dtypes: float64(5), int64(6), object(6)\n",
      "memory usage: 22.6+ MB\n"
     ]
    }
   ],
   "source": [
    "test.info()"
   ]
  },
  {
   "cell_type": "code",
   "execution_count": 10,
   "metadata": {
    "scrolled": true
   },
   "outputs": [
    {
     "data": {
      "text/plain": [
       "(174313, 17)"
      ]
     },
     "execution_count": 10,
     "metadata": {},
     "output_type": "execute_result"
    }
   ],
   "source": [
    "test.shape"
   ]
  },
  {
   "cell_type": "code",
   "execution_count": 11,
   "metadata": {},
   "outputs": [
    {
     "data": {
      "text/plain": [
       "customerID                 0\n",
       "sex                        0\n",
       "status                     0\n",
       "age                    22701\n",
       "externalScore           8313\n",
       "indSimin                   0\n",
       "indXlist                   0\n",
       "indCreditBureau            0\n",
       "indInternet                0\n",
       "indBadDebt                 0\n",
       "salary                     0\n",
       "numLoans              255601\n",
       "numMortgages          255601\n",
       "channel                    0\n",
       "indBadLocation             0\n",
       "previous                   0\n",
       "sumExternalDefault      2679\n",
       "target                     0\n",
       "dtype: int64"
      ]
     },
     "execution_count": 11,
     "metadata": {},
     "output_type": "execute_result"
    }
   ],
   "source": [
    "train_data.isnull().sum()"
   ]
  },
  {
   "cell_type": "markdown",
   "metadata": {},
   "source": [
    "# In-Depth data Inspection"
   ]
  },
  {
   "cell_type": "markdown",
   "metadata": {},
   "source": [
    "## Numeric Data Plots"
   ]
  },
  {
   "cell_type": "markdown",
   "metadata": {},
   "source": [
    "In this part I am trying to identify the distributions of the numberic variable comparing to the target"
   ]
  },
  {
   "cell_type": "code",
   "execution_count": 7,
   "metadata": {
    "scrolled": true
   },
   "outputs": [
    {
     "name": "stderr",
     "output_type": "stream",
     "text": [
      "C:\\Users\\ysami\\Anaconda3\\lib\\site-packages\\numpy\\core\\fromnumeric.py:52: FutureWarning: reshape is deprecated and will raise in a subsequent release. Please use .values.reshape(...) instead\n",
      "  return getattr(obj, method)(*args, **kwds)\n"
     ]
    },
    {
     "data": {
      "image/png": "[encoded data removed]",
      "text/plain": [
       "<matplotlib.figure.Figure at 0x190857ac828>"
      ]
     },
     "metadata": {},
     "output_type": "display_data"
    }
   ],
   "source": [
    "bins=np.arange(10, 120, 10)\n",
    "hist1=train_data[train_data.target == 0].age\n",
    "hist2=train_data[train_data.target == 1].age\n",
    "\n",
    "n,b,p=plt.hist([hist1, hist2], stacked=True,range=[18,111],bins=bins)\n",
    "plt.legend(['0','1'],loc=0)\n",
    "\n",
    "plt.xlabel('Age', fontsize=18)\n",
    "plt.ylabel('Targets', fontsize=18)\n",
    "sns.despine()"
   ]
  },
  {
   "cell_type": "markdown",
   "metadata": {},
   "source": [
    "From this plot we can identify the bins if I want to binn the age\n",
    "and it shows the ages with small number of rows"
   ]
  },
  {
   "cell_type": "code",
   "execution_count": 8,
   "metadata": {
    "scrolled": false
   },
   "outputs": [
    {
     "name": "stderr",
     "output_type": "stream",
     "text": [
      "C:\\Users\\ysami\\Anaconda3\\lib\\site-packages\\numpy\\core\\fromnumeric.py:52: FutureWarning: reshape is deprecated and will raise in a subsequent release. Please use .values.reshape(...) instead\n",
      "  return getattr(obj, method)(*args, **kwds)\n",
      "C:\\Users\\ysami\\Anaconda3\\lib\\site-packages\\numpy\\lib\\function_base.py:780: RuntimeWarning: invalid value encountered in greater_equal\n",
      "  keep = (tmp_a >= first_edge)\n",
      "C:\\Users\\ysami\\Anaconda3\\lib\\site-packages\\numpy\\lib\\function_base.py:781: RuntimeWarning: invalid value encountered in less_equal\n",
      "  keep &= (tmp_a <= last_edge)\n"
     ]
    },
    {
     "data": {
      "image/png": "[encoded data removed]",
      "text/plain": [
       "<matplotlib.figure.Figure at 0x19085782e80>"
      ]
     },
     "metadata": {},
     "output_type": "display_data"
    }
   ],
   "source": [
    "hist1=train_data[train_data.target == 0].sumExternalDefault \n",
    "hist2=train_data[train_data.target == 1].sumExternalDefault \n",
    "\n",
    "n,b,p=plt.hist([hist1, hist2], stacked=True,range=[1,60000])\n",
    "plt.legend(['0','1'],loc=0)\n",
    "\n",
    "plt.xlabel('Sum External Default', fontsize=18)\n",
    "plt.ylabel('Targets', fontsize=18)\n",
    "\n",
    "sns.despine()"
   ]
  },
  {
   "cell_type": "markdown",
   "metadata": {},
   "source": [
    "In this plot we can see that the sum External default has a lot of outliers above >1000000 and the  number are too large maybe it is a good idea to be normalized"
   ]
  },
  {
   "cell_type": "code",
   "execution_count": 9,
   "metadata": {
    "scrolled": false
   },
   "outputs": [
    {
     "name": "stderr",
     "output_type": "stream",
     "text": [
      "C:\\Users\\ysami\\Anaconda3\\lib\\site-packages\\numpy\\core\\fromnumeric.py:52: FutureWarning: reshape is deprecated and will raise in a subsequent release. Please use .values.reshape(...) instead\n",
      "  return getattr(obj, method)(*args, **kwds)\n",
      "C:\\Users\\ysami\\Anaconda3\\lib\\site-packages\\numpy\\lib\\function_base.py:780: RuntimeWarning: invalid value encountered in greater_equal\n",
      "  keep = (tmp_a >= first_edge)\n",
      "C:\\Users\\ysami\\Anaconda3\\lib\\site-packages\\numpy\\lib\\function_base.py:781: RuntimeWarning: invalid value encountered in less_equal\n",
      "  keep &= (tmp_a <= last_edge)\n"
     ]
    },
    {
     "data": {
      "image/png": "[encoded data removed]",
      "text/plain": [
       "<matplotlib.figure.Figure at 0x1908446a470>"
      ]
     },
     "metadata": {},
     "output_type": "display_data"
    }
   ],
   "source": [
    "hist1=train_data[train_data.target == 0].externalScore \n",
    "hist2=train_data[train_data.target == 1].externalScore \n",
    "\n",
    "n,b,p=plt.hist([hist1, hist2], stacked=True,range=[1,1000])\n",
    "plt.legend(['0','1'],loc=0)\n",
    "plt.ylabel('Targets', fontsize=18)\n",
    "plt.xlabel('External Score', fontsize=18)\n",
    "\n",
    "sns.despine()"
   ]
  },
  {
   "cell_type": "code",
   "execution_count": 10,
   "metadata": {
    "scrolled": false
   },
   "outputs": [
    {
     "name": "stderr",
     "output_type": "stream",
     "text": [
      "C:\\Users\\ysami\\Anaconda3\\lib\\site-packages\\numpy\\core\\fromnumeric.py:52: FutureWarning: reshape is deprecated and will raise in a subsequent release. Please use .values.reshape(...) instead\n",
      "  return getattr(obj, method)(*args, **kwds)\n",
      "C:\\Users\\ysami\\Anaconda3\\lib\\site-packages\\numpy\\lib\\function_base.py:780: RuntimeWarning: invalid value encountered in greater_equal\n",
      "  keep = (tmp_a >= first_edge)\n",
      "C:\\Users\\ysami\\Anaconda3\\lib\\site-packages\\numpy\\lib\\function_base.py:781: RuntimeWarning: invalid value encountered in less_equal\n",
      "  keep &= (tmp_a <= last_edge)\n"
     ]
    },
    {
     "data": {
      "image/png": "[encoded data removed]",
      "text/plain": [
       "<matplotlib.figure.Figure at 0x1908446a4e0>"
      ]
     },
     "metadata": {},
     "output_type": "display_data"
    }
   ],
   "source": [
    "hist1=train_data[train_data.target == 0].numLoans\n",
    "hist2=train_data[train_data.target == 1].numLoans\n",
    "\n",
    "n,b,p=plt.hist([hist1, hist2], stacked=True,range=[0,14])\n",
    "plt.legend(['0','1'],loc=0)\n",
    "plt.ylabel('Targets', fontsize=18)\n",
    "plt.xlabel('Number of Loans', fontsize=18)\n",
    "\n",
    "sns.despine()"
   ]
  },
  {
   "cell_type": "markdown",
   "metadata": {},
   "source": [
    "this plot shows the distribuation of number of loans and we can see that there is only few records above > 4 loans"
   ]
  },
  {
   "cell_type": "code",
   "execution_count": 11,
   "metadata": {
    "scrolled": true
   },
   "outputs": [
    {
     "name": "stderr",
     "output_type": "stream",
     "text": [
      "C:\\Users\\ysami\\Anaconda3\\lib\\site-packages\\numpy\\core\\fromnumeric.py:52: FutureWarning: reshape is deprecated and will raise in a subsequent release. Please use .values.reshape(...) instead\n",
      "  return getattr(obj, method)(*args, **kwds)\n",
      "C:\\Users\\ysami\\Anaconda3\\lib\\site-packages\\numpy\\lib\\function_base.py:780: RuntimeWarning: invalid value encountered in greater_equal\n",
      "  keep = (tmp_a >= first_edge)\n",
      "C:\\Users\\ysami\\Anaconda3\\lib\\site-packages\\numpy\\lib\\function_base.py:781: RuntimeWarning: invalid value encountered in less_equal\n",
      "  keep &= (tmp_a <= last_edge)\n"
     ]
    },
    {
     "data": {
      "image/png": "[encoded data removed]",
      "text/plain": [
       "<matplotlib.figure.Figure at 0x19085782780>"
      ]
     },
     "metadata": {},
     "output_type": "display_data"
    }
   ],
   "source": [
    "hist1=train_data[train_data.target == 0].numMortgages\n",
    "hist2=train_data[train_data.target == 1].numMortgages\n",
    "\n",
    "n,b,p=plt.hist([hist1, hist2], stacked=True,range=[0,14])\n",
    "plt.legend(['0','1'],loc=0)\n",
    "plt.ylabel('Targets', fontsize=18)\n",
    "plt.xlabel('Number of Mortages', fontsize=18)\n",
    "\n",
    "sns.despine()"
   ]
  },
  {
   "cell_type": "code",
   "execution_count": 12,
   "metadata": {},
   "outputs": [
    {
     "data": {
      "text/plain": [
       "numMortgages\n",
       "0.0    254600\n",
       "1.0     12476\n",
       "2.0       252\n",
       "3.0        10\n",
       "Name: target, dtype: int64"
      ]
     },
     "execution_count": 12,
     "metadata": {},
     "output_type": "execute_result"
    }
   ],
   "source": [
    "train_data.groupby(\"numMortgages\")[\"target\"].agg( 'count')"
   ]
  },
  {
   "cell_type": "markdown",
   "metadata": {},
   "source": [
    "the mortage distribuations shows that that most of the records have 0 or 1 mortatages"
   ]
  },
  {
   "cell_type": "markdown",
   "metadata": {},
   "source": [
    "## Remove Discovered Outliers from Training"
   ]
  },
  {
   "cell_type": "markdown",
   "metadata": {
    "collapsed": true
   },
   "source": [
    "Removing Outliers from training data or sumExternalDefault >1000000"
   ]
  },
  {
   "cell_type": "code",
   "execution_count": 38,
   "metadata": {
    "collapsed": true
   },
   "outputs": [],
   "source": [
    "train_data=train_data[train_data['sumExternalDefault'] < 1000000]\n"
   ]
  },
  {
   "cell_type": "code",
   "execution_count": 14,
   "metadata": {},
   "outputs": [
    {
     "data": {
      "text/plain": [
       "customerID                 0\n",
       "sex                        0\n",
       "status                     0\n",
       "age                    20022\n",
       "externalScore           5634\n",
       "indSimin                   0\n",
       "indXlist                   0\n",
       "indCreditBureau            0\n",
       "indInternet                0\n",
       "indBadDebt                 0\n",
       "salary                     0\n",
       "numLoans              252922\n",
       "numMortgages          252922\n",
       "channel                    0\n",
       "indBadLocation             0\n",
       "previous                   0\n",
       "sumExternalDefault         0\n",
       "target                     0\n",
       "dtype: int64"
      ]
     },
     "execution_count": 14,
     "metadata": {},
     "output_type": "execute_result"
    }
   ],
   "source": [
    "train_data.isnull().sum()"
   ]
  },
  {
   "cell_type": "markdown",
   "metadata": {},
   "source": [
    "## Factors Plots "
   ]
  },
  {
   "cell_type": "markdown",
   "metadata": {},
   "source": [
    "Plotting factors Vs Target"
   ]
  },
  {
   "cell_type": "code",
   "execution_count": 15,
   "metadata": {
    "scrolled": false
   },
   "outputs": [
    {
     "data": {
      "image/png": "[encoded data removed]",
      "text/plain": [
       "<matplotlib.figure.Figure at 0x19084db4f60>"
      ]
     },
     "metadata": {},
     "output_type": "display_data"
    },
    {
     "data": {
      "image/png": "[encoded data removed]",
      "text/plain": [
       "<matplotlib.figure.Figure at 0x1908491be80>"
      ]
     },
     "metadata": {},
     "output_type": "display_data"
    },
    {
     "data": {
      "image/png": "[encoded data removed]",
      "text/plain": [
       "<matplotlib.figure.Figure at 0x190849914a8>"
      ]
     },
     "metadata": {},
     "output_type": "display_data"
    },
    {
     "data": {
      "image/png": "[encoded data removed]",
      "text/plain": [
       "<matplotlib.figure.Figure at 0x190849e0208>"
      ]
     },
     "metadata": {},
     "output_type": "display_data"
    },
    {
     "data": {
      "image/png": "[encoded data removed]",
      "text/plain": [
       "<matplotlib.figure.Figure at 0x19084a135f8>"
      ]
     },
     "metadata": {},
     "output_type": "display_data"
    },
    {
     "data": {
      "image/png": "[encoded data removed]",
      "text/plain": [
       "<matplotlib.figure.Figure at 0x19084a93278>"
      ]
     },
     "metadata": {},
     "output_type": "display_data"
    },
    {
     "data": {
      "image/png": "[encoded data removed]",
      "text/plain": [
       "<matplotlib.figure.Figure at 0x19084af8c18>"
      ]
     },
     "metadata": {},
     "output_type": "display_data"
    },
    {
     "data": {
      "image/png": "[encoded data removed]",
      "text/plain": [
       "<matplotlib.figure.Figure at 0x19084aecf28>"
      ]
     },
     "metadata": {},
     "output_type": "display_data"
    },
    {
     "data": {
      "image/png": "[encoded data removed]",
      "text/plain": [
       "<matplotlib.figure.Figure at 0x19084bc24a8>"
      ]
     },
     "metadata": {},
     "output_type": "display_data"
    },
    {
     "data": {
      "image/png": "[encoded data removed]",
      "text/plain": [
       "<matplotlib.figure.Figure at 0x19084c50438>"
      ]
     },
     "metadata": {},
     "output_type": "display_data"
    },
    {
     "data": {
      "image/png": "[encoded data removed]",
      "text/plain": [
       "<matplotlib.figure.Figure at 0x19084cb6358>"
      ]
     },
     "metadata": {},
     "output_type": "display_data"
    }
   ],
   "source": [
    "\n",
    "\n",
    "factorstoplot=['sex','status','indSimin','indXlist','indCreditBureau','indInternet','indBadDebt','indBadLocation','salary','channel', 'previous']\n",
    "for i in range(1,len(factorstoplot)+1):\n",
    "   \n",
    "    thisFactor=factorstoplot[i-1]\n",
    "    sumfactor=train_data.groupby([thisFactor]).target.count()\n",
    "    temp=pd.DataFrame(train_data.groupby([thisFactor]).target.value_counts()/sumfactor)\n",
    "    temp['t_type']=temp.index.get_level_values('target')\n",
    "    temp['source']=temp.index.get_level_values(thisFactor)\n",
    "    temp.columns=['n','t_type',thisFactor]\n",
    "    temp=temp.pivot(index=thisFactor, columns='t_type', values='n')\n",
    "    temp['tot']=temp.sum(axis=1)\n",
    "    temp.sort_values(by='tot', ascending=True)[[0,1]].plot(kind='barh', stacked='True', color=sns.color_palette(), fontsize=15,legend=False)\n",
    "    plt.legend( loc='upper right', bbox_to_anchor=(1.9, 0.5),fontsize=15)\n",
    "    plt.ylabel(thisFactor, fontsize=23)"
   ]
  },
  {
   "cell_type": "markdown",
   "metadata": {},
   "source": [
    "# Data Preprations"
   ]
  },
  {
   "cell_type": "markdown",
   "metadata": {},
   "source": [
    "## Combining Train and test data"
   ]
  },
  {
   "cell_type": "code",
   "execution_count": 39,
   "metadata": {
    "collapsed": true
   },
   "outputs": [],
   "source": [
    "#Drop target column to combine the training and the test dataset for further data preperation\n",
    "training_data=train_data.drop(['target'], axis=1)"
   ]
  },
  {
   "cell_type": "code",
   "execution_count": 136,
   "metadata": {
    "collapsed": true
   },
   "outputs": [],
   "source": [
    "#save the target values of the training in target_F\n",
    "target_F=train_data.target"
   ]
  },
  {
   "cell_type": "code",
   "execution_count": 41,
   "metadata": {},
   "outputs": [
    {
     "data": {
      "text/plain": [
       "customerID                 0\n",
       "sex                        0\n",
       "status                     0\n",
       "age                    20022\n",
       "externalScore           5634\n",
       "indSimin                   0\n",
       "indXlist                   0\n",
       "indCreditBureau            0\n",
       "indInternet                0\n",
       "indBadDebt                 0\n",
       "salary                     0\n",
       "numLoans              252922\n",
       "numMortgages          252922\n",
       "channel                    0\n",
       "indBadLocation             0\n",
       "previous                   0\n",
       "sumExternalDefault         0\n",
       "dtype: int64"
      ]
     },
     "execution_count": 41,
     "metadata": {},
     "output_type": "execute_result"
    }
   ],
   "source": [
    "training_data.isnull().sum()"
   ]
  },
  {
   "cell_type": "code",
   "execution_count": 57,
   "metadata": {
    "scrolled": false
   },
   "outputs": [
    {
     "name": "stdout",
     "output_type": "stream",
     "text": [
      "<class 'pandas.core.frame.DataFrame'>\n",
      "Int64Index: 694570 entries, 0 to 174312\n",
      "Data columns (total 17 columns):\n",
      "customerID            694570 non-null object\n",
      "sex                   694570 non-null object\n",
      "status                694570 non-null object\n",
      "age                   667076 non-null float64\n",
      "externalScore         686179 non-null float64\n",
      "indSimin              694570 non-null int64\n",
      "indXlist              694570 non-null int64\n",
      "indCreditBureau       694570 non-null int64\n",
      "indInternet           694570 non-null int64\n",
      "indBadDebt            694570 non-null int64\n",
      "salary                694570 non-null object\n",
      "numLoans              356269 non-null float64\n",
      "numMortgages          356269 non-null float64\n",
      "channel               694570 non-null object\n",
      "indBadLocation        694570 non-null int64\n",
      "previous              694570 non-null object\n",
      "sumExternalDefault    693695 non-null float64\n",
      "dtypes: float64(5), int64(6), object(6)\n",
      "memory usage: 95.4+ MB\n"
     ]
    }
   ],
   "source": [
    "combined_df=training_data.append(test)\n",
    "combined_df.info()"
   ]
  },
  {
   "cell_type": "markdown",
   "metadata": {},
   "source": [
    "### Normalizing Sum external default since it contains very too large numbers"
   ]
  },
  {
   "cell_type": "code",
   "execution_count": 58,
   "metadata": {
    "collapsed": true
   },
   "outputs": [],
   "source": [
    "combined_df.sumExternalDefault = combined_df.sumExternalDefault.apply(lambda x: np.log10(x+1))"
   ]
  },
  {
   "cell_type": "markdown",
   "metadata": {},
   "source": [
    "### Check Nulls Combined Dataset"
   ]
  },
  {
   "cell_type": "code",
   "execution_count": 44,
   "metadata": {},
   "outputs": [
    {
     "name": "stdout",
     "output_type": "stream",
     "text": [
      "<class 'pandas.core.frame.DataFrame'>\n",
      "Int64Index: 694570 entries, 0 to 174312\n",
      "Data columns (total 17 columns):\n",
      "customerID            694570 non-null object\n",
      "sex                   694570 non-null object\n",
      "status                694570 non-null object\n",
      "age                   667076 non-null float64\n",
      "externalScore         686179 non-null float64\n",
      "indSimin              694570 non-null int64\n",
      "indXlist              694570 non-null int64\n",
      "indCreditBureau       694570 non-null int64\n",
      "indInternet           694570 non-null int64\n",
      "indBadDebt            694570 non-null int64\n",
      "salary                694570 non-null object\n",
      "numLoans              356269 non-null float64\n",
      "numMortgages          356269 non-null float64\n",
      "channel               694570 non-null object\n",
      "indBadLocation        694570 non-null int64\n",
      "previous              694570 non-null object\n",
      "sumExternalDefault    693695 non-null float64\n",
      "dtypes: float64(5), int64(6), object(6)\n",
      "memory usage: 95.4+ MB\n"
     ]
    }
   ],
   "source": [
    "combined_df.info()"
   ]
  },
  {
   "cell_type": "code",
   "execution_count": 22,
   "metadata": {
    "scrolled": false
   },
   "outputs": [
    {
     "data": {
      "text/plain": [
       "customerID                 0\n",
       "sex                        0\n",
       "status                     0\n",
       "age                    27494\n",
       "externalScore           8391\n",
       "indSimin                   0\n",
       "indXlist                   0\n",
       "indCreditBureau            0\n",
       "indInternet                0\n",
       "indBadDebt                 0\n",
       "salary                     0\n",
       "numLoans              338301\n",
       "numMortgages          338301\n",
       "channel                    0\n",
       "indBadLocation             0\n",
       "previous                   0\n",
       "sumExternalDefault       875\n",
       "dtype: int64"
      ]
     },
     "execution_count": 22,
     "metadata": {},
     "output_type": "execute_result"
    }
   ],
   "source": [
    "combined_df.isnull().sum()"
   ]
  },
  {
   "cell_type": "markdown",
   "metadata": {},
   "source": [
    "### Check Nulls training_data and test data"
   ]
  },
  {
   "cell_type": "code",
   "execution_count": 23,
   "metadata": {},
   "outputs": [
    {
     "data": {
      "text/plain": [
       "customerID                 0\n",
       "sex                        0\n",
       "status                     0\n",
       "age                    20022\n",
       "externalScore           5634\n",
       "indSimin                   0\n",
       "indXlist                   0\n",
       "indCreditBureau            0\n",
       "indInternet                0\n",
       "indBadDebt                 0\n",
       "salary                     0\n",
       "numLoans              252922\n",
       "numMortgages          252922\n",
       "channel                    0\n",
       "indBadLocation             0\n",
       "previous                   0\n",
       "sumExternalDefault         0\n",
       "dtype: int64"
      ]
     },
     "execution_count": 23,
     "metadata": {},
     "output_type": "execute_result"
    }
   ],
   "source": [
    "training_data.isnull().sum()"
   ]
  },
  {
   "cell_type": "code",
   "execution_count": 24,
   "metadata": {
    "scrolled": true
   },
   "outputs": [
    {
     "data": {
      "text/plain": [
       "customerID                0\n",
       "sex                       0\n",
       "status                    0\n",
       "age                    7472\n",
       "externalScore          2757\n",
       "indSimin                  0\n",
       "indXlist                  0\n",
       "indCreditBureau           0\n",
       "indInternet               0\n",
       "indBadDebt                0\n",
       "salary                    0\n",
       "numLoans              85379\n",
       "numMortgages          85379\n",
       "channel                   0\n",
       "indBadLocation            0\n",
       "previous                  0\n",
       "sumExternalDefault      875\n",
       "dtype: int64"
      ]
     },
     "execution_count": 24,
     "metadata": {},
     "output_type": "execute_result"
    }
   ],
   "source": [
    "test.isnull().sum()"
   ]
  },
  {
   "cell_type": "markdown",
   "metadata": {},
   "source": [
    "### Check Columns Correlations"
   ]
  },
  {
   "cell_type": "code",
   "execution_count": 59,
   "metadata": {
    "collapsed": true
   },
   "outputs": [],
   "source": [
    "combined_df=combined_df.drop('customerID', 1)"
   ]
  },
  {
   "cell_type": "code",
   "execution_count": 60,
   "metadata": {
    "scrolled": false
   },
   "outputs": [
    {
     "data": {
      "text/plain": [
       "<matplotlib.axes._subplots.AxesSubplot at 0x19084ea7d30>"
      ]
     },
     "execution_count": 60,
     "metadata": {},
     "output_type": "execute_result"
    },
    {
     "data": {
      "image/png": "[encoded data removed]",
      "text/plain": [
       "<matplotlib.figure.Figure at 0x19084c2ee10>"
      ]
     },
     "metadata": {},
     "output_type": "display_data"
    }
   ],
   "source": [
    "sns.heatmap(combined_df.corr())\n",
    "\n"
   ]
  },
  {
   "cell_type": "code",
   "execution_count": 61,
   "metadata": {},
   "outputs": [
    {
     "data": {
      "text/plain": [
       "0.9304046860918287"
      ]
     },
     "execution_count": 61,
     "metadata": {},
     "output_type": "execute_result"
    }
   ],
   "source": [
    "combined_df['indBadDebt'].corr(combined_df['sumExternalDefault'])"
   ]
  },
  {
   "cell_type": "markdown",
   "metadata": {},
   "source": [
    "Obviously indbadDebt and Sum external default are strongly correlated and sumExternal default has nan in the test data so I will remove this column"
   ]
  },
  {
   "cell_type": "code",
   "execution_count": 62,
   "metadata": {
    "collapsed": true
   },
   "outputs": [],
   "source": [
    "combined_df=combined_df.drop('sumExternalDefault', 1)"
   ]
  },
  {
   "cell_type": "markdown",
   "metadata": {},
   "source": [
    "# Null Imputation"
   ]
  },
  {
   "cell_type": "markdown",
   "metadata": {},
   "source": [
    "### Loans and Mortages"
   ]
  },
  {
   "cell_type": "markdown",
   "metadata": {},
   "source": [
    "Create new variables to have the null imputation of the loans and mortages.<br>\n",
    "First by looking at the distribuation plots I decided to transform these value into categories as follows.<br>\n",
    "Secondly leaving the numLoans and numMoratgaes column as they are while impute NA as -1 and test result using different features"
   ]
  },
  {
   "cell_type": "code",
   "execution_count": 63,
   "metadata": {
    "collapsed": true
   },
   "outputs": [],
   "source": [
    "combined_df[\"loans\"]=combined_df[\"numLoans\"]\n",
    "combined_df[\"Mortgages\"]=combined_df[\"numMortgages\"]"
   ]
  },
  {
   "cell_type": "code",
   "execution_count": 64,
   "metadata": {
    "collapsed": true
   },
   "outputs": [],
   "source": [
    "combined_df.loc[combined_df.numLoans.isnull(),'loans']='Unknown'\n",
    "combined_df.loc[combined_df.numLoans==0,'loans']='No Loans'\n",
    "combined_df.loc[combined_df.numLoans==1,'loans']='1'\n",
    "combined_df.loc[combined_df.numLoans==2,'loans']='2'\n",
    "combined_df.loc[combined_df.numLoans==3,'loans']='3'\n",
    "combined_df.loc[combined_df.numLoans==4,'loans']='4'\n",
    "combined_df.loc[combined_df.numLoans>4,'loans']='>4'"
   ]
  },
  {
   "cell_type": "code",
   "execution_count": 65,
   "metadata": {
    "collapsed": true
   },
   "outputs": [],
   "source": [
    "combined_df.loc[combined_df.numMortgages.isnull(),'Mortgages']='Unknown'\n",
    "combined_df.loc[combined_df.numMortgages==0,'Mortgages']='No Mortgages'\n",
    "combined_df.loc[combined_df.numMortgages==1,'Mortgages']='1'\n",
    "combined_df.loc[combined_df.numMortgages>1,'Mortgages']='>1'"
   ]
  },
  {
   "cell_type": "markdown",
   "metadata": {
    "collapsed": true
   },
   "source": [
    "combined_df.loc[combined_df[\"numLoans\"].isnull(),'numLoans']=-1\n",
    "combined_df.loc[combined_df[\"numMortgages\"].isnull(),'numMortgages']=-1"
   ]
  },
  {
   "cell_type": "code",
   "execution_count": 53,
   "metadata": {
    "collapsed": true
   },
   "outputs": [],
   "source": [
    "combined_df['age_binned'] = pd.cut(combined_df['age'], [10, 20, 30,40,50,60,70,80,120], labels=['10-20', '20-30', '30-40','40-50','50-60','60-70','70-80','>80'])"
   ]
  },
  {
   "cell_type": "code",
   "execution_count": 66,
   "metadata": {
    "scrolled": false
   },
   "outputs": [
    {
     "data": {
      "text/plain": [
       "sex                     0\n",
       "status                  0\n",
       "age                 27494\n",
       "externalScore        8391\n",
       "indSimin                0\n",
       "indXlist                0\n",
       "indCreditBureau         0\n",
       "indInternet             0\n",
       "indBadDebt              0\n",
       "salary                  0\n",
       "numLoans           338301\n",
       "numMortgages       338301\n",
       "channel                 0\n",
       "indBadLocation          0\n",
       "previous                0\n",
       "loans                   0\n",
       "Mortgages               0\n",
       "dtype: int64"
      ]
     },
     "execution_count": 66,
     "metadata": {},
     "output_type": "execute_result"
    }
   ],
   "source": [
    "combined_df.isnull().sum()"
   ]
  },
  {
   "cell_type": "markdown",
   "metadata": {},
   "source": [
    "### Encode  Categorical Variable"
   ]
  },
  {
   "cell_type": "code",
   "execution_count": 68,
   "metadata": {
    "collapsed": true
   },
   "outputs": [],
   "source": [
    "factorschange=[x for x in combined_df.columns if x in ['sex','status','channel','previous', 'salary','Mortgages','loans']]\n",
    "\n",
    "\n",
    "\n",
    "for factor in factorschange:\n",
    "    # names to numbers\n",
    "    combined_df[factor] = preprocessing.LabelEncoder().fit_transform(combined_df[factor].astype(str))"
   ]
  },
  {
   "cell_type": "code",
   "execution_count": 69,
   "metadata": {
    "collapsed": true
   },
   "outputs": [],
   "source": [
    "combined_df= combined_df.drop(['numLoans','numMortgages'], axis = 1)"
   ]
  },
  {
   "cell_type": "code",
   "execution_count": 77,
   "metadata": {
    "scrolled": true
   },
   "outputs": [
    {
     "ename": "MemoryError",
     "evalue": "",
     "output_type": "error",
     "traceback": [
      "\u001b[1;31m---------------------------------------------------------------------------\u001b[0m",
      "\u001b[1;31mMemoryError\u001b[0m                               Traceback (most recent call last)",
      "\u001b[1;32m<ipython-input-77-dee836ac4b42>\u001b[0m in \u001b[0;36m<module>\u001b[1;34m()\u001b[0m\n\u001b[1;32m----> 1\u001b[1;33m \u001b[0mcombined_df__knn\u001b[0m \u001b[1;33m=\u001b[0m \u001b[0mKNN\u001b[0m\u001b[1;33m(\u001b[0m\u001b[0mk\u001b[0m\u001b[1;33m=\u001b[0m\u001b[1;36m3\u001b[0m\u001b[1;33m)\u001b[0m\u001b[1;33m.\u001b[0m\u001b[0mcomplete\u001b[0m\u001b[1;33m(\u001b[0m\u001b[0mcombined_df\u001b[0m\u001b[1;33m)\u001b[0m\u001b[1;33m\u001b[0m\u001b[0m\n\u001b[0m\u001b[0;32m      2\u001b[0m \u001b[1;33m\u001b[0m\u001b[0m\n\u001b[0;32m      3\u001b[0m \u001b[1;31m# matrix completion using convex optimization to find low-rank solution\u001b[0m\u001b[1;33m\u001b[0m\u001b[1;33m\u001b[0m\u001b[0m\n\u001b[0;32m      4\u001b[0m \u001b[1;31m# that still matches observed values. Slow!\u001b[0m\u001b[1;33m\u001b[0m\u001b[1;33m\u001b[0m\u001b[0m\n\u001b[0;32m      5\u001b[0m \u001b[0mcombined_df_nnm\u001b[0m \u001b[1;33m=\u001b[0m \u001b[0mNuclearNormMinimization\u001b[0m\u001b[1;33m(\u001b[0m\u001b[1;33m)\u001b[0m\u001b[1;33m.\u001b[0m\u001b[0mcomplete\u001b[0m\u001b[1;33m(\u001b[0m\u001b[0mcombined_df\u001b[0m\u001b[1;33m)\u001b[0m\u001b[1;33m\u001b[0m\u001b[0m\n",
      "\u001b[1;32m~\\Anaconda3\\lib\\site-packages\\fancyimpute\\solver.py\u001b[0m in \u001b[0;36mcomplete\u001b[1;34m(self, X)\u001b[0m\n\u001b[0;32m    195\u001b[0m         \u001b[0mReturns\u001b[0m \u001b[0mcompleted\u001b[0m \u001b[0mmatrix\u001b[0m \u001b[0mwithout\u001b[0m \u001b[0many\u001b[0m \u001b[0mNaNs\u001b[0m\u001b[1;33m.\u001b[0m\u001b[1;33m\u001b[0m\u001b[0m\n\u001b[0;32m    196\u001b[0m         \"\"\"\n\u001b[1;32m--> 197\u001b[1;33m         \u001b[0mimputations\u001b[0m \u001b[1;33m=\u001b[0m \u001b[0mself\u001b[0m\u001b[1;33m.\u001b[0m\u001b[0mmultiple_imputations\u001b[0m\u001b[1;33m(\u001b[0m\u001b[0mX\u001b[0m\u001b[1;33m)\u001b[0m\u001b[1;33m\u001b[0m\u001b[0m\n\u001b[0m\u001b[0;32m    198\u001b[0m         \u001b[1;32mif\u001b[0m \u001b[0mlen\u001b[0m\u001b[1;33m(\u001b[0m\u001b[0mimputations\u001b[0m\u001b[1;33m)\u001b[0m \u001b[1;33m==\u001b[0m \u001b[1;36m1\u001b[0m\u001b[1;33m:\u001b[0m\u001b[1;33m\u001b[0m\u001b[0m\n\u001b[0;32m    199\u001b[0m             \u001b[1;32mreturn\u001b[0m \u001b[0mimputations\u001b[0m\u001b[1;33m[\u001b[0m\u001b[1;36m0\u001b[0m\u001b[1;33m]\u001b[0m\u001b[1;33m\u001b[0m\u001b[0m\n",
      "\u001b[1;32m~\\Anaconda3\\lib\\site-packages\\fancyimpute\\solver.py\u001b[0m in \u001b[0;36mmultiple_imputations\u001b[1;34m(self, X)\u001b[0m\n\u001b[0;32m    187\u001b[0m         \u001b[0mGenerate\u001b[0m \u001b[0mmultiple\u001b[0m \u001b[0mimputations\u001b[0m \u001b[0mof\u001b[0m \u001b[0mthe\u001b[0m \u001b[0msame\u001b[0m \u001b[0mincomplete\u001b[0m \u001b[0mmatrix\u001b[0m\u001b[1;33m\u001b[0m\u001b[0m\n\u001b[0;32m    188\u001b[0m         \"\"\"\n\u001b[1;32m--> 189\u001b[1;33m         \u001b[1;32mreturn\u001b[0m \u001b[1;33m[\u001b[0m\u001b[0mself\u001b[0m\u001b[1;33m.\u001b[0m\u001b[0msingle_imputation\u001b[0m\u001b[1;33m(\u001b[0m\u001b[0mX\u001b[0m\u001b[1;33m)\u001b[0m \u001b[1;32mfor\u001b[0m \u001b[0m_\u001b[0m \u001b[1;32min\u001b[0m \u001b[0mrange\u001b[0m\u001b[1;33m(\u001b[0m\u001b[0mself\u001b[0m\u001b[1;33m.\u001b[0m\u001b[0mn_imputations\u001b[0m\u001b[1;33m)\u001b[0m\u001b[1;33m]\u001b[0m\u001b[1;33m\u001b[0m\u001b[0m\n\u001b[0m\u001b[0;32m    190\u001b[0m \u001b[1;33m\u001b[0m\u001b[0m\n\u001b[0;32m    191\u001b[0m     \u001b[1;32mdef\u001b[0m \u001b[0mcomplete\u001b[0m\u001b[1;33m(\u001b[0m\u001b[0mself\u001b[0m\u001b[1;33m,\u001b[0m \u001b[0mX\u001b[0m\u001b[1;33m)\u001b[0m\u001b[1;33m:\u001b[0m\u001b[1;33m\u001b[0m\u001b[0m\n",
      "\u001b[1;32m~\\Anaconda3\\lib\\site-packages\\fancyimpute\\solver.py\u001b[0m in \u001b[0;36m<listcomp>\u001b[1;34m(.0)\u001b[0m\n\u001b[0;32m    187\u001b[0m         \u001b[0mGenerate\u001b[0m \u001b[0mmultiple\u001b[0m \u001b[0mimputations\u001b[0m \u001b[0mof\u001b[0m \u001b[0mthe\u001b[0m \u001b[0msame\u001b[0m \u001b[0mincomplete\u001b[0m \u001b[0mmatrix\u001b[0m\u001b[1;33m\u001b[0m\u001b[0m\n\u001b[0;32m    188\u001b[0m         \"\"\"\n\u001b[1;32m--> 189\u001b[1;33m         \u001b[1;32mreturn\u001b[0m \u001b[1;33m[\u001b[0m\u001b[0mself\u001b[0m\u001b[1;33m.\u001b[0m\u001b[0msingle_imputation\u001b[0m\u001b[1;33m(\u001b[0m\u001b[0mX\u001b[0m\u001b[1;33m)\u001b[0m \u001b[1;32mfor\u001b[0m \u001b[0m_\u001b[0m \u001b[1;32min\u001b[0m \u001b[0mrange\u001b[0m\u001b[1;33m(\u001b[0m\u001b[0mself\u001b[0m\u001b[1;33m.\u001b[0m\u001b[0mn_imputations\u001b[0m\u001b[1;33m)\u001b[0m\u001b[1;33m]\u001b[0m\u001b[1;33m\u001b[0m\u001b[0m\n\u001b[0m\u001b[0;32m    190\u001b[0m \u001b[1;33m\u001b[0m\u001b[0m\n\u001b[0;32m    191\u001b[0m     \u001b[1;32mdef\u001b[0m \u001b[0mcomplete\u001b[0m\u001b[1;33m(\u001b[0m\u001b[0mself\u001b[0m\u001b[1;33m,\u001b[0m \u001b[0mX\u001b[0m\u001b[1;33m)\u001b[0m\u001b[1;33m:\u001b[0m\u001b[1;33m\u001b[0m\u001b[0m\n",
      "\u001b[1;32m~\\Anaconda3\\lib\\site-packages\\fancyimpute\\solver.py\u001b[0m in \u001b[0;36msingle_imputation\u001b[1;34m(self, X)\u001b[0m\n\u001b[0;32m    172\u001b[0m                     type(X_filled)))\n\u001b[0;32m    173\u001b[0m \u001b[1;33m\u001b[0m\u001b[0m\n\u001b[1;32m--> 174\u001b[1;33m         \u001b[0mX_result\u001b[0m \u001b[1;33m=\u001b[0m \u001b[0mself\u001b[0m\u001b[1;33m.\u001b[0m\u001b[0msolve\u001b[0m\u001b[1;33m(\u001b[0m\u001b[0mX_filled\u001b[0m\u001b[1;33m,\u001b[0m \u001b[0mmissing_mask\u001b[0m\u001b[1;33m)\u001b[0m\u001b[1;33m\u001b[0m\u001b[0m\n\u001b[0m\u001b[0;32m    175\u001b[0m         \u001b[1;32mif\u001b[0m \u001b[1;32mnot\u001b[0m \u001b[0misinstance\u001b[0m\u001b[1;33m(\u001b[0m\u001b[0mX_result\u001b[0m\u001b[1;33m,\u001b[0m \u001b[0mnp\u001b[0m\u001b[1;33m.\u001b[0m\u001b[0mndarray\u001b[0m\u001b[1;33m)\u001b[0m\u001b[1;33m:\u001b[0m\u001b[1;33m\u001b[0m\u001b[0m\n\u001b[0;32m    176\u001b[0m             raise TypeError(\n",
      "\u001b[1;32m~\\Anaconda3\\lib\\site-packages\\fancyimpute\\knn.py\u001b[0m in \u001b[0;36msolve\u001b[1;34m(self, X, missing_mask)\u001b[0m\n\u001b[0;32m     98\u001b[0m             \u001b[0mk\u001b[0m\u001b[1;33m=\u001b[0m\u001b[0mself\u001b[0m\u001b[1;33m.\u001b[0m\u001b[0mk\u001b[0m\u001b[1;33m,\u001b[0m\u001b[1;33m\u001b[0m\u001b[0m\n\u001b[0;32m     99\u001b[0m             \u001b[0mverbose\u001b[0m\u001b[1;33m=\u001b[0m\u001b[0mself\u001b[0m\u001b[1;33m.\u001b[0m\u001b[0mverbose\u001b[0m\u001b[1;33m,\u001b[0m\u001b[1;33m\u001b[0m\u001b[0m\n\u001b[1;32m--> 100\u001b[1;33m             print_interval=self.print_interval)\n\u001b[0m\u001b[0;32m    101\u001b[0m \u001b[1;33m\u001b[0m\u001b[0m\n\u001b[0;32m    102\u001b[0m         \u001b[0mfailed_to_impute\u001b[0m \u001b[1;33m=\u001b[0m \u001b[0mnp\u001b[0m\u001b[1;33m.\u001b[0m\u001b[0misnan\u001b[0m\u001b[1;33m(\u001b[0m\u001b[0mX_imputed\u001b[0m\u001b[1;33m)\u001b[0m\u001b[1;33m\u001b[0m\u001b[0m\n",
      "\u001b[1;32m~\\Anaconda3\\lib\\site-packages\\knnimpute\\few_observed_entries.py\u001b[0m in \u001b[0;36mknn_impute_few_observed\u001b[1;34m(X, missing_mask, k, verbose, print_interval)\u001b[0m\n\u001b[0;32m     49\u001b[0m     \u001b[0mX_column_major\u001b[0m \u001b[1;33m=\u001b[0m \u001b[0mX\u001b[0m\u001b[1;33m.\u001b[0m\u001b[0mcopy\u001b[0m\u001b[1;33m(\u001b[0m\u001b[0morder\u001b[0m\u001b[1;33m=\u001b[0m\u001b[1;34m\"F\"\u001b[0m\u001b[1;33m)\u001b[0m\u001b[1;33m\u001b[0m\u001b[0m\n\u001b[0;32m     50\u001b[0m     \u001b[0mX_row_major\u001b[0m\u001b[1;33m,\u001b[0m \u001b[0mD\u001b[0m\u001b[1;33m,\u001b[0m \u001b[0meffective_infinity\u001b[0m \u001b[1;33m=\u001b[0m\u001b[0;31m \u001b[0m\u001b[0;31m\\\u001b[0m\u001b[1;33m\u001b[0m\u001b[0m\n\u001b[1;32m---> 51\u001b[1;33m         \u001b[0mknn_initialize\u001b[0m\u001b[1;33m(\u001b[0m\u001b[0mX\u001b[0m\u001b[1;33m,\u001b[0m \u001b[0mmissing_mask\u001b[0m\u001b[1;33m,\u001b[0m \u001b[0mverbose\u001b[0m\u001b[1;33m=\u001b[0m\u001b[0mverbose\u001b[0m\u001b[1;33m)\u001b[0m\u001b[1;33m\u001b[0m\u001b[0m\n\u001b[0m\u001b[0;32m     52\u001b[0m     \u001b[1;31m# get rid of infinities, replace them with a very large number\u001b[0m\u001b[1;33m\u001b[0m\u001b[1;33m\u001b[0m\u001b[0m\n\u001b[0;32m     53\u001b[0m     \u001b[0mD_sorted\u001b[0m \u001b[1;33m=\u001b[0m \u001b[0mnp\u001b[0m\u001b[1;33m.\u001b[0m\u001b[0margsort\u001b[0m\u001b[1;33m(\u001b[0m\u001b[0mD\u001b[0m\u001b[1;33m,\u001b[0m \u001b[0maxis\u001b[0m\u001b[1;33m=\u001b[0m\u001b[1;36m1\u001b[0m\u001b[1;33m)\u001b[0m\u001b[1;33m\u001b[0m\u001b[0m\n",
      "\u001b[1;32m~\\Anaconda3\\lib\\site-packages\\knnimpute\\common.py\u001b[0m in \u001b[0;36mknn_initialize\u001b[1;34m(X, missing_mask, verbose, min_dist, max_dist_multiplier)\u001b[0m\n\u001b[0;32m     37\u001b[0m         \u001b[1;31m# to put NaN's back in the data matrix for the distances function\u001b[0m\u001b[1;33m\u001b[0m\u001b[1;33m\u001b[0m\u001b[0m\n\u001b[0;32m     38\u001b[0m         \u001b[0mX_row_major\u001b[0m\u001b[1;33m[\u001b[0m\u001b[0mmissing_mask\u001b[0m\u001b[1;33m]\u001b[0m \u001b[1;33m=\u001b[0m \u001b[0mnp\u001b[0m\u001b[1;33m.\u001b[0m\u001b[0mnan\u001b[0m\u001b[1;33m\u001b[0m\u001b[0m\n\u001b[1;32m---> 39\u001b[1;33m     \u001b[0mD\u001b[0m \u001b[1;33m=\u001b[0m \u001b[0mall_pairs_normalized_distances\u001b[0m\u001b[1;33m(\u001b[0m\u001b[0mX_row_major\u001b[0m\u001b[1;33m)\u001b[0m\u001b[1;33m\u001b[0m\u001b[0m\n\u001b[0m\u001b[0;32m     40\u001b[0m     \u001b[0mD_finite_flat\u001b[0m \u001b[1;33m=\u001b[0m \u001b[0mD\u001b[0m\u001b[1;33m[\u001b[0m\u001b[0mnp\u001b[0m\u001b[1;33m.\u001b[0m\u001b[0misfinite\u001b[0m\u001b[1;33m(\u001b[0m\u001b[0mD\u001b[0m\u001b[1;33m)\u001b[0m\u001b[1;33m]\u001b[0m\u001b[1;33m\u001b[0m\u001b[0m\n\u001b[0;32m     41\u001b[0m     \u001b[1;32mif\u001b[0m \u001b[0mlen\u001b[0m\u001b[1;33m(\u001b[0m\u001b[0mD_finite_flat\u001b[0m\u001b[1;33m)\u001b[0m \u001b[1;33m>\u001b[0m \u001b[1;36m0\u001b[0m\u001b[1;33m:\u001b[0m\u001b[1;33m\u001b[0m\u001b[0m\n",
      "\u001b[1;32m~\\Anaconda3\\lib\\site-packages\\knnimpute\\normalized_distance.py\u001b[0m in \u001b[0;36mall_pairs_normalized_distances\u001b[1;34m(X)\u001b[0m\n\u001b[0;32m     36\u001b[0m \u001b[1;33m\u001b[0m\u001b[0m\n\u001b[0;32m     37\u001b[0m     \u001b[1;31m# matrix of mean squared difference between between samples\u001b[0m\u001b[1;33m\u001b[0m\u001b[1;33m\u001b[0m\u001b[0m\n\u001b[1;32m---> 38\u001b[1;33m     \u001b[0mD\u001b[0m \u001b[1;33m=\u001b[0m \u001b[0mnp\u001b[0m\u001b[1;33m.\u001b[0m\u001b[0mones\u001b[0m\u001b[1;33m(\u001b[0m\u001b[1;33m(\u001b[0m\u001b[0mn_rows\u001b[0m\u001b[1;33m,\u001b[0m \u001b[0mn_rows\u001b[0m\u001b[1;33m)\u001b[0m\u001b[1;33m,\u001b[0m \u001b[0mdtype\u001b[0m\u001b[1;33m=\u001b[0m\u001b[1;34m\"float32\"\u001b[0m\u001b[1;33m,\u001b[0m \u001b[0morder\u001b[0m\u001b[1;33m=\u001b[0m\u001b[1;34m\"C\"\u001b[0m\u001b[1;33m)\u001b[0m \u001b[1;33m*\u001b[0m \u001b[0mnp\u001b[0m\u001b[1;33m.\u001b[0m\u001b[0minf\u001b[0m\u001b[1;33m\u001b[0m\u001b[0m\n\u001b[0m\u001b[0;32m     39\u001b[0m \u001b[1;33m\u001b[0m\u001b[0m\n\u001b[0;32m     40\u001b[0m     \u001b[1;31m# we can cheaply determine the number of columns that two rows share\u001b[0m\u001b[1;33m\u001b[0m\u001b[1;33m\u001b[0m\u001b[0m\n",
      "\u001b[1;32m~\\Anaconda3\\lib\\site-packages\\numpy\\core\\numeric.py\u001b[0m in \u001b[0;36mones\u001b[1;34m(shape, dtype, order)\u001b[0m\n\u001b[0;32m    186\u001b[0m \u001b[1;33m\u001b[0m\u001b[0m\n\u001b[0;32m    187\u001b[0m     \"\"\"\n\u001b[1;32m--> 188\u001b[1;33m     \u001b[0ma\u001b[0m \u001b[1;33m=\u001b[0m \u001b[0mempty\u001b[0m\u001b[1;33m(\u001b[0m\u001b[0mshape\u001b[0m\u001b[1;33m,\u001b[0m \u001b[0mdtype\u001b[0m\u001b[1;33m,\u001b[0m \u001b[0morder\u001b[0m\u001b[1;33m)\u001b[0m\u001b[1;33m\u001b[0m\u001b[0m\n\u001b[0m\u001b[0;32m    189\u001b[0m     \u001b[0mmultiarray\u001b[0m\u001b[1;33m.\u001b[0m\u001b[0mcopyto\u001b[0m\u001b[1;33m(\u001b[0m\u001b[0ma\u001b[0m\u001b[1;33m,\u001b[0m \u001b[1;36m1\u001b[0m\u001b[1;33m,\u001b[0m \u001b[0mcasting\u001b[0m\u001b[1;33m=\u001b[0m\u001b[1;34m'unsafe'\u001b[0m\u001b[1;33m)\u001b[0m\u001b[1;33m\u001b[0m\u001b[0m\n\u001b[0;32m    190\u001b[0m     \u001b[1;32mreturn\u001b[0m \u001b[0ma\u001b[0m\u001b[1;33m\u001b[0m\u001b[0m\n",
      "\u001b[1;31mMemoryError\u001b[0m: "
     ]
    }
   ],
   "source": [
    "combined_df__knn = KNN(k=3).complete(combined_df)\n",
    "\n",
    "# matrix completion using convex optimization to find low-rank solution\n",
    "# that still matches observed values. Slow!\n",
    "combined_df_nnm = NuclearNormMinimization().complete(combined_df)\n",
    "\n",
    "# Instead of solving the nuclear norm objective directly, instead\n",
    "# induce sparsity using singular value thresholding\n",
    "combined_df_softimpute = SoftImpute().complete(combined_df)\n",
    "\n",
    "combined_df_SVD = pd.DataFrame(IterativeSVD().complete(combined_df))\n",
    "\n",
    "# print mean squared error for the three imputation methods above\n",
    "nnm_mse = ((combined_df_nnm[missing_mask] - combined_df[missing_mask]) ** 2).mean()\n",
    "print(\"Nuclear norm minimization MSE: %f\" % nnm_mse)\n",
    "\n",
    "softImpute_mse = ((combined_df_softimpute[missing_mask] - combined_df[missing_mask]) ** 2).mean()\n",
    "print(\"SoftImpute MSE: %f\" % softImpute_mse)\n",
    "\n",
    "knn_mse = ((combined_df_knn[missing_mask] - combined_df[missing_mask]) ** 2).mean()\n",
    "print(\"knnImpute MSE: %f\" % knn_mse)"
   ]
  },
  {
   "cell_type": "code",
   "execution_count": 73,
   "metadata": {
    "collapsed": true
   },
   "outputs": [
    {
     "name": "stdout",
     "output_type": "stream",
     "text": [
      "[IterativeSVD] Iter 1: observed MAE=1.618422\n"
     ]
    },
    {
     "name": "stderr",
     "output_type": "stream",
     "text": [
      "C:\\Users\\ysami\\Anaconda3\\lib\\site-packages\\fancyimpute\\iterative_svd.py:53: RuntimeWarning: divide by zero encountered in double_scalars\n",
      "  return (ssd / old_norm_squared) < self.convergence_threshold\n"
     ]
    },
    {
     "name": "stdout",
     "output_type": "stream",
     "text": [
      "[IterativeSVD] Iter 2: observed MAE=0.663036\n",
      "[IterativeSVD] Iter 3: observed MAE=0.318733\n"
     ]
    }
   ],
   "source": []
  },
  {
   "cell_type": "code",
   "execution_count": null,
   "metadata": {
    "collapsed": true
   },
   "outputs": [],
   "source": []
  },
  {
   "cell_type": "markdown",
   "metadata": {},
   "source": [
    "### Impute null in ages "
   ]
  },
  {
   "cell_type": "markdown",
   "metadata": {},
   "source": [
    "Obviously external score has no effect on ages so i will remove it from the training set"
   ]
  },
  {
   "cell_type": "markdown",
   "metadata": {},
   "source": [
    "Create a new column for predictions of age using imputation models"
   ]
  },
  {
   "cell_type": "code",
   "execution_count": 56,
   "metadata": {
    "collapsed": true
   },
   "outputs": [],
   "source": [
    "combined_df['predAge']=combined_df['age']"
   ]
  },
  {
   "cell_type": "markdown",
   "metadata": {},
   "source": [
    "Create a feature dataset that has non null in age to use it for training"
   ]
  },
  {
   "cell_type": "code",
   "execution_count": 85,
   "metadata": {},
   "outputs": [],
   "source": [
    "features=combined_df\n",
    "#target = features['age']\n",
    "\n",
    "# Remove the labels from the features\n",
    "# axis 1 refers to the columns\n",
    "features= features.drop(['externalScore'], axis = 1)\n",
    "#X_train, X_test, y_train, y_test = train_test_split(features, target, test_size = 0.1, random_state = 42)\n"
   ]
  },
  {
   "cell_type": "code",
   "execution_count": 89,
   "metadata": {
    "scrolled": true
   },
   "outputs": [
    {
     "name": "stdout",
     "output_type": "stream",
     "text": [
      "<class 'pandas.core.frame.DataFrame'>\n",
      "Int64Index: 694570 entries, 0 to 174312\n",
      "Data columns (total 14 columns):\n",
      "sex                694570 non-null int64\n",
      "status             694570 non-null int64\n",
      "age                667076 non-null float64\n",
      "indSimin           694570 non-null int64\n",
      "indXlist           694570 non-null int64\n",
      "indCreditBureau    694570 non-null int64\n",
      "indInternet        694570 non-null int64\n",
      "indBadDebt         694570 non-null int64\n",
      "salary             694570 non-null int64\n",
      "channel            694570 non-null int64\n",
      "indBadLocation     694570 non-null int64\n",
      "previous           694570 non-null int64\n",
      "loans              694570 non-null int64\n",
      "Mortgages          694570 non-null int64\n",
      "dtypes: float64(1), int64(13)\n",
      "memory usage: 79.5 MB\n"
     ]
    }
   ],
   "source": [
    "features.info()"
   ]
  },
  {
   "cell_type": "code",
   "execution_count": 116,
   "metadata": {},
   "outputs": [],
   "source": [
    "df = pd.DataFrame(pred_age_df_MICE)"
   ]
  },
  {
   "cell_type": "code",
   "execution_count": 117,
   "metadata": {
    "collapsed": true
   },
   "outputs": [
    {
     "data": {
      "text/html": [
       "<div>\n",
       "<style>\n",
       "    .dataframe thead tr:only-child th {\n",
       "        text-align: right;\n",
       "    }\n",
       "\n",
       "    .dataframe thead th {\n",
       "        text-align: left;\n",
       "    }\n",
       "\n",
       "    .dataframe tbody tr th {\n",
       "        vertical-align: top;\n",
       "    }\n",
       "</style>\n",
       "<table border=\"1\" class=\"dataframe\">\n",
       "  <thead>\n",
       "    <tr style=\"text-align: right;\">\n",
       "      <th></th>\n",
       "      <th>0</th>\n",
       "      <th>1</th>\n",
       "      <th>2</th>\n",
       "      <th>3</th>\n",
       "      <th>4</th>\n",
       "      <th>5</th>\n",
       "      <th>6</th>\n",
       "      <th>7</th>\n",
       "      <th>8</th>\n",
       "      <th>9</th>\n",
       "      <th>10</th>\n",
       "      <th>11</th>\n",
       "      <th>12</th>\n",
       "      <th>13</th>\n",
       "    </tr>\n",
       "  </thead>\n",
       "  <tbody>\n",
       "    <tr>\n",
       "      <th>0</th>\n",
       "      <td>0.0</td>\n",
       "      <td>2.0</td>\n",
       "      <td>23.000000</td>\n",
       "      <td>0.0</td>\n",
       "      <td>0.0</td>\n",
       "      <td>0.0</td>\n",
       "      <td>1.0</td>\n",
       "      <td>1.0</td>\n",
       "      <td>5.0</td>\n",
       "      <td>3.0</td>\n",
       "      <td>0.0</td>\n",
       "      <td>1.0</td>\n",
       "      <td>6.0</td>\n",
       "      <td>3.0</td>\n",
       "    </tr>\n",
       "    <tr>\n",
       "      <th>1</th>\n",
       "      <td>1.0</td>\n",
       "      <td>2.0</td>\n",
       "      <td>27.000000</td>\n",
       "      <td>1.0</td>\n",
       "      <td>0.0</td>\n",
       "      <td>0.0</td>\n",
       "      <td>1.0</td>\n",
       "      <td>0.0</td>\n",
       "      <td>7.0</td>\n",
       "      <td>3.0</td>\n",
       "      <td>0.0</td>\n",
       "      <td>3.0</td>\n",
       "      <td>0.0</td>\n",
       "      <td>2.0</td>\n",
       "    </tr>\n",
       "    <tr>\n",
       "      <th>2</th>\n",
       "      <td>1.0</td>\n",
       "      <td>2.0</td>\n",
       "      <td>28.000000</td>\n",
       "      <td>0.0</td>\n",
       "      <td>0.0</td>\n",
       "      <td>0.0</td>\n",
       "      <td>1.0</td>\n",
       "      <td>0.0</td>\n",
       "      <td>7.0</td>\n",
       "      <td>3.0</td>\n",
       "      <td>0.0</td>\n",
       "      <td>3.0</td>\n",
       "      <td>1.0</td>\n",
       "      <td>2.0</td>\n",
       "    </tr>\n",
       "    <tr>\n",
       "      <th>3</th>\n",
       "      <td>1.0</td>\n",
       "      <td>2.0</td>\n",
       "      <td>45.000000</td>\n",
       "      <td>0.0</td>\n",
       "      <td>0.0</td>\n",
       "      <td>0.0</td>\n",
       "      <td>0.0</td>\n",
       "      <td>0.0</td>\n",
       "      <td>5.0</td>\n",
       "      <td>2.0</td>\n",
       "      <td>0.0</td>\n",
       "      <td>4.0</td>\n",
       "      <td>0.0</td>\n",
       "      <td>2.0</td>\n",
       "    </tr>\n",
       "    <tr>\n",
       "      <th>4</th>\n",
       "      <td>0.0</td>\n",
       "      <td>3.0</td>\n",
       "      <td>27.643119</td>\n",
       "      <td>0.0</td>\n",
       "      <td>0.0</td>\n",
       "      <td>0.0</td>\n",
       "      <td>1.0</td>\n",
       "      <td>0.0</td>\n",
       "      <td>2.0</td>\n",
       "      <td>3.0</td>\n",
       "      <td>0.0</td>\n",
       "      <td>1.0</td>\n",
       "      <td>6.0</td>\n",
       "      <td>3.0</td>\n",
       "    </tr>\n",
       "    <tr>\n",
       "      <th>5</th>\n",
       "      <td>0.0</td>\n",
       "      <td>2.0</td>\n",
       "      <td>47.000000</td>\n",
       "      <td>0.0</td>\n",
       "      <td>0.0</td>\n",
       "      <td>0.0</td>\n",
       "      <td>0.0</td>\n",
       "      <td>1.0</td>\n",
       "      <td>7.0</td>\n",
       "      <td>3.0</td>\n",
       "      <td>0.0</td>\n",
       "      <td>2.0</td>\n",
       "      <td>6.0</td>\n",
       "      <td>3.0</td>\n",
       "    </tr>\n",
       "    <tr>\n",
       "      <th>6</th>\n",
       "      <td>0.0</td>\n",
       "      <td>1.0</td>\n",
       "      <td>52.000000</td>\n",
       "      <td>0.0</td>\n",
       "      <td>0.0</td>\n",
       "      <td>0.0</td>\n",
       "      <td>1.0</td>\n",
       "      <td>0.0</td>\n",
       "      <td>5.0</td>\n",
       "      <td>5.0</td>\n",
       "      <td>0.0</td>\n",
       "      <td>1.0</td>\n",
       "      <td>6.0</td>\n",
       "      <td>3.0</td>\n",
       "    </tr>\n",
       "    <tr>\n",
       "      <th>7</th>\n",
       "      <td>1.0</td>\n",
       "      <td>1.0</td>\n",
       "      <td>58.000000</td>\n",
       "      <td>0.0</td>\n",
       "      <td>0.0</td>\n",
       "      <td>0.0</td>\n",
       "      <td>0.0</td>\n",
       "      <td>0.0</td>\n",
       "      <td>8.0</td>\n",
       "      <td>1.0</td>\n",
       "      <td>0.0</td>\n",
       "      <td>4.0</td>\n",
       "      <td>1.0</td>\n",
       "      <td>2.0</td>\n",
       "    </tr>\n",
       "    <tr>\n",
       "      <th>8</th>\n",
       "      <td>0.0</td>\n",
       "      <td>1.0</td>\n",
       "      <td>45.000000</td>\n",
       "      <td>0.0</td>\n",
       "      <td>0.0</td>\n",
       "      <td>0.0</td>\n",
       "      <td>0.0</td>\n",
       "      <td>0.0</td>\n",
       "      <td>6.0</td>\n",
       "      <td>3.0</td>\n",
       "      <td>0.0</td>\n",
       "      <td>2.0</td>\n",
       "      <td>6.0</td>\n",
       "      <td>3.0</td>\n",
       "    </tr>\n",
       "    <tr>\n",
       "      <th>9</th>\n",
       "      <td>1.0</td>\n",
       "      <td>1.0</td>\n",
       "      <td>51.000000</td>\n",
       "      <td>0.0</td>\n",
       "      <td>0.0</td>\n",
       "      <td>0.0</td>\n",
       "      <td>1.0</td>\n",
       "      <td>0.0</td>\n",
       "      <td>7.0</td>\n",
       "      <td>5.0</td>\n",
       "      <td>0.0</td>\n",
       "      <td>3.0</td>\n",
       "      <td>0.0</td>\n",
       "      <td>2.0</td>\n",
       "    </tr>\n",
       "    <tr>\n",
       "      <th>10</th>\n",
       "      <td>1.0</td>\n",
       "      <td>2.0</td>\n",
       "      <td>56.000000</td>\n",
       "      <td>0.0</td>\n",
       "      <td>0.0</td>\n",
       "      <td>0.0</td>\n",
       "      <td>1.0</td>\n",
       "      <td>0.0</td>\n",
       "      <td>5.0</td>\n",
       "      <td>3.0</td>\n",
       "      <td>1.0</td>\n",
       "      <td>3.0</td>\n",
       "      <td>0.0</td>\n",
       "      <td>2.0</td>\n",
       "    </tr>\n",
       "    <tr>\n",
       "      <th>11</th>\n",
       "      <td>1.0</td>\n",
       "      <td>1.0</td>\n",
       "      <td>65.000000</td>\n",
       "      <td>0.0</td>\n",
       "      <td>0.0</td>\n",
       "      <td>0.0</td>\n",
       "      <td>0.0</td>\n",
       "      <td>0.0</td>\n",
       "      <td>5.0</td>\n",
       "      <td>5.0</td>\n",
       "      <td>0.0</td>\n",
       "      <td>2.0</td>\n",
       "      <td>0.0</td>\n",
       "      <td>2.0</td>\n",
       "    </tr>\n",
       "    <tr>\n",
       "      <th>12</th>\n",
       "      <td>1.0</td>\n",
       "      <td>2.0</td>\n",
       "      <td>59.000000</td>\n",
       "      <td>0.0</td>\n",
       "      <td>0.0</td>\n",
       "      <td>0.0</td>\n",
       "      <td>1.0</td>\n",
       "      <td>0.0</td>\n",
       "      <td>6.0</td>\n",
       "      <td>3.0</td>\n",
       "      <td>0.0</td>\n",
       "      <td>1.0</td>\n",
       "      <td>3.0</td>\n",
       "      <td>2.0</td>\n",
       "    </tr>\n",
       "    <tr>\n",
       "      <th>13</th>\n",
       "      <td>0.0</td>\n",
       "      <td>2.0</td>\n",
       "      <td>62.000000</td>\n",
       "      <td>0.0</td>\n",
       "      <td>0.0</td>\n",
       "      <td>0.0</td>\n",
       "      <td>1.0</td>\n",
       "      <td>0.0</td>\n",
       "      <td>2.0</td>\n",
       "      <td>3.0</td>\n",
       "      <td>0.0</td>\n",
       "      <td>3.0</td>\n",
       "      <td>6.0</td>\n",
       "      <td>3.0</td>\n",
       "    </tr>\n",
       "    <tr>\n",
       "      <th>14</th>\n",
       "      <td>1.0</td>\n",
       "      <td>1.0</td>\n",
       "      <td>46.000000</td>\n",
       "      <td>0.0</td>\n",
       "      <td>0.0</td>\n",
       "      <td>0.0</td>\n",
       "      <td>1.0</td>\n",
       "      <td>0.0</td>\n",
       "      <td>5.0</td>\n",
       "      <td>3.0</td>\n",
       "      <td>0.0</td>\n",
       "      <td>1.0</td>\n",
       "      <td>1.0</td>\n",
       "      <td>2.0</td>\n",
       "    </tr>\n",
       "    <tr>\n",
       "      <th>15</th>\n",
       "      <td>0.0</td>\n",
       "      <td>2.0</td>\n",
       "      <td>69.000000</td>\n",
       "      <td>0.0</td>\n",
       "      <td>0.0</td>\n",
       "      <td>0.0</td>\n",
       "      <td>0.0</td>\n",
       "      <td>0.0</td>\n",
       "      <td>2.0</td>\n",
       "      <td>3.0</td>\n",
       "      <td>0.0</td>\n",
       "      <td>2.0</td>\n",
       "      <td>6.0</td>\n",
       "      <td>3.0</td>\n",
       "    </tr>\n",
       "    <tr>\n",
       "      <th>16</th>\n",
       "      <td>1.0</td>\n",
       "      <td>2.0</td>\n",
       "      <td>47.000000</td>\n",
       "      <td>0.0</td>\n",
       "      <td>0.0</td>\n",
       "      <td>0.0</td>\n",
       "      <td>1.0</td>\n",
       "      <td>0.0</td>\n",
       "      <td>5.0</td>\n",
       "      <td>3.0</td>\n",
       "      <td>0.0</td>\n",
       "      <td>3.0</td>\n",
       "      <td>5.0</td>\n",
       "      <td>2.0</td>\n",
       "    </tr>\n",
       "    <tr>\n",
       "      <th>17</th>\n",
       "      <td>0.0</td>\n",
       "      <td>2.0</td>\n",
       "      <td>27.000000</td>\n",
       "      <td>0.0</td>\n",
       "      <td>0.0</td>\n",
       "      <td>0.0</td>\n",
       "      <td>0.0</td>\n",
       "      <td>1.0</td>\n",
       "      <td>5.0</td>\n",
       "      <td>2.0</td>\n",
       "      <td>0.0</td>\n",
       "      <td>2.0</td>\n",
       "      <td>6.0</td>\n",
       "      <td>3.0</td>\n",
       "    </tr>\n",
       "    <tr>\n",
       "      <th>18</th>\n",
       "      <td>1.0</td>\n",
       "      <td>2.0</td>\n",
       "      <td>36.000000</td>\n",
       "      <td>0.0</td>\n",
       "      <td>0.0</td>\n",
       "      <td>0.0</td>\n",
       "      <td>1.0</td>\n",
       "      <td>0.0</td>\n",
       "      <td>7.0</td>\n",
       "      <td>3.0</td>\n",
       "      <td>0.0</td>\n",
       "      <td>1.0</td>\n",
       "      <td>2.0</td>\n",
       "      <td>2.0</td>\n",
       "    </tr>\n",
       "    <tr>\n",
       "      <th>19</th>\n",
       "      <td>1.0</td>\n",
       "      <td>2.0</td>\n",
       "      <td>43.000000</td>\n",
       "      <td>0.0</td>\n",
       "      <td>0.0</td>\n",
       "      <td>0.0</td>\n",
       "      <td>1.0</td>\n",
       "      <td>0.0</td>\n",
       "      <td>5.0</td>\n",
       "      <td>1.0</td>\n",
       "      <td>0.0</td>\n",
       "      <td>1.0</td>\n",
       "      <td>0.0</td>\n",
       "      <td>2.0</td>\n",
       "    </tr>\n",
       "    <tr>\n",
       "      <th>20</th>\n",
       "      <td>0.0</td>\n",
       "      <td>1.0</td>\n",
       "      <td>51.000000</td>\n",
       "      <td>0.0</td>\n",
       "      <td>0.0</td>\n",
       "      <td>0.0</td>\n",
       "      <td>1.0</td>\n",
       "      <td>0.0</td>\n",
       "      <td>5.0</td>\n",
       "      <td>3.0</td>\n",
       "      <td>0.0</td>\n",
       "      <td>3.0</td>\n",
       "      <td>6.0</td>\n",
       "      <td>3.0</td>\n",
       "    </tr>\n",
       "    <tr>\n",
       "      <th>21</th>\n",
       "      <td>0.0</td>\n",
       "      <td>2.0</td>\n",
       "      <td>28.000000</td>\n",
       "      <td>0.0</td>\n",
       "      <td>0.0</td>\n",
       "      <td>0.0</td>\n",
       "      <td>1.0</td>\n",
       "      <td>1.0</td>\n",
       "      <td>6.0</td>\n",
       "      <td>1.0</td>\n",
       "      <td>0.0</td>\n",
       "      <td>1.0</td>\n",
       "      <td>5.0</td>\n",
       "      <td>2.0</td>\n",
       "    </tr>\n",
       "    <tr>\n",
       "      <th>22</th>\n",
       "      <td>1.0</td>\n",
       "      <td>1.0</td>\n",
       "      <td>37.000000</td>\n",
       "      <td>0.0</td>\n",
       "      <td>0.0</td>\n",
       "      <td>0.0</td>\n",
       "      <td>1.0</td>\n",
       "      <td>0.0</td>\n",
       "      <td>7.0</td>\n",
       "      <td>1.0</td>\n",
       "      <td>0.0</td>\n",
       "      <td>1.0</td>\n",
       "      <td>5.0</td>\n",
       "      <td>2.0</td>\n",
       "    </tr>\n",
       "    <tr>\n",
       "      <th>23</th>\n",
       "      <td>1.0</td>\n",
       "      <td>1.0</td>\n",
       "      <td>43.000000</td>\n",
       "      <td>0.0</td>\n",
       "      <td>0.0</td>\n",
       "      <td>0.0</td>\n",
       "      <td>1.0</td>\n",
       "      <td>0.0</td>\n",
       "      <td>5.0</td>\n",
       "      <td>2.0</td>\n",
       "      <td>0.0</td>\n",
       "      <td>1.0</td>\n",
       "      <td>5.0</td>\n",
       "      <td>2.0</td>\n",
       "    </tr>\n",
       "    <tr>\n",
       "      <th>24</th>\n",
       "      <td>1.0</td>\n",
       "      <td>2.0</td>\n",
       "      <td>53.000000</td>\n",
       "      <td>0.0</td>\n",
       "      <td>0.0</td>\n",
       "      <td>0.0</td>\n",
       "      <td>0.0</td>\n",
       "      <td>0.0</td>\n",
       "      <td>5.0</td>\n",
       "      <td>3.0</td>\n",
       "      <td>0.0</td>\n",
       "      <td>4.0</td>\n",
       "      <td>0.0</td>\n",
       "      <td>2.0</td>\n",
       "    </tr>\n",
       "    <tr>\n",
       "      <th>25</th>\n",
       "      <td>1.0</td>\n",
       "      <td>2.0</td>\n",
       "      <td>38.000000</td>\n",
       "      <td>0.0</td>\n",
       "      <td>0.0</td>\n",
       "      <td>0.0</td>\n",
       "      <td>0.0</td>\n",
       "      <td>0.0</td>\n",
       "      <td>6.0</td>\n",
       "      <td>1.0</td>\n",
       "      <td>0.0</td>\n",
       "      <td>0.0</td>\n",
       "      <td>0.0</td>\n",
       "      <td>2.0</td>\n",
       "    </tr>\n",
       "    <tr>\n",
       "      <th>26</th>\n",
       "      <td>0.0</td>\n",
       "      <td>2.0</td>\n",
       "      <td>29.000000</td>\n",
       "      <td>0.0</td>\n",
       "      <td>0.0</td>\n",
       "      <td>0.0</td>\n",
       "      <td>0.0</td>\n",
       "      <td>0.0</td>\n",
       "      <td>2.0</td>\n",
       "      <td>3.0</td>\n",
       "      <td>0.0</td>\n",
       "      <td>2.0</td>\n",
       "      <td>6.0</td>\n",
       "      <td>3.0</td>\n",
       "    </tr>\n",
       "    <tr>\n",
       "      <th>27</th>\n",
       "      <td>0.0</td>\n",
       "      <td>2.0</td>\n",
       "      <td>39.000000</td>\n",
       "      <td>0.0</td>\n",
       "      <td>0.0</td>\n",
       "      <td>0.0</td>\n",
       "      <td>1.0</td>\n",
       "      <td>1.0</td>\n",
       "      <td>7.0</td>\n",
       "      <td>5.0</td>\n",
       "      <td>0.0</td>\n",
       "      <td>1.0</td>\n",
       "      <td>5.0</td>\n",
       "      <td>2.0</td>\n",
       "    </tr>\n",
       "    <tr>\n",
       "      <th>28</th>\n",
       "      <td>0.0</td>\n",
       "      <td>2.0</td>\n",
       "      <td>25.000000</td>\n",
       "      <td>0.0</td>\n",
       "      <td>0.0</td>\n",
       "      <td>0.0</td>\n",
       "      <td>1.0</td>\n",
       "      <td>0.0</td>\n",
       "      <td>5.0</td>\n",
       "      <td>1.0</td>\n",
       "      <td>1.0</td>\n",
       "      <td>1.0</td>\n",
       "      <td>6.0</td>\n",
       "      <td>3.0</td>\n",
       "    </tr>\n",
       "    <tr>\n",
       "      <th>29</th>\n",
       "      <td>0.0</td>\n",
       "      <td>2.0</td>\n",
       "      <td>21.000000</td>\n",
       "      <td>1.0</td>\n",
       "      <td>0.0</td>\n",
       "      <td>0.0</td>\n",
       "      <td>1.0</td>\n",
       "      <td>0.0</td>\n",
       "      <td>2.0</td>\n",
       "      <td>3.0</td>\n",
       "      <td>1.0</td>\n",
       "      <td>3.0</td>\n",
       "      <td>6.0</td>\n",
       "      <td>3.0</td>\n",
       "    </tr>\n",
       "    <tr>\n",
       "      <th>...</th>\n",
       "      <td>...</td>\n",
       "      <td>...</td>\n",
       "      <td>...</td>\n",
       "      <td>...</td>\n",
       "      <td>...</td>\n",
       "      <td>...</td>\n",
       "      <td>...</td>\n",
       "      <td>...</td>\n",
       "      <td>...</td>\n",
       "      <td>...</td>\n",
       "      <td>...</td>\n",
       "      <td>...</td>\n",
       "      <td>...</td>\n",
       "      <td>...</td>\n",
       "    </tr>\n",
       "    <tr>\n",
       "      <th>694540</th>\n",
       "      <td>0.0</td>\n",
       "      <td>1.0</td>\n",
       "      <td>61.000000</td>\n",
       "      <td>0.0</td>\n",
       "      <td>1.0</td>\n",
       "      <td>0.0</td>\n",
       "      <td>0.0</td>\n",
       "      <td>0.0</td>\n",
       "      <td>5.0</td>\n",
       "      <td>3.0</td>\n",
       "      <td>1.0</td>\n",
       "      <td>2.0</td>\n",
       "      <td>6.0</td>\n",
       "      <td>3.0</td>\n",
       "    </tr>\n",
       "    <tr>\n",
       "      <th>694541</th>\n",
       "      <td>1.0</td>\n",
       "      <td>1.0</td>\n",
       "      <td>45.000000</td>\n",
       "      <td>0.0</td>\n",
       "      <td>0.0</td>\n",
       "      <td>1.0</td>\n",
       "      <td>1.0</td>\n",
       "      <td>1.0</td>\n",
       "      <td>8.0</td>\n",
       "      <td>2.0</td>\n",
       "      <td>0.0</td>\n",
       "      <td>1.0</td>\n",
       "      <td>2.0</td>\n",
       "      <td>2.0</td>\n",
       "    </tr>\n",
       "    <tr>\n",
       "      <th>694542</th>\n",
       "      <td>0.0</td>\n",
       "      <td>2.0</td>\n",
       "      <td>27.000000</td>\n",
       "      <td>0.0</td>\n",
       "      <td>0.0</td>\n",
       "      <td>0.0</td>\n",
       "      <td>1.0</td>\n",
       "      <td>0.0</td>\n",
       "      <td>2.0</td>\n",
       "      <td>1.0</td>\n",
       "      <td>0.0</td>\n",
       "      <td>1.0</td>\n",
       "      <td>6.0</td>\n",
       "      <td>3.0</td>\n",
       "    </tr>\n",
       "    <tr>\n",
       "      <th>694543</th>\n",
       "      <td>0.0</td>\n",
       "      <td>2.0</td>\n",
       "      <td>42.000000</td>\n",
       "      <td>0.0</td>\n",
       "      <td>0.0</td>\n",
       "      <td>0.0</td>\n",
       "      <td>1.0</td>\n",
       "      <td>1.0</td>\n",
       "      <td>6.0</td>\n",
       "      <td>1.0</td>\n",
       "      <td>0.0</td>\n",
       "      <td>1.0</td>\n",
       "      <td>6.0</td>\n",
       "      <td>3.0</td>\n",
       "    </tr>\n",
       "    <tr>\n",
       "      <th>694544</th>\n",
       "      <td>0.0</td>\n",
       "      <td>2.0</td>\n",
       "      <td>30.000000</td>\n",
       "      <td>0.0</td>\n",
       "      <td>0.0</td>\n",
       "      <td>0.0</td>\n",
       "      <td>1.0</td>\n",
       "      <td>0.0</td>\n",
       "      <td>5.0</td>\n",
       "      <td>4.0</td>\n",
       "      <td>0.0</td>\n",
       "      <td>1.0</td>\n",
       "      <td>6.0</td>\n",
       "      <td>3.0</td>\n",
       "    </tr>\n",
       "    <tr>\n",
       "      <th>694545</th>\n",
       "      <td>0.0</td>\n",
       "      <td>2.0</td>\n",
       "      <td>20.000000</td>\n",
       "      <td>0.0</td>\n",
       "      <td>0.0</td>\n",
       "      <td>0.0</td>\n",
       "      <td>1.0</td>\n",
       "      <td>0.0</td>\n",
       "      <td>5.0</td>\n",
       "      <td>5.0</td>\n",
       "      <td>0.0</td>\n",
       "      <td>1.0</td>\n",
       "      <td>6.0</td>\n",
       "      <td>3.0</td>\n",
       "    </tr>\n",
       "    <tr>\n",
       "      <th>694546</th>\n",
       "      <td>0.0</td>\n",
       "      <td>1.0</td>\n",
       "      <td>48.000000</td>\n",
       "      <td>0.0</td>\n",
       "      <td>1.0</td>\n",
       "      <td>1.0</td>\n",
       "      <td>0.0</td>\n",
       "      <td>1.0</td>\n",
       "      <td>5.0</td>\n",
       "      <td>3.0</td>\n",
       "      <td>1.0</td>\n",
       "      <td>2.0</td>\n",
       "      <td>5.0</td>\n",
       "      <td>2.0</td>\n",
       "    </tr>\n",
       "    <tr>\n",
       "      <th>694547</th>\n",
       "      <td>0.0</td>\n",
       "      <td>1.0</td>\n",
       "      <td>40.000000</td>\n",
       "      <td>0.0</td>\n",
       "      <td>0.0</td>\n",
       "      <td>0.0</td>\n",
       "      <td>1.0</td>\n",
       "      <td>0.0</td>\n",
       "      <td>5.0</td>\n",
       "      <td>1.0</td>\n",
       "      <td>0.0</td>\n",
       "      <td>1.0</td>\n",
       "      <td>6.0</td>\n",
       "      <td>3.0</td>\n",
       "    </tr>\n",
       "    <tr>\n",
       "      <th>694548</th>\n",
       "      <td>0.0</td>\n",
       "      <td>3.0</td>\n",
       "      <td>31.010718</td>\n",
       "      <td>0.0</td>\n",
       "      <td>0.0</td>\n",
       "      <td>0.0</td>\n",
       "      <td>0.0</td>\n",
       "      <td>0.0</td>\n",
       "      <td>5.0</td>\n",
       "      <td>3.0</td>\n",
       "      <td>0.0</td>\n",
       "      <td>0.0</td>\n",
       "      <td>6.0</td>\n",
       "      <td>3.0</td>\n",
       "    </tr>\n",
       "    <tr>\n",
       "      <th>694549</th>\n",
       "      <td>1.0</td>\n",
       "      <td>4.0</td>\n",
       "      <td>22.881829</td>\n",
       "      <td>0.0</td>\n",
       "      <td>0.0</td>\n",
       "      <td>0.0</td>\n",
       "      <td>1.0</td>\n",
       "      <td>0.0</td>\n",
       "      <td>4.0</td>\n",
       "      <td>1.0</td>\n",
       "      <td>0.0</td>\n",
       "      <td>1.0</td>\n",
       "      <td>6.0</td>\n",
       "      <td>3.0</td>\n",
       "    </tr>\n",
       "    <tr>\n",
       "      <th>694550</th>\n",
       "      <td>0.0</td>\n",
       "      <td>2.0</td>\n",
       "      <td>25.000000</td>\n",
       "      <td>0.0</td>\n",
       "      <td>0.0</td>\n",
       "      <td>0.0</td>\n",
       "      <td>1.0</td>\n",
       "      <td>0.0</td>\n",
       "      <td>5.0</td>\n",
       "      <td>1.0</td>\n",
       "      <td>0.0</td>\n",
       "      <td>1.0</td>\n",
       "      <td>6.0</td>\n",
       "      <td>3.0</td>\n",
       "    </tr>\n",
       "    <tr>\n",
       "      <th>694551</th>\n",
       "      <td>1.0</td>\n",
       "      <td>1.0</td>\n",
       "      <td>63.000000</td>\n",
       "      <td>0.0</td>\n",
       "      <td>0.0</td>\n",
       "      <td>0.0</td>\n",
       "      <td>1.0</td>\n",
       "      <td>0.0</td>\n",
       "      <td>7.0</td>\n",
       "      <td>5.0</td>\n",
       "      <td>0.0</td>\n",
       "      <td>3.0</td>\n",
       "      <td>0.0</td>\n",
       "      <td>2.0</td>\n",
       "    </tr>\n",
       "    <tr>\n",
       "      <th>694552</th>\n",
       "      <td>0.0</td>\n",
       "      <td>2.0</td>\n",
       "      <td>23.000000</td>\n",
       "      <td>1.0</td>\n",
       "      <td>0.0</td>\n",
       "      <td>0.0</td>\n",
       "      <td>1.0</td>\n",
       "      <td>0.0</td>\n",
       "      <td>2.0</td>\n",
       "      <td>1.0</td>\n",
       "      <td>0.0</td>\n",
       "      <td>3.0</td>\n",
       "      <td>6.0</td>\n",
       "      <td>3.0</td>\n",
       "    </tr>\n",
       "    <tr>\n",
       "      <th>694553</th>\n",
       "      <td>1.0</td>\n",
       "      <td>2.0</td>\n",
       "      <td>25.000000</td>\n",
       "      <td>0.0</td>\n",
       "      <td>0.0</td>\n",
       "      <td>0.0</td>\n",
       "      <td>1.0</td>\n",
       "      <td>0.0</td>\n",
       "      <td>5.0</td>\n",
       "      <td>3.0</td>\n",
       "      <td>1.0</td>\n",
       "      <td>3.0</td>\n",
       "      <td>1.0</td>\n",
       "      <td>2.0</td>\n",
       "    </tr>\n",
       "    <tr>\n",
       "      <th>694554</th>\n",
       "      <td>0.0</td>\n",
       "      <td>2.0</td>\n",
       "      <td>29.000000</td>\n",
       "      <td>0.0</td>\n",
       "      <td>0.0</td>\n",
       "      <td>0.0</td>\n",
       "      <td>1.0</td>\n",
       "      <td>1.0</td>\n",
       "      <td>5.0</td>\n",
       "      <td>2.0</td>\n",
       "      <td>0.0</td>\n",
       "      <td>1.0</td>\n",
       "      <td>0.0</td>\n",
       "      <td>2.0</td>\n",
       "    </tr>\n",
       "    <tr>\n",
       "      <th>694555</th>\n",
       "      <td>0.0</td>\n",
       "      <td>2.0</td>\n",
       "      <td>24.000000</td>\n",
       "      <td>0.0</td>\n",
       "      <td>0.0</td>\n",
       "      <td>0.0</td>\n",
       "      <td>1.0</td>\n",
       "      <td>0.0</td>\n",
       "      <td>2.0</td>\n",
       "      <td>5.0</td>\n",
       "      <td>0.0</td>\n",
       "      <td>1.0</td>\n",
       "      <td>6.0</td>\n",
       "      <td>3.0</td>\n",
       "    </tr>\n",
       "    <tr>\n",
       "      <th>694556</th>\n",
       "      <td>1.0</td>\n",
       "      <td>2.0</td>\n",
       "      <td>49.000000</td>\n",
       "      <td>1.0</td>\n",
       "      <td>0.0</td>\n",
       "      <td>0.0</td>\n",
       "      <td>1.0</td>\n",
       "      <td>0.0</td>\n",
       "      <td>6.0</td>\n",
       "      <td>3.0</td>\n",
       "      <td>1.0</td>\n",
       "      <td>3.0</td>\n",
       "      <td>2.0</td>\n",
       "      <td>2.0</td>\n",
       "    </tr>\n",
       "    <tr>\n",
       "      <th>694557</th>\n",
       "      <td>1.0</td>\n",
       "      <td>2.0</td>\n",
       "      <td>28.000000</td>\n",
       "      <td>0.0</td>\n",
       "      <td>0.0</td>\n",
       "      <td>0.0</td>\n",
       "      <td>1.0</td>\n",
       "      <td>0.0</td>\n",
       "      <td>5.0</td>\n",
       "      <td>3.0</td>\n",
       "      <td>0.0</td>\n",
       "      <td>1.0</td>\n",
       "      <td>0.0</td>\n",
       "      <td>2.0</td>\n",
       "    </tr>\n",
       "    <tr>\n",
       "      <th>694558</th>\n",
       "      <td>0.0</td>\n",
       "      <td>2.0</td>\n",
       "      <td>35.000000</td>\n",
       "      <td>0.0</td>\n",
       "      <td>0.0</td>\n",
       "      <td>0.0</td>\n",
       "      <td>0.0</td>\n",
       "      <td>1.0</td>\n",
       "      <td>0.0</td>\n",
       "      <td>0.0</td>\n",
       "      <td>1.0</td>\n",
       "      <td>4.0</td>\n",
       "      <td>6.0</td>\n",
       "      <td>3.0</td>\n",
       "    </tr>\n",
       "    <tr>\n",
       "      <th>694559</th>\n",
       "      <td>0.0</td>\n",
       "      <td>2.0</td>\n",
       "      <td>47.000000</td>\n",
       "      <td>0.0</td>\n",
       "      <td>0.0</td>\n",
       "      <td>0.0</td>\n",
       "      <td>1.0</td>\n",
       "      <td>1.0</td>\n",
       "      <td>8.0</td>\n",
       "      <td>1.0</td>\n",
       "      <td>0.0</td>\n",
       "      <td>1.0</td>\n",
       "      <td>5.0</td>\n",
       "      <td>2.0</td>\n",
       "    </tr>\n",
       "    <tr>\n",
       "      <th>694560</th>\n",
       "      <td>1.0</td>\n",
       "      <td>2.0</td>\n",
       "      <td>59.000000</td>\n",
       "      <td>0.0</td>\n",
       "      <td>0.0</td>\n",
       "      <td>0.0</td>\n",
       "      <td>0.0</td>\n",
       "      <td>0.0</td>\n",
       "      <td>5.0</td>\n",
       "      <td>1.0</td>\n",
       "      <td>0.0</td>\n",
       "      <td>4.0</td>\n",
       "      <td>0.0</td>\n",
       "      <td>2.0</td>\n",
       "    </tr>\n",
       "    <tr>\n",
       "      <th>694561</th>\n",
       "      <td>0.0</td>\n",
       "      <td>2.0</td>\n",
       "      <td>23.000000</td>\n",
       "      <td>0.0</td>\n",
       "      <td>0.0</td>\n",
       "      <td>0.0</td>\n",
       "      <td>1.0</td>\n",
       "      <td>1.0</td>\n",
       "      <td>8.0</td>\n",
       "      <td>3.0</td>\n",
       "      <td>1.0</td>\n",
       "      <td>3.0</td>\n",
       "      <td>6.0</td>\n",
       "      <td>3.0</td>\n",
       "    </tr>\n",
       "    <tr>\n",
       "      <th>694562</th>\n",
       "      <td>0.0</td>\n",
       "      <td>2.0</td>\n",
       "      <td>55.000000</td>\n",
       "      <td>0.0</td>\n",
       "      <td>0.0</td>\n",
       "      <td>0.0</td>\n",
       "      <td>0.0</td>\n",
       "      <td>1.0</td>\n",
       "      <td>0.0</td>\n",
       "      <td>1.0</td>\n",
       "      <td>0.0</td>\n",
       "      <td>0.0</td>\n",
       "      <td>6.0</td>\n",
       "      <td>3.0</td>\n",
       "    </tr>\n",
       "    <tr>\n",
       "      <th>694563</th>\n",
       "      <td>0.0</td>\n",
       "      <td>2.0</td>\n",
       "      <td>38.000000</td>\n",
       "      <td>0.0</td>\n",
       "      <td>0.0</td>\n",
       "      <td>0.0</td>\n",
       "      <td>1.0</td>\n",
       "      <td>1.0</td>\n",
       "      <td>7.0</td>\n",
       "      <td>1.0</td>\n",
       "      <td>0.0</td>\n",
       "      <td>1.0</td>\n",
       "      <td>5.0</td>\n",
       "      <td>2.0</td>\n",
       "    </tr>\n",
       "    <tr>\n",
       "      <th>694564</th>\n",
       "      <td>0.0</td>\n",
       "      <td>3.0</td>\n",
       "      <td>27.760377</td>\n",
       "      <td>0.0</td>\n",
       "      <td>0.0</td>\n",
       "      <td>0.0</td>\n",
       "      <td>1.0</td>\n",
       "      <td>0.0</td>\n",
       "      <td>3.0</td>\n",
       "      <td>5.0</td>\n",
       "      <td>0.0</td>\n",
       "      <td>3.0</td>\n",
       "      <td>6.0</td>\n",
       "      <td>3.0</td>\n",
       "    </tr>\n",
       "    <tr>\n",
       "      <th>694565</th>\n",
       "      <td>1.0</td>\n",
       "      <td>2.0</td>\n",
       "      <td>38.000000</td>\n",
       "      <td>0.0</td>\n",
       "      <td>0.0</td>\n",
       "      <td>0.0</td>\n",
       "      <td>1.0</td>\n",
       "      <td>0.0</td>\n",
       "      <td>5.0</td>\n",
       "      <td>2.0</td>\n",
       "      <td>0.0</td>\n",
       "      <td>3.0</td>\n",
       "      <td>0.0</td>\n",
       "      <td>2.0</td>\n",
       "    </tr>\n",
       "    <tr>\n",
       "      <th>694566</th>\n",
       "      <td>1.0</td>\n",
       "      <td>2.0</td>\n",
       "      <td>48.000000</td>\n",
       "      <td>0.0</td>\n",
       "      <td>0.0</td>\n",
       "      <td>0.0</td>\n",
       "      <td>1.0</td>\n",
       "      <td>0.0</td>\n",
       "      <td>6.0</td>\n",
       "      <td>1.0</td>\n",
       "      <td>0.0</td>\n",
       "      <td>1.0</td>\n",
       "      <td>1.0</td>\n",
       "      <td>2.0</td>\n",
       "    </tr>\n",
       "    <tr>\n",
       "      <th>694567</th>\n",
       "      <td>1.0</td>\n",
       "      <td>1.0</td>\n",
       "      <td>58.000000</td>\n",
       "      <td>0.0</td>\n",
       "      <td>0.0</td>\n",
       "      <td>0.0</td>\n",
       "      <td>0.0</td>\n",
       "      <td>0.0</td>\n",
       "      <td>9.0</td>\n",
       "      <td>1.0</td>\n",
       "      <td>0.0</td>\n",
       "      <td>2.0</td>\n",
       "      <td>2.0</td>\n",
       "      <td>2.0</td>\n",
       "    </tr>\n",
       "    <tr>\n",
       "      <th>694568</th>\n",
       "      <td>0.0</td>\n",
       "      <td>3.0</td>\n",
       "      <td>28.956333</td>\n",
       "      <td>0.0</td>\n",
       "      <td>0.0</td>\n",
       "      <td>0.0</td>\n",
       "      <td>1.0</td>\n",
       "      <td>1.0</td>\n",
       "      <td>5.0</td>\n",
       "      <td>3.0</td>\n",
       "      <td>0.0</td>\n",
       "      <td>1.0</td>\n",
       "      <td>6.0</td>\n",
       "      <td>3.0</td>\n",
       "    </tr>\n",
       "    <tr>\n",
       "      <th>694569</th>\n",
       "      <td>1.0</td>\n",
       "      <td>4.0</td>\n",
       "      <td>36.000000</td>\n",
       "      <td>0.0</td>\n",
       "      <td>0.0</td>\n",
       "      <td>0.0</td>\n",
       "      <td>0.0</td>\n",
       "      <td>1.0</td>\n",
       "      <td>8.0</td>\n",
       "      <td>2.0</td>\n",
       "      <td>0.0</td>\n",
       "      <td>2.0</td>\n",
       "      <td>1.0</td>\n",
       "      <td>2.0</td>\n",
       "    </tr>\n",
       "  </tbody>\n",
       "</table>\n",
       "<p>694570 rows × 14 columns</p>\n",
       "</div>"
      ],
      "text/plain": [
       "         0    1          2    3    4    5    6    7    8    9    10   11   12  \\\n",
       "0       0.0  2.0  23.000000  0.0  0.0  0.0  1.0  1.0  5.0  3.0  0.0  1.0  6.0   \n",
       "1       1.0  2.0  27.000000  1.0  0.0  0.0  1.0  0.0  7.0  3.0  0.0  3.0  0.0   \n",
       "2       1.0  2.0  28.000000  0.0  0.0  0.0  1.0  0.0  7.0  3.0  0.0  3.0  1.0   \n",
       "3       1.0  2.0  45.000000  0.0  0.0  0.0  0.0  0.0  5.0  2.0  0.0  4.0  0.0   \n",
       "4       0.0  3.0  27.643119  0.0  0.0  0.0  1.0  0.0  2.0  3.0  0.0  1.0  6.0   \n",
       "5       0.0  2.0  47.000000  0.0  0.0  0.0  0.0  1.0  7.0  3.0  0.0  2.0  6.0   \n",
       "6       0.0  1.0  52.000000  0.0  0.0  0.0  1.0  0.0  5.0  5.0  0.0  1.0  6.0   \n",
       "7       1.0  1.0  58.000000  0.0  0.0  0.0  0.0  0.0  8.0  1.0  0.0  4.0  1.0   \n",
       "8       0.0  1.0  45.000000  0.0  0.0  0.0  0.0  0.0  6.0  3.0  0.0  2.0  6.0   \n",
       "9       1.0  1.0  51.000000  0.0  0.0  0.0  1.0  0.0  7.0  5.0  0.0  3.0  0.0   \n",
       "10      1.0  2.0  56.000000  0.0  0.0  0.0  1.0  0.0  5.0  3.0  1.0  3.0  0.0   \n",
       "11      1.0  1.0  65.000000  0.0  0.0  0.0  0.0  0.0  5.0  5.0  0.0  2.0  0.0   \n",
       "12      1.0  2.0  59.000000  0.0  0.0  0.0  1.0  0.0  6.0  3.0  0.0  1.0  3.0   \n",
       "13      0.0  2.0  62.000000  0.0  0.0  0.0  1.0  0.0  2.0  3.0  0.0  3.0  6.0   \n",
       "14      1.0  1.0  46.000000  0.0  0.0  0.0  1.0  0.0  5.0  3.0  0.0  1.0  1.0   \n",
       "15      0.0  2.0  69.000000  0.0  0.0  0.0  0.0  0.0  2.0  3.0  0.0  2.0  6.0   \n",
       "16      1.0  2.0  47.000000  0.0  0.0  0.0  1.0  0.0  5.0  3.0  0.0  3.0  5.0   \n",
       "17      0.0  2.0  27.000000  0.0  0.0  0.0  0.0  1.0  5.0  2.0  0.0  2.0  6.0   \n",
       "18      1.0  2.0  36.000000  0.0  0.0  0.0  1.0  0.0  7.0  3.0  0.0  1.0  2.0   \n",
       "19      1.0  2.0  43.000000  0.0  0.0  0.0  1.0  0.0  5.0  1.0  0.0  1.0  0.0   \n",
       "20      0.0  1.0  51.000000  0.0  0.0  0.0  1.0  0.0  5.0  3.0  0.0  3.0  6.0   \n",
       "21      0.0  2.0  28.000000  0.0  0.0  0.0  1.0  1.0  6.0  1.0  0.0  1.0  5.0   \n",
       "22      1.0  1.0  37.000000  0.0  0.0  0.0  1.0  0.0  7.0  1.0  0.0  1.0  5.0   \n",
       "23      1.0  1.0  43.000000  0.0  0.0  0.0  1.0  0.0  5.0  2.0  0.0  1.0  5.0   \n",
       "24      1.0  2.0  53.000000  0.0  0.0  0.0  0.0  0.0  5.0  3.0  0.0  4.0  0.0   \n",
       "25      1.0  2.0  38.000000  0.0  0.0  0.0  0.0  0.0  6.0  1.0  0.0  0.0  0.0   \n",
       "26      0.0  2.0  29.000000  0.0  0.0  0.0  0.0  0.0  2.0  3.0  0.0  2.0  6.0   \n",
       "27      0.0  2.0  39.000000  0.0  0.0  0.0  1.0  1.0  7.0  5.0  0.0  1.0  5.0   \n",
       "28      0.0  2.0  25.000000  0.0  0.0  0.0  1.0  0.0  5.0  1.0  1.0  1.0  6.0   \n",
       "29      0.0  2.0  21.000000  1.0  0.0  0.0  1.0  0.0  2.0  3.0  1.0  3.0  6.0   \n",
       "...     ...  ...        ...  ...  ...  ...  ...  ...  ...  ...  ...  ...  ...   \n",
       "694540  0.0  1.0  61.000000  0.0  1.0  0.0  0.0  0.0  5.0  3.0  1.0  2.0  6.0   \n",
       "694541  1.0  1.0  45.000000  0.0  0.0  1.0  1.0  1.0  8.0  2.0  0.0  1.0  2.0   \n",
       "694542  0.0  2.0  27.000000  0.0  0.0  0.0  1.0  0.0  2.0  1.0  0.0  1.0  6.0   \n",
       "694543  0.0  2.0  42.000000  0.0  0.0  0.0  1.0  1.0  6.0  1.0  0.0  1.0  6.0   \n",
       "694544  0.0  2.0  30.000000  0.0  0.0  0.0  1.0  0.0  5.0  4.0  0.0  1.0  6.0   \n",
       "694545  0.0  2.0  20.000000  0.0  0.0  0.0  1.0  0.0  5.0  5.0  0.0  1.0  6.0   \n",
       "694546  0.0  1.0  48.000000  0.0  1.0  1.0  0.0  1.0  5.0  3.0  1.0  2.0  5.0   \n",
       "694547  0.0  1.0  40.000000  0.0  0.0  0.0  1.0  0.0  5.0  1.0  0.0  1.0  6.0   \n",
       "694548  0.0  3.0  31.010718  0.0  0.0  0.0  0.0  0.0  5.0  3.0  0.0  0.0  6.0   \n",
       "694549  1.0  4.0  22.881829  0.0  0.0  0.0  1.0  0.0  4.0  1.0  0.0  1.0  6.0   \n",
       "694550  0.0  2.0  25.000000  0.0  0.0  0.0  1.0  0.0  5.0  1.0  0.0  1.0  6.0   \n",
       "694551  1.0  1.0  63.000000  0.0  0.0  0.0  1.0  0.0  7.0  5.0  0.0  3.0  0.0   \n",
       "694552  0.0  2.0  23.000000  1.0  0.0  0.0  1.0  0.0  2.0  1.0  0.0  3.0  6.0   \n",
       "694553  1.0  2.0  25.000000  0.0  0.0  0.0  1.0  0.0  5.0  3.0  1.0  3.0  1.0   \n",
       "694554  0.0  2.0  29.000000  0.0  0.0  0.0  1.0  1.0  5.0  2.0  0.0  1.0  0.0   \n",
       "694555  0.0  2.0  24.000000  0.0  0.0  0.0  1.0  0.0  2.0  5.0  0.0  1.0  6.0   \n",
       "694556  1.0  2.0  49.000000  1.0  0.0  0.0  1.0  0.0  6.0  3.0  1.0  3.0  2.0   \n",
       "694557  1.0  2.0  28.000000  0.0  0.0  0.0  1.0  0.0  5.0  3.0  0.0  1.0  0.0   \n",
       "694558  0.0  2.0  35.000000  0.0  0.0  0.0  0.0  1.0  0.0  0.0  1.0  4.0  6.0   \n",
       "694559  0.0  2.0  47.000000  0.0  0.0  0.0  1.0  1.0  8.0  1.0  0.0  1.0  5.0   \n",
       "694560  1.0  2.0  59.000000  0.0  0.0  0.0  0.0  0.0  5.0  1.0  0.0  4.0  0.0   \n",
       "694561  0.0  2.0  23.000000  0.0  0.0  0.0  1.0  1.0  8.0  3.0  1.0  3.0  6.0   \n",
       "694562  0.0  2.0  55.000000  0.0  0.0  0.0  0.0  1.0  0.0  1.0  0.0  0.0  6.0   \n",
       "694563  0.0  2.0  38.000000  0.0  0.0  0.0  1.0  1.0  7.0  1.0  0.0  1.0  5.0   \n",
       "694564  0.0  3.0  27.760377  0.0  0.0  0.0  1.0  0.0  3.0  5.0  0.0  3.0  6.0   \n",
       "694565  1.0  2.0  38.000000  0.0  0.0  0.0  1.0  0.0  5.0  2.0  0.0  3.0  0.0   \n",
       "694566  1.0  2.0  48.000000  0.0  0.0  0.0  1.0  0.0  6.0  1.0  0.0  1.0  1.0   \n",
       "694567  1.0  1.0  58.000000  0.0  0.0  0.0  0.0  0.0  9.0  1.0  0.0  2.0  2.0   \n",
       "694568  0.0  3.0  28.956333  0.0  0.0  0.0  1.0  1.0  5.0  3.0  0.0  1.0  6.0   \n",
       "694569  1.0  4.0  36.000000  0.0  0.0  0.0  0.0  1.0  8.0  2.0  0.0  2.0  1.0   \n",
       "\n",
       "         13  \n",
       "0       3.0  \n",
       "1       2.0  \n",
       "2       2.0  \n",
       "3       2.0  \n",
       "4       3.0  \n",
       "5       3.0  \n",
       "6       3.0  \n",
       "7       2.0  \n",
       "8       3.0  \n",
       "9       2.0  \n",
       "10      2.0  \n",
       "11      2.0  \n",
       "12      2.0  \n",
       "13      3.0  \n",
       "14      2.0  \n",
       "15      3.0  \n",
       "16      2.0  \n",
       "17      3.0  \n",
       "18      2.0  \n",
       "19      2.0  \n",
       "20      3.0  \n",
       "21      2.0  \n",
       "22      2.0  \n",
       "23      2.0  \n",
       "24      2.0  \n",
       "25      2.0  \n",
       "26      3.0  \n",
       "27      2.0  \n",
       "28      3.0  \n",
       "29      3.0  \n",
       "...     ...  \n",
       "694540  3.0  \n",
       "694541  2.0  \n",
       "694542  3.0  \n",
       "694543  3.0  \n",
       "694544  3.0  \n",
       "694545  3.0  \n",
       "694546  2.0  \n",
       "694547  3.0  \n",
       "694548  3.0  \n",
       "694549  3.0  \n",
       "694550  3.0  \n",
       "694551  2.0  \n",
       "694552  3.0  \n",
       "694553  2.0  \n",
       "694554  2.0  \n",
       "694555  3.0  \n",
       "694556  2.0  \n",
       "694557  2.0  \n",
       "694558  3.0  \n",
       "694559  2.0  \n",
       "694560  2.0  \n",
       "694561  3.0  \n",
       "694562  3.0  \n",
       "694563  2.0  \n",
       "694564  3.0  \n",
       "694565  2.0  \n",
       "694566  2.0  \n",
       "694567  2.0  \n",
       "694568  3.0  \n",
       "694569  2.0  \n",
       "\n",
       "[694570 rows x 14 columns]"
      ]
     },
     "execution_count": 117,
     "metadata": {},
     "output_type": "execute_result"
    }
   ],
   "source": [
    "df"
   ]
  },
  {
   "cell_type": "code",
   "execution_count": 112,
   "metadata": {
    "collapsed": true
   },
   "outputs": [
    {
     "name": "stdout",
     "output_type": "stream",
     "text": [
      "[MICE] Completing matrix with shape (694570, 14)\n",
      "[MICE] Starting imputation round 1/110, elapsed time 0.096\n",
      "[MICE] Starting imputation round 2/110, elapsed time 0.276\n",
      "[MICE] Starting imputation round 3/110, elapsed time 0.468\n",
      "[MICE] Starting imputation round 4/110, elapsed time 0.645\n",
      "[MICE] Starting imputation round 5/110, elapsed time 0.825\n",
      "[MICE] Starting imputation round 6/110, elapsed time 1.005\n",
      "[MICE] Starting imputation round 7/110, elapsed time 1.185\n",
      "[MICE] Starting imputation round 8/110, elapsed time 1.368\n",
      "[MICE] Starting imputation round 9/110, elapsed time 1.552\n",
      "[MICE] Starting imputation round 10/110, elapsed time 1.731\n",
      "[MICE] Starting imputation round 11/110, elapsed time 1.912\n",
      "[MICE] Starting imputation round 12/110, elapsed time 2.103\n",
      "[MICE] Starting imputation round 13/110, elapsed time 2.295\n",
      "[MICE] Starting imputation round 14/110, elapsed time 2.480\n",
      "[MICE] Starting imputation round 15/110, elapsed time 2.673\n",
      "[MICE] Starting imputation round 16/110, elapsed time 2.858\n",
      "[MICE] Starting imputation round 17/110, elapsed time 3.051\n",
      "[MICE] Starting imputation round 18/110, elapsed time 3.241\n",
      "[MICE] Starting imputation round 19/110, elapsed time 3.436\n",
      "[MICE] Starting imputation round 20/110, elapsed time 3.630\n",
      "[MICE] Starting imputation round 21/110, elapsed time 3.827\n",
      "[MICE] Starting imputation round 22/110, elapsed time 4.014\n",
      "[MICE] Starting imputation round 23/110, elapsed time 4.210\n",
      "[MICE] Starting imputation round 24/110, elapsed time 4.395\n",
      "[MICE] Starting imputation round 25/110, elapsed time 4.587\n",
      "[MICE] Starting imputation round 26/110, elapsed time 4.774\n",
      "[MICE] Starting imputation round 27/110, elapsed time 4.969\n",
      "[MICE] Starting imputation round 28/110, elapsed time 5.154\n",
      "[MICE] Starting imputation round 29/110, elapsed time 5.347\n",
      "[MICE] Starting imputation round 30/110, elapsed time 5.532\n",
      "[MICE] Starting imputation round 31/110, elapsed time 5.724\n",
      "[MICE] Starting imputation round 32/110, elapsed time 5.917\n",
      "[MICE] Starting imputation round 33/110, elapsed time 6.108\n",
      "[MICE] Starting imputation round 34/110, elapsed time 6.296\n",
      "[MICE] Starting imputation round 35/110, elapsed time 6.487\n",
      "[MICE] Starting imputation round 36/110, elapsed time 6.674\n",
      "[MICE] Starting imputation round 37/110, elapsed time 6.866\n",
      "[MICE] Starting imputation round 38/110, elapsed time 7.053\n",
      "[MICE] Starting imputation round 39/110, elapsed time 7.246\n",
      "[MICE] Starting imputation round 40/110, elapsed time 7.434\n",
      "[MICE] Starting imputation round 41/110, elapsed time 7.628\n",
      "[MICE] Starting imputation round 42/110, elapsed time 7.815\n",
      "[MICE] Starting imputation round 43/110, elapsed time 8.007\n",
      "[MICE] Starting imputation round 44/110, elapsed time 8.192\n",
      "[MICE] Starting imputation round 45/110, elapsed time 8.386\n",
      "[MICE] Starting imputation round 46/110, elapsed time 8.574\n",
      "[MICE] Starting imputation round 47/110, elapsed time 8.771\n",
      "[MICE] Starting imputation round 48/110, elapsed time 8.959\n",
      "[MICE] Starting imputation round 49/110, elapsed time 9.151\n",
      "[MICE] Starting imputation round 50/110, elapsed time 9.338\n",
      "[MICE] Starting imputation round 51/110, elapsed time 9.530\n",
      "[MICE] Starting imputation round 52/110, elapsed time 9.719\n",
      "[MICE] Starting imputation round 53/110, elapsed time 9.911\n",
      "[MICE] Starting imputation round 54/110, elapsed time 10.096\n",
      "[MICE] Starting imputation round 55/110, elapsed time 10.288\n",
      "[MICE] Starting imputation round 56/110, elapsed time 10.474\n",
      "[MICE] Starting imputation round 57/110, elapsed time 10.665\n",
      "[MICE] Starting imputation round 58/110, elapsed time 10.852\n",
      "[MICE] Starting imputation round 59/110, elapsed time 11.045\n",
      "[MICE] Starting imputation round 60/110, elapsed time 11.232\n",
      "[MICE] Starting imputation round 61/110, elapsed time 11.425\n",
      "[MICE] Starting imputation round 62/110, elapsed time 11.613\n",
      "[MICE] Starting imputation round 63/110, elapsed time 11.806\n",
      "[MICE] Starting imputation round 64/110, elapsed time 12.007\n",
      "[MICE] Starting imputation round 65/110, elapsed time 12.201\n",
      "[MICE] Starting imputation round 66/110, elapsed time 12.386\n",
      "[MICE] Starting imputation round 67/110, elapsed time 12.580\n",
      "[MICE] Starting imputation round 68/110, elapsed time 12.766\n",
      "[MICE] Starting imputation round 69/110, elapsed time 12.960\n",
      "[MICE] Starting imputation round 70/110, elapsed time 13.153\n",
      "[MICE] Starting imputation round 71/110, elapsed time 13.346\n",
      "[MICE] Starting imputation round 72/110, elapsed time 13.532\n",
      "[MICE] Starting imputation round 73/110, elapsed time 13.732\n",
      "[MICE] Starting imputation round 74/110, elapsed time 13.954\n",
      "[MICE] Starting imputation round 75/110, elapsed time 14.182\n",
      "[MICE] Starting imputation round 76/110, elapsed time 14.391\n",
      "[MICE] Starting imputation round 77/110, elapsed time 14.582\n",
      "[MICE] Starting imputation round 78/110, elapsed time 14.774\n",
      "[MICE] Starting imputation round 79/110, elapsed time 14.965\n",
      "[MICE] Starting imputation round 80/110, elapsed time 15.167\n",
      "[MICE] Starting imputation round 81/110, elapsed time 15.365\n",
      "[MICE] Starting imputation round 82/110, elapsed time 15.568\n",
      "[MICE] Starting imputation round 83/110, elapsed time 15.754\n",
      "[MICE] Starting imputation round 84/110, elapsed time 15.946\n",
      "[MICE] Starting imputation round 85/110, elapsed time 16.138\n",
      "[MICE] Starting imputation round 86/110, elapsed time 16.330\n",
      "[MICE] Starting imputation round 87/110, elapsed time 16.516\n",
      "[MICE] Starting imputation round 88/110, elapsed time 16.708\n",
      "[MICE] Starting imputation round 89/110, elapsed time 16.896\n",
      "[MICE] Starting imputation round 90/110, elapsed time 17.094\n",
      "[MICE] Starting imputation round 91/110, elapsed time 17.290\n",
      "[MICE] Starting imputation round 92/110, elapsed time 17.513\n",
      "[MICE] Starting imputation round 93/110, elapsed time 17.733\n",
      "[MICE] Starting imputation round 94/110, elapsed time 17.941\n",
      "[MICE] Starting imputation round 95/110, elapsed time 18.177\n",
      "[MICE] Starting imputation round 96/110, elapsed time 18.386\n",
      "[MICE] Starting imputation round 97/110, elapsed time 18.611\n",
      "[MICE] Starting imputation round 98/110, elapsed time 18.820\n",
      "[MICE] Starting imputation round 99/110, elapsed time 19.064\n",
      "[MICE] Starting imputation round 100/110, elapsed time 19.276\n",
      "[MICE] Starting imputation round 101/110, elapsed time 19.499\n",
      "[MICE] Starting imputation round 102/110, elapsed time 19.694\n",
      "[MICE] Starting imputation round 103/110, elapsed time 19.889\n",
      "[MICE] Starting imputation round 104/110, elapsed time 20.074\n",
      "[MICE] Starting imputation round 105/110, elapsed time 20.269\n",
      "[MICE] Starting imputation round 106/110, elapsed time 20.454\n",
      "[MICE] Starting imputation round 107/110, elapsed time 20.647\n",
      "[MICE] Starting imputation round 108/110, elapsed time 20.832\n",
      "[MICE] Starting imputation round 109/110, elapsed time 21.024\n",
      "[MICE] Starting imputation round 110/110, elapsed time 21.208\n",
      "[SoftImpute] Max Singular Value of X_init = 34452.493141\n",
      "[SoftImpute] Iter 1: observed MAE=0.435114 rank=5\n"
     ]
    },
    {
     "name": "stderr",
     "output_type": "stream",
     "text": [
      "C:\\Users\\ysami\\Anaconda3\\lib\\site-packages\\fancyimpute\\soft_impute.py:100: RuntimeWarning: divide by zero encountered in double_scalars\n",
      "  return (np.sqrt(ssd) / old_norm) < self.convergence_threshold\n"
     ]
    },
    {
     "name": "stdout",
     "output_type": "stream",
     "text": [
      "[SoftImpute] Iter 2: observed MAE=0.435112 rank=5\n",
      "[SoftImpute] Iter 3: observed MAE=0.435111 rank=5\n",
      "[SoftImpute] Iter 4: observed MAE=0.435109 rank=5\n",
      "[SoftImpute] Iter 5: observed MAE=0.435108 rank=5\n",
      "[SoftImpute] Iter 6: observed MAE=0.435106 rank=5\n",
      "[SoftImpute] Iter 7: observed MAE=0.435103 rank=5\n",
      "[SoftImpute] Iter 8: observed MAE=0.435102 rank=5\n",
      "[SoftImpute] Iter 9: observed MAE=0.435100 rank=5\n",
      "[SoftImpute] Iter 10: observed MAE=0.435098 rank=5\n",
      "[SoftImpute] Iter 11: observed MAE=0.435097 rank=5\n",
      "[SoftImpute] Iter 12: observed MAE=0.435096 rank=5\n",
      "[SoftImpute] Iter 13: observed MAE=0.435095 rank=5\n",
      "[SoftImpute] Iter 14: observed MAE=0.435093 rank=5\n",
      "[SoftImpute] Iter 15: observed MAE=0.435092 rank=5\n",
      "[SoftImpute] Iter 16: observed MAE=0.435090 rank=5\n",
      "[SoftImpute] Iter 17: observed MAE=0.435089 rank=5\n",
      "[SoftImpute] Iter 18: observed MAE=0.435089 rank=5\n",
      "[SoftImpute] Iter 19: observed MAE=0.435088 rank=5\n",
      "[SoftImpute] Iter 20: observed MAE=0.435088 rank=5\n",
      "[SoftImpute] Iter 21: observed MAE=0.435088 rank=5\n",
      "[SoftImpute] Iter 22: observed MAE=0.435088 rank=5\n",
      "[SoftImpute] Iter 23: observed MAE=0.435087 rank=5\n",
      "[SoftImpute] Iter 24: observed MAE=0.435087 rank=5\n",
      "[SoftImpute] Iter 25: observed MAE=0.435088 rank=5\n",
      "[SoftImpute] Iter 26: observed MAE=0.435088 rank=5\n",
      "[SoftImpute] Iter 27: observed MAE=0.435088 rank=5\n",
      "[SoftImpute] Iter 28: observed MAE=0.435088 rank=5\n",
      "[SoftImpute] Iter 29: observed MAE=0.435088 rank=5\n",
      "[SoftImpute] Iter 30: observed MAE=0.435088 rank=5\n",
      "[SoftImpute] Iter 31: observed MAE=0.435088 rank=5\n",
      "[SoftImpute] Iter 32: observed MAE=0.435088 rank=5\n",
      "[SoftImpute] Iter 33: observed MAE=0.435087 rank=5\n",
      "[SoftImpute] Iter 34: observed MAE=0.435087 rank=5\n",
      "[SoftImpute] Iter 35: observed MAE=0.435086 rank=5\n",
      "[SoftImpute] Iter 36: observed MAE=0.435086 rank=5\n",
      "[SoftImpute] Iter 37: observed MAE=0.435086 rank=5\n",
      "[SoftImpute] Iter 38: observed MAE=0.435085 rank=5\n",
      "[SoftImpute] Iter 39: observed MAE=0.435084 rank=5\n",
      "[SoftImpute] Iter 40: observed MAE=0.435084 rank=5\n",
      "[SoftImpute] Iter 41: observed MAE=0.435083 rank=5\n",
      "[SoftImpute] Iter 42: observed MAE=0.435083 rank=5\n",
      "[SoftImpute] Iter 43: observed MAE=0.435082 rank=5\n",
      "[SoftImpute] Iter 44: observed MAE=0.435082 rank=5\n",
      "[SoftImpute] Iter 45: observed MAE=0.435081 rank=5\n",
      "[SoftImpute] Iter 46: observed MAE=0.435081 rank=5\n",
      "[SoftImpute] Iter 47: observed MAE=0.435080 rank=5\n",
      "[SoftImpute] Iter 48: observed MAE=0.435079 rank=5\n",
      "[SoftImpute] Iter 49: observed MAE=0.435079 rank=5\n",
      "[SoftImpute] Iter 50: observed MAE=0.435078 rank=5\n",
      "[SoftImpute] Iter 51: observed MAE=0.435077 rank=5\n",
      "[SoftImpute] Iter 52: observed MAE=0.435077 rank=5\n",
      "[SoftImpute] Iter 53: observed MAE=0.435076 rank=5\n",
      "[SoftImpute] Iter 54: observed MAE=0.435076 rank=5\n",
      "[SoftImpute] Iter 55: observed MAE=0.435075 rank=5\n",
      "[SoftImpute] Iter 56: observed MAE=0.435074 rank=5\n",
      "[SoftImpute] Iter 57: observed MAE=0.435074 rank=5\n",
      "[SoftImpute] Iter 58: observed MAE=0.435073 rank=5\n",
      "[SoftImpute] Iter 59: observed MAE=0.435072 rank=5\n",
      "[SoftImpute] Iter 60: observed MAE=0.435072 rank=5\n",
      "[SoftImpute] Iter 61: observed MAE=0.435071 rank=5\n",
      "[SoftImpute] Iter 62: observed MAE=0.435070 rank=5\n",
      "[SoftImpute] Iter 63: observed MAE=0.435070 rank=5\n",
      "[SoftImpute] Iter 64: observed MAE=0.435069 rank=5\n",
      "[SoftImpute] Iter 65: observed MAE=0.435069 rank=5\n",
      "[SoftImpute] Iter 66: observed MAE=0.435068 rank=5\n",
      "[SoftImpute] Iter 67: observed MAE=0.435067 rank=5\n",
      "[SoftImpute] Iter 68: observed MAE=0.435067 rank=5\n",
      "[SoftImpute] Iter 69: observed MAE=0.435066 rank=5\n",
      "[SoftImpute] Iter 70: observed MAE=0.435066 rank=5\n",
      "[SoftImpute] Iter 71: observed MAE=0.435065 rank=5\n",
      "[SoftImpute] Iter 72: observed MAE=0.435064 rank=5\n",
      "[SoftImpute] Iter 73: observed MAE=0.435064 rank=5\n",
      "[SoftImpute] Iter 74: observed MAE=0.435063 rank=5\n",
      "[SoftImpute] Iter 75: observed MAE=0.435063 rank=5\n",
      "[SoftImpute] Iter 76: observed MAE=0.435062 rank=5\n",
      "[SoftImpute] Iter 77: observed MAE=0.435062 rank=5\n",
      "[SoftImpute] Iter 78: observed MAE=0.435061 rank=5\n",
      "[SoftImpute] Iter 79: observed MAE=0.435061 rank=5\n",
      "[SoftImpute] Iter 80: observed MAE=0.435060 rank=5\n",
      "[SoftImpute] Iter 81: observed MAE=0.435060 rank=5\n",
      "[SoftImpute] Iter 82: observed MAE=0.435059 rank=5\n",
      "[SoftImpute] Iter 83: observed MAE=0.435059 rank=5\n",
      "[SoftImpute] Iter 84: observed MAE=0.435058 rank=5\n",
      "[SoftImpute] Iter 85: observed MAE=0.435058 rank=5\n",
      "[SoftImpute] Iter 86: observed MAE=0.435057 rank=5\n",
      "[SoftImpute] Iter 87: observed MAE=0.435057 rank=5\n",
      "[SoftImpute] Iter 88: observed MAE=0.435056 rank=5\n",
      "[SoftImpute] Iter 89: observed MAE=0.435056 rank=5\n",
      "[SoftImpute] Iter 90: observed MAE=0.435056 rank=5\n",
      "[SoftImpute] Iter 91: observed MAE=0.435055 rank=5\n",
      "[SoftImpute] Iter 92: observed MAE=0.435055 rank=5\n",
      "[SoftImpute] Iter 93: observed MAE=0.435054 rank=5\n",
      "[SoftImpute] Iter 94: observed MAE=0.435054 rank=5\n",
      "[SoftImpute] Iter 95: observed MAE=0.435054 rank=5\n",
      "[SoftImpute] Iter 96: observed MAE=0.435053 rank=5\n",
      "[SoftImpute] Iter 97: observed MAE=0.435053 rank=5\n",
      "[SoftImpute] Iter 98: observed MAE=0.435053 rank=5\n",
      "[SoftImpute] Iter 99: observed MAE=0.435052 rank=5\n",
      "[SoftImpute] Iter 100: observed MAE=0.435052 rank=5\n",
      "[SoftImpute] Stopped after iteration 100 for lambda=689.049863\n",
      "[IterativeSVD] Iter 1: observed MAE=0.777606\n"
     ]
    },
    {
     "name": "stderr",
     "output_type": "stream",
     "text": [
      "C:\\Users\\ysami\\Anaconda3\\lib\\site-packages\\fancyimpute\\iterative_svd.py:53: RuntimeWarning: divide by zero encountered in double_scalars\n",
      "  return (ssd / old_norm_squared) < self.convergence_threshold\n"
     ]
    },
    {
     "name": "stdout",
     "output_type": "stream",
     "text": [
      "[IterativeSVD] Iter 2: observed MAE=0.516565\n",
      "[IterativeSVD] Iter 3: observed MAE=0.271681\n",
      "[IterativeSVD] Iter 4: observed MAE=0.110462\n"
     ]
    }
   ],
   "source": [
    "pred_age_df_MICE=MICE().complete(features)\n",
    "pred_age_df_softimpute = SoftImpute().complete(features)\n",
    "pred_age_df_SVD = pd.DataFrame(IterativeSVD().complete(features))\n",
    "\n"
   ]
  },
  {
   "cell_type": "code",
   "execution_count": 118,
   "metadata": {
    "collapsed": true
   },
   "outputs": [],
   "source": [
    "pred_age_df_MICE = pd.DataFrame(pred_age_df_MICE)"
   ]
  },
  {
   "cell_type": "code",
   "execution_count": 120,
   "metadata": {
    "collapsed": true
   },
   "outputs": [
    {
     "data": {
      "text/plain": [
       "0         23.000000\n",
       "1         27.000000\n",
       "2         28.000000\n",
       "3         45.000000\n",
       "4         27.643119\n",
       "5         47.000000\n",
       "6         52.000000\n",
       "7         58.000000\n",
       "8         45.000000\n",
       "9         51.000000\n",
       "10        56.000000\n",
       "11        65.000000\n",
       "12        59.000000\n",
       "13        62.000000\n",
       "14        46.000000\n",
       "15        69.000000\n",
       "16        47.000000\n",
       "17        27.000000\n",
       "18        36.000000\n",
       "19        43.000000\n",
       "20        51.000000\n",
       "21        28.000000\n",
       "22        37.000000\n",
       "23        43.000000\n",
       "24        53.000000\n",
       "25        38.000000\n",
       "26        29.000000\n",
       "27        39.000000\n",
       "28        25.000000\n",
       "29        21.000000\n",
       "            ...    \n",
       "694540    61.000000\n",
       "694541    45.000000\n",
       "694542    27.000000\n",
       "694543    42.000000\n",
       "694544    30.000000\n",
       "694545    20.000000\n",
       "694546    48.000000\n",
       "694547    40.000000\n",
       "694548    31.010718\n",
       "694549    22.881829\n",
       "694550    25.000000\n",
       "694551    63.000000\n",
       "694552    23.000000\n",
       "694553    25.000000\n",
       "694554    29.000000\n",
       "694555    24.000000\n",
       "694556    49.000000\n",
       "694557    28.000000\n",
       "694558    35.000000\n",
       "694559    47.000000\n",
       "694560    59.000000\n",
       "694561    23.000000\n",
       "694562    55.000000\n",
       "694563    38.000000\n",
       "694564    27.760377\n",
       "694565    38.000000\n",
       "694566    48.000000\n",
       "694567    58.000000\n",
       "694568    28.956333\n",
       "694569    36.000000\n",
       "Name: 2, Length: 694570, dtype: float64"
      ]
     },
     "execution_count": 120,
     "metadata": {},
     "output_type": "execute_result"
    }
   ],
   "source": [
    "pred_age_df_MICE[2]"
   ]
  },
  {
   "cell_type": "code",
   "execution_count": 122,
   "metadata": {},
   "outputs": [
    {
     "name": "stdout",
     "output_type": "stream",
     "text": [
      "MICE MSE: 385.138069\n"
     ]
    }
   ],
   "source": [
    "MICE_mse = ((pred_age_df_MICE[2] - features['age']) ** 2).mean()\n",
    "print(\"MICE MSE: %f\" % MICE_mse)\n",
    "\n"
   ]
  },
  {
   "cell_type": "markdown",
   "metadata": {},
   "source": [
    "The lowest mean absolute value is from the iterative SVD then we will use it as the age imputed value"
   ]
  },
  {
   "cell_type": "code",
   "execution_count": 124,
   "metadata": {
    "collapsed": true
   },
   "outputs": [],
   "source": [
    "combined_df['age']=pred_age_df_SVD[2]"
   ]
  },
  {
   "cell_type": "code",
   "execution_count": 127,
   "metadata": {},
   "outputs": [
    {
     "data": {
      "text/plain": [
       "sex                   0\n",
       "status                0\n",
       "age                   0\n",
       "externalScore      8391\n",
       "indSimin              0\n",
       "indXlist              0\n",
       "indCreditBureau       0\n",
       "indInternet           0\n",
       "indBadDebt            0\n",
       "salary                0\n",
       "channel               0\n",
       "indBadLocation        0\n",
       "previous              0\n",
       "loans                 0\n",
       "Mortgages             0\n",
       "dtype: int64"
      ]
     },
     "execution_count": 127,
     "metadata": {},
     "output_type": "execute_result"
    }
   ],
   "source": [
    "combined_df.isnull().sum()"
   ]
  },
  {
   "cell_type": "markdown",
   "metadata": {},
   "source": [
    "### External Score Emputation"
   ]
  },
  {
   "cell_type": "code",
   "execution_count": 128,
   "metadata": {
    "collapsed": true
   },
   "outputs": [
    {
     "name": "stdout",
     "output_type": "stream",
     "text": [
      "[MICE] Completing matrix with shape (694570, 15)\n",
      "[MICE] Starting imputation round 1/110, elapsed time 0.102\n",
      "[MICE] Starting imputation round 2/110, elapsed time 0.304\n",
      "[MICE] Starting imputation round 3/110, elapsed time 0.498\n",
      "[MICE] Starting imputation round 4/110, elapsed time 0.686\n",
      "[MICE] Starting imputation round 5/110, elapsed time 0.887\n",
      "[MICE] Starting imputation round 6/110, elapsed time 1.076\n",
      "[MICE] Starting imputation round 7/110, elapsed time 1.268\n",
      "[MICE] Starting imputation round 8/110, elapsed time 1.456\n",
      "[MICE] Starting imputation round 9/110, elapsed time 1.649\n",
      "[MICE] Starting imputation round 10/110, elapsed time 1.854\n",
      "[MICE] Starting imputation round 11/110, elapsed time 2.057\n",
      "[MICE] Starting imputation round 12/110, elapsed time 2.304\n",
      "[MICE] Starting imputation round 13/110, elapsed time 2.526\n",
      "[MICE] Starting imputation round 14/110, elapsed time 2.731\n",
      "[MICE] Starting imputation round 15/110, elapsed time 2.941\n",
      "[MICE] Starting imputation round 16/110, elapsed time 3.148\n",
      "[MICE] Starting imputation round 17/110, elapsed time 3.351\n",
      "[MICE] Starting imputation round 18/110, elapsed time 3.556\n",
      "[MICE] Starting imputation round 19/110, elapsed time 3.754\n",
      "[MICE] Starting imputation round 20/110, elapsed time 3.962\n",
      "[MICE] Starting imputation round 21/110, elapsed time 4.163\n",
      "[MICE] Starting imputation round 22/110, elapsed time 4.369\n",
      "[MICE] Starting imputation round 23/110, elapsed time 4.563\n",
      "[MICE] Starting imputation round 24/110, elapsed time 4.769\n",
      "[MICE] Starting imputation round 25/110, elapsed time 4.965\n",
      "[MICE] Starting imputation round 26/110, elapsed time 5.169\n",
      "[MICE] Starting imputation round 27/110, elapsed time 5.365\n",
      "[MICE] Starting imputation round 28/110, elapsed time 5.573\n",
      "[MICE] Starting imputation round 29/110, elapsed time 5.773\n",
      "[MICE] Starting imputation round 30/110, elapsed time 5.981\n",
      "[MICE] Starting imputation round 31/110, elapsed time 6.178\n",
      "[MICE] Starting imputation round 32/110, elapsed time 6.382\n",
      "[MICE] Starting imputation round 33/110, elapsed time 6.579\n",
      "[MICE] Starting imputation round 34/110, elapsed time 6.784\n",
      "[MICE] Starting imputation round 35/110, elapsed time 6.982\n",
      "[MICE] Starting imputation round 36/110, elapsed time 7.186\n",
      "[MICE] Starting imputation round 37/110, elapsed time 7.384\n",
      "[MICE] Starting imputation round 38/110, elapsed time 7.590\n",
      "[MICE] Starting imputation round 39/110, elapsed time 7.787\n",
      "[MICE] Starting imputation round 40/110, elapsed time 7.990\n",
      "[MICE] Starting imputation round 41/110, elapsed time 8.191\n",
      "[MICE] Starting imputation round 42/110, elapsed time 8.394\n",
      "[MICE] Starting imputation round 43/110, elapsed time 8.596\n",
      "[MICE] Starting imputation round 44/110, elapsed time 8.802\n",
      "[MICE] Starting imputation round 45/110, elapsed time 9.009\n",
      "[MICE] Starting imputation round 46/110, elapsed time 9.215\n",
      "[MICE] Starting imputation round 47/110, elapsed time 9.419\n",
      "[MICE] Starting imputation round 48/110, elapsed time 9.622\n",
      "[MICE] Starting imputation round 49/110, elapsed time 9.826\n",
      "[MICE] Starting imputation round 50/110, elapsed time 10.066\n",
      "[MICE] Starting imputation round 51/110, elapsed time 10.297\n",
      "[MICE] Starting imputation round 52/110, elapsed time 10.498\n",
      "[MICE] Starting imputation round 53/110, elapsed time 10.704\n",
      "[MICE] Starting imputation round 54/110, elapsed time 10.907\n",
      "[MICE] Starting imputation round 55/110, elapsed time 11.110\n",
      "[MICE] Starting imputation round 56/110, elapsed time 11.320\n",
      "[MICE] Starting imputation round 57/110, elapsed time 11.524\n",
      "[MICE] Starting imputation round 58/110, elapsed time 11.729\n",
      "[MICE] Starting imputation round 59/110, elapsed time 11.934\n",
      "[MICE] Starting imputation round 60/110, elapsed time 12.130\n",
      "[MICE] Starting imputation round 61/110, elapsed time 12.335\n",
      "[MICE] Starting imputation round 62/110, elapsed time 12.530\n",
      "[MICE] Starting imputation round 63/110, elapsed time 12.736\n",
      "[MICE] Starting imputation round 64/110, elapsed time 12.931\n",
      "[MICE] Starting imputation round 65/110, elapsed time 13.139\n",
      "[MICE] Starting imputation round 66/110, elapsed time 13.367\n",
      "[MICE] Starting imputation round 67/110, elapsed time 13.606\n",
      "[MICE] Starting imputation round 68/110, elapsed time 13.816\n",
      "[MICE] Starting imputation round 69/110, elapsed time 14.022\n",
      "[MICE] Starting imputation round 70/110, elapsed time 14.237\n",
      "[MICE] Starting imputation round 71/110, elapsed time 14.441\n",
      "[MICE] Starting imputation round 72/110, elapsed time 14.644\n",
      "[MICE] Starting imputation round 73/110, elapsed time 14.849\n",
      "[MICE] Starting imputation round 74/110, elapsed time 15.053\n",
      "[MICE] Starting imputation round 75/110, elapsed time 15.257\n",
      "[MICE] Starting imputation round 76/110, elapsed time 15.461\n",
      "[MICE] Starting imputation round 77/110, elapsed time 15.665\n",
      "[MICE] Starting imputation round 78/110, elapsed time 15.876\n",
      "[MICE] Starting imputation round 79/110, elapsed time 16.073\n",
      "[MICE] Starting imputation round 80/110, elapsed time 16.277\n",
      "[MICE] Starting imputation round 81/110, elapsed time 16.473\n",
      "[MICE] Starting imputation round 82/110, elapsed time 16.678\n",
      "[MICE] Starting imputation round 83/110, elapsed time 16.877\n",
      "[MICE] Starting imputation round 84/110, elapsed time 17.084\n",
      "[MICE] Starting imputation round 85/110, elapsed time 17.286\n",
      "[MICE] Starting imputation round 86/110, elapsed time 17.492\n",
      "[MICE] Starting imputation round 87/110, elapsed time 17.693\n",
      "[MICE] Starting imputation round 88/110, elapsed time 17.899\n",
      "[MICE] Starting imputation round 89/110, elapsed time 18.100\n",
      "[MICE] Starting imputation round 90/110, elapsed time 18.304\n",
      "[MICE] Starting imputation round 91/110, elapsed time 18.502\n",
      "[MICE] Starting imputation round 92/110, elapsed time 18.703\n",
      "[MICE] Starting imputation round 93/110, elapsed time 18.902\n",
      "[MICE] Starting imputation round 94/110, elapsed time 19.106\n",
      "[MICE] Starting imputation round 95/110, elapsed time 19.307\n",
      "[MICE] Starting imputation round 96/110, elapsed time 19.511\n",
      "[MICE] Starting imputation round 97/110, elapsed time 19.714\n",
      "[MICE] Starting imputation round 98/110, elapsed time 19.918\n",
      "[MICE] Starting imputation round 99/110, elapsed time 20.124\n",
      "[MICE] Starting imputation round 100/110, elapsed time 20.327\n",
      "[MICE] Starting imputation round 101/110, elapsed time 20.531\n",
      "[MICE] Starting imputation round 102/110, elapsed time 20.735\n",
      "[MICE] Starting imputation round 103/110, elapsed time 20.946\n",
      "[MICE] Starting imputation round 104/110, elapsed time 21.147\n",
      "[MICE] Starting imputation round 105/110, elapsed time 21.349\n",
      "[MICE] Starting imputation round 106/110, elapsed time 21.549\n",
      "[MICE] Starting imputation round 107/110, elapsed time 21.754\n",
      "[MICE] Starting imputation round 108/110, elapsed time 21.952\n",
      "[MICE] Starting imputation round 109/110, elapsed time 22.153\n",
      "[MICE] Starting imputation round 110/110, elapsed time 22.363\n",
      "[SoftImpute] Max Singular Value of X_init = 536514.655439\n",
      "[SoftImpute] Iter 1: observed MAE=2.087054 rank=2\n"
     ]
    },
    {
     "name": "stderr",
     "output_type": "stream",
     "text": [
      "C:\\Users\\ysami\\Anaconda3\\lib\\site-packages\\fancyimpute\\soft_impute.py:100: RuntimeWarning: divide by zero encountered in double_scalars\n",
      "  return (np.sqrt(ssd) / old_norm) < self.convergence_threshold\n"
     ]
    },
    {
     "name": "stdout",
     "output_type": "stream",
     "text": [
      "[SoftImpute] Iter 2: observed MAE=2.087059 rank=2\n",
      "[SoftImpute] Iter 3: observed MAE=2.087064 rank=2\n",
      "[SoftImpute] Iter 4: observed MAE=2.087069 rank=2\n",
      "[SoftImpute] Iter 5: observed MAE=2.087073 rank=2\n",
      "[SoftImpute] Iter 6: observed MAE=2.087078 rank=2\n",
      "[SoftImpute] Iter 7: observed MAE=2.087082 rank=2\n",
      "[SoftImpute] Iter 8: observed MAE=2.087086 rank=2\n",
      "[SoftImpute] Iter 9: observed MAE=2.087090 rank=2\n",
      "[SoftImpute] Iter 10: observed MAE=2.087094 rank=2\n",
      "[SoftImpute] Iter 11: observed MAE=2.087097 rank=2\n",
      "[SoftImpute] Iter 12: observed MAE=2.087101 rank=2\n",
      "[SoftImpute] Iter 13: observed MAE=2.087105 rank=2\n",
      "[SoftImpute] Iter 14: observed MAE=2.087109 rank=2\n",
      "[SoftImpute] Iter 15: observed MAE=2.087113 rank=2\n",
      "[SoftImpute] Iter 16: observed MAE=2.087117 rank=2\n",
      "[SoftImpute] Iter 17: observed MAE=2.087120 rank=2\n",
      "[SoftImpute] Iter 18: observed MAE=2.087123 rank=2\n",
      "[SoftImpute] Iter 19: observed MAE=2.087127 rank=2\n",
      "[SoftImpute] Iter 20: observed MAE=2.087130 rank=2\n",
      "[SoftImpute] Iter 21: observed MAE=2.087133 rank=2\n",
      "[SoftImpute] Iter 22: observed MAE=2.087136 rank=2\n",
      "[SoftImpute] Iter 23: observed MAE=2.087139 rank=2\n",
      "[SoftImpute] Iter 24: observed MAE=2.087141 rank=2\n",
      "[SoftImpute] Iter 25: observed MAE=2.087144 rank=2\n",
      "[SoftImpute] Iter 26: observed MAE=2.087147 rank=2\n",
      "[SoftImpute] Iter 27: observed MAE=2.087149 rank=2\n",
      "[SoftImpute] Iter 28: observed MAE=2.087151 rank=2\n",
      "[SoftImpute] Iter 29: observed MAE=2.087154 rank=2\n",
      "[SoftImpute] Iter 30: observed MAE=2.087156 rank=2\n",
      "[SoftImpute] Iter 31: observed MAE=2.087158 rank=2\n",
      "[SoftImpute] Iter 32: observed MAE=2.087160 rank=2\n",
      "[SoftImpute] Iter 33: observed MAE=2.087162 rank=2\n",
      "[SoftImpute] Iter 34: observed MAE=2.087164 rank=2\n",
      "[SoftImpute] Iter 35: observed MAE=2.087165 rank=2\n",
      "[SoftImpute] Iter 36: observed MAE=2.087167 rank=2\n",
      "[SoftImpute] Iter 37: observed MAE=2.087169 rank=2\n",
      "[SoftImpute] Iter 38: observed MAE=2.087171 rank=2\n",
      "[SoftImpute] Iter 39: observed MAE=2.087172 rank=2\n",
      "[SoftImpute] Iter 40: observed MAE=2.087174 rank=2\n",
      "[SoftImpute] Iter 41: observed MAE=2.087175 rank=2\n",
      "[SoftImpute] Iter 42: observed MAE=2.087176 rank=2\n",
      "[SoftImpute] Iter 43: observed MAE=2.087178 rank=2\n",
      "[SoftImpute] Iter 44: observed MAE=2.087179 rank=2\n",
      "[SoftImpute] Iter 45: observed MAE=2.087180 rank=2\n",
      "[SoftImpute] Iter 46: observed MAE=2.087182 rank=2\n",
      "[SoftImpute] Iter 47: observed MAE=2.087183 rank=2\n",
      "[SoftImpute] Iter 48: observed MAE=2.087184 rank=2\n",
      "[SoftImpute] Iter 49: observed MAE=2.087185 rank=2\n",
      "[SoftImpute] Iter 50: observed MAE=2.087186 rank=2\n",
      "[SoftImpute] Iter 51: observed MAE=2.087187 rank=2\n",
      "[SoftImpute] Iter 52: observed MAE=2.087188 rank=2\n",
      "[SoftImpute] Iter 53: observed MAE=2.087189 rank=2\n",
      "[SoftImpute] Iter 54: observed MAE=2.087190 rank=2\n",
      "[SoftImpute] Iter 55: observed MAE=2.087191 rank=2\n",
      "[SoftImpute] Iter 56: observed MAE=2.087192 rank=2\n",
      "[SoftImpute] Iter 57: observed MAE=2.087192 rank=2\n",
      "[SoftImpute] Iter 58: observed MAE=2.087193 rank=2\n",
      "[SoftImpute] Iter 59: observed MAE=2.087194 rank=2\n",
      "[SoftImpute] Iter 60: observed MAE=2.087195 rank=2\n",
      "[SoftImpute] Iter 61: observed MAE=2.087196 rank=2\n",
      "[SoftImpute] Iter 62: observed MAE=2.087196 rank=2\n",
      "[SoftImpute] Iter 63: observed MAE=2.087197 rank=2\n",
      "[SoftImpute] Iter 64: observed MAE=2.087198 rank=2\n",
      "[SoftImpute] Iter 65: observed MAE=2.087198 rank=2\n",
      "[SoftImpute] Iter 66: observed MAE=2.087199 rank=2\n",
      "[SoftImpute] Iter 67: observed MAE=2.087199 rank=2\n",
      "[SoftImpute] Iter 68: observed MAE=2.087200 rank=2\n",
      "[SoftImpute] Iter 69: observed MAE=2.087201 rank=2\n",
      "[SoftImpute] Iter 70: observed MAE=2.087201 rank=2\n",
      "[SoftImpute] Iter 71: observed MAE=2.087202 rank=2\n",
      "[SoftImpute] Iter 72: observed MAE=2.087202 rank=2\n",
      "[SoftImpute] Iter 73: observed MAE=2.087203 rank=2\n",
      "[SoftImpute] Iter 74: observed MAE=2.087203 rank=2\n",
      "[SoftImpute] Iter 75: observed MAE=2.087204 rank=2\n",
      "[SoftImpute] Iter 76: observed MAE=2.087204 rank=2\n",
      "[SoftImpute] Iter 77: observed MAE=2.087204 rank=2\n",
      "[SoftImpute] Iter 78: observed MAE=2.087205 rank=2\n",
      "[SoftImpute] Iter 79: observed MAE=2.087205 rank=2\n",
      "[SoftImpute] Iter 80: observed MAE=2.087206 rank=2\n",
      "[SoftImpute] Iter 81: observed MAE=2.087206 rank=2\n",
      "[SoftImpute] Iter 82: observed MAE=2.087206 rank=2\n",
      "[SoftImpute] Iter 83: observed MAE=2.087207 rank=2\n",
      "[SoftImpute] Iter 84: observed MAE=2.087207 rank=2\n",
      "[SoftImpute] Iter 85: observed MAE=2.087207 rank=2\n",
      "[SoftImpute] Iter 86: observed MAE=2.087208 rank=2\n",
      "[SoftImpute] Iter 87: observed MAE=2.087208 rank=2\n",
      "[SoftImpute] Iter 88: observed MAE=2.087208 rank=2\n",
      "[SoftImpute] Iter 89: observed MAE=2.087209 rank=2\n",
      "[SoftImpute] Iter 90: observed MAE=2.087209 rank=2\n",
      "[SoftImpute] Iter 91: observed MAE=2.087209 rank=2\n",
      "[SoftImpute] Iter 92: observed MAE=2.087209 rank=2\n",
      "[SoftImpute] Iter 93: observed MAE=2.087210 rank=2\n",
      "[SoftImpute] Iter 94: observed MAE=2.087210 rank=2\n",
      "[SoftImpute] Iter 95: observed MAE=2.087210 rank=2\n",
      "[SoftImpute] Iter 96: observed MAE=2.087210 rank=2\n",
      "[SoftImpute] Iter 97: observed MAE=2.087211 rank=2\n",
      "[SoftImpute] Iter 98: observed MAE=2.087211 rank=2\n",
      "[SoftImpute] Iter 99: observed MAE=2.087211 rank=2\n",
      "[SoftImpute] Iter 100: observed MAE=2.087211 rank=2\n",
      "[SoftImpute] Stopped after iteration 100 for lambda=10730.293109\n",
      "[IterativeSVD] Iter 1: observed MAE=1.900184\n"
     ]
    },
    {
     "name": "stderr",
     "output_type": "stream",
     "text": [
      "C:\\Users\\ysami\\Anaconda3\\lib\\site-packages\\fancyimpute\\iterative_svd.py:53: RuntimeWarning: divide by zero encountered in double_scalars\n",
      "  return (ssd / old_norm_squared) < self.convergence_threshold\n"
     ]
    },
    {
     "name": "stdout",
     "output_type": "stream",
     "text": [
      "[IterativeSVD] Iter 2: observed MAE=0.639932\n",
      "[IterativeSVD] Iter 3: observed MAE=0.314119\n"
     ]
    }
   ],
   "source": [
    "features=combined_df\n",
    "pred_age_df_MICE=MICE().complete(features)\n",
    "pred_age_df_softimpute = SoftImpute().complete(features)\n",
    "pred_age_df_SVD = pd.DataFrame(IterativeSVD().complete(features))"
   ]
  },
  {
   "cell_type": "markdown",
   "metadata": {},
   "source": [
    "The lowest mean absolute value is from the iterative SVD then we will use it as the age imputed value"
   ]
  },
  {
   "cell_type": "code",
   "execution_count": 129,
   "metadata": {
    "collapsed": true
   },
   "outputs": [],
   "source": [
    "combined_df['externalScore']=pred_age_df_SVD[3]"
   ]
  },
  {
   "cell_type": "code",
   "execution_count": 130,
   "metadata": {},
   "outputs": [
    {
     "data": {
      "text/plain": [
       "sex                0\n",
       "status             0\n",
       "age                0\n",
       "externalScore      0\n",
       "indSimin           0\n",
       "indXlist           0\n",
       "indCreditBureau    0\n",
       "indInternet        0\n",
       "indBadDebt         0\n",
       "salary             0\n",
       "channel            0\n",
       "indBadLocation     0\n",
       "previous           0\n",
       "loans              0\n",
       "Mortgages          0\n",
       "dtype: int64"
      ]
     },
     "execution_count": 130,
     "metadata": {},
     "output_type": "execute_result"
    }
   ],
   "source": [
    "combined_df.isnull().sum()"
   ]
  },
  {
   "cell_type": "markdown",
   "metadata": {},
   "source": [
    "# Re-split data into Training and Testing"
   ]
  },
  {
   "cell_type": "code",
   "execution_count": 131,
   "metadata": {
    "collapsed": true
   },
   "outputs": [],
   "source": [
    "training_set=combined_df[:len(training_data)]"
   ]
  },
  {
   "cell_type": "code",
   "execution_count": 132,
   "metadata": {
    "collapsed": true
   },
   "outputs": [],
   "source": [
    "test_set=combined_df[len(test):]"
   ]
  },
  {
   "cell_type": "code",
   "execution_count": 133,
   "metadata": {},
   "outputs": [
    {
     "name": "stdout",
     "output_type": "stream",
     "text": [
      "<class 'pandas.core.frame.DataFrame'>\n",
      "Int64Index: 520257 entries, 0 to 522938\n",
      "Data columns (total 15 columns):\n",
      "sex                520257 non-null int64\n",
      "status             520257 non-null int64\n",
      "age                520257 non-null float64\n",
      "externalScore      520257 non-null float64\n",
      "indSimin           520257 non-null int64\n",
      "indXlist           520257 non-null int64\n",
      "indCreditBureau    520257 non-null int64\n",
      "indInternet        520257 non-null int64\n",
      "indBadDebt         520257 non-null int64\n",
      "salary             520257 non-null int64\n",
      "channel            520257 non-null int64\n",
      "indBadLocation     520257 non-null int64\n",
      "previous           520257 non-null int64\n",
      "loans              520257 non-null int64\n",
      "Mortgages          520257 non-null int64\n",
      "dtypes: float64(2), int64(13)\n",
      "memory usage: 63.5 MB\n"
     ]
    }
   ],
   "source": [
    "training_set.info()"
   ]
  },
  {
   "cell_type": "code",
   "execution_count": 134,
   "metadata": {},
   "outputs": [
    {
     "data": {
      "text/html": [
       "<div>\n",
       "<style>\n",
       "    .dataframe thead tr:only-child th {\n",
       "        text-align: right;\n",
       "    }\n",
       "\n",
       "    .dataframe thead th {\n",
       "        text-align: left;\n",
       "    }\n",
       "\n",
       "    .dataframe tbody tr th {\n",
       "        vertical-align: top;\n",
       "    }\n",
       "</style>\n",
       "<table border=\"1\" class=\"dataframe\">\n",
       "  <thead>\n",
       "    <tr style=\"text-align: right;\">\n",
       "      <th></th>\n",
       "      <th>sex</th>\n",
       "      <th>status</th>\n",
       "      <th>age</th>\n",
       "      <th>externalScore</th>\n",
       "      <th>indSimin</th>\n",
       "      <th>indXlist</th>\n",
       "      <th>indCreditBureau</th>\n",
       "      <th>indInternet</th>\n",
       "      <th>indBadDebt</th>\n",
       "      <th>salary</th>\n",
       "      <th>channel</th>\n",
       "      <th>indBadLocation</th>\n",
       "      <th>previous</th>\n",
       "      <th>loans</th>\n",
       "      <th>Mortgages</th>\n",
       "    </tr>\n",
       "  </thead>\n",
       "  <tbody>\n",
       "    <tr>\n",
       "      <th>0</th>\n",
       "      <td>0</td>\n",
       "      <td>2</td>\n",
       "      <td>23.000000</td>\n",
       "      <td>373.0</td>\n",
       "      <td>0</td>\n",
       "      <td>0</td>\n",
       "      <td>0</td>\n",
       "      <td>1</td>\n",
       "      <td>1</td>\n",
       "      <td>5</td>\n",
       "      <td>3</td>\n",
       "      <td>0</td>\n",
       "      <td>1</td>\n",
       "      <td>6</td>\n",
       "      <td>3</td>\n",
       "    </tr>\n",
       "    <tr>\n",
       "      <th>1</th>\n",
       "      <td>1</td>\n",
       "      <td>2</td>\n",
       "      <td>27.000000</td>\n",
       "      <td>702.0</td>\n",
       "      <td>1</td>\n",
       "      <td>0</td>\n",
       "      <td>0</td>\n",
       "      <td>1</td>\n",
       "      <td>0</td>\n",
       "      <td>7</td>\n",
       "      <td>3</td>\n",
       "      <td>0</td>\n",
       "      <td>3</td>\n",
       "      <td>0</td>\n",
       "      <td>2</td>\n",
       "    </tr>\n",
       "    <tr>\n",
       "      <th>2</th>\n",
       "      <td>1</td>\n",
       "      <td>2</td>\n",
       "      <td>28.000000</td>\n",
       "      <td>728.0</td>\n",
       "      <td>0</td>\n",
       "      <td>0</td>\n",
       "      <td>0</td>\n",
       "      <td>1</td>\n",
       "      <td>0</td>\n",
       "      <td>7</td>\n",
       "      <td>3</td>\n",
       "      <td>0</td>\n",
       "      <td>3</td>\n",
       "      <td>1</td>\n",
       "      <td>2</td>\n",
       "    </tr>\n",
       "    <tr>\n",
       "      <th>3</th>\n",
       "      <td>1</td>\n",
       "      <td>2</td>\n",
       "      <td>45.000000</td>\n",
       "      <td>650.0</td>\n",
       "      <td>0</td>\n",
       "      <td>0</td>\n",
       "      <td>0</td>\n",
       "      <td>0</td>\n",
       "      <td>0</td>\n",
       "      <td>5</td>\n",
       "      <td>2</td>\n",
       "      <td>0</td>\n",
       "      <td>4</td>\n",
       "      <td>0</td>\n",
       "      <td>2</td>\n",
       "    </tr>\n",
       "    <tr>\n",
       "      <th>4</th>\n",
       "      <td>0</td>\n",
       "      <td>3</td>\n",
       "      <td>1.221704</td>\n",
       "      <td>625.0</td>\n",
       "      <td>0</td>\n",
       "      <td>0</td>\n",
       "      <td>0</td>\n",
       "      <td>1</td>\n",
       "      <td>0</td>\n",
       "      <td>2</td>\n",
       "      <td>3</td>\n",
       "      <td>0</td>\n",
       "      <td>1</td>\n",
       "      <td>6</td>\n",
       "      <td>3</td>\n",
       "    </tr>\n",
       "  </tbody>\n",
       "</table>\n",
       "</div>"
      ],
      "text/plain": [
       "   sex  status        age  externalScore  indSimin  indXlist  indCreditBureau  \\\n",
       "0    0       2  23.000000          373.0         0         0                0   \n",
       "1    1       2  27.000000          702.0         1         0                0   \n",
       "2    1       2  28.000000          728.0         0         0                0   \n",
       "3    1       2  45.000000          650.0         0         0                0   \n",
       "4    0       3   1.221704          625.0         0         0                0   \n",
       "\n",
       "   indInternet  indBadDebt  salary  channel  indBadLocation  previous  loans  \\\n",
       "0            1           1       5        3               0         1      6   \n",
       "1            1           0       7        3               0         3      0   \n",
       "2            1           0       7        3               0         3      1   \n",
       "3            0           0       5        2               0         4      0   \n",
       "4            1           0       2        3               0         1      6   \n",
       "\n",
       "   Mortgages  \n",
       "0          3  \n",
       "1          2  \n",
       "2          2  \n",
       "3          2  \n",
       "4          3  "
      ]
     },
     "execution_count": 134,
     "metadata": {},
     "output_type": "execute_result"
    }
   ],
   "source": [
    "training_set.head()"
   ]
  },
  {
   "cell_type": "markdown",
   "metadata": {},
   "source": [
    "## Features Selection "
   ]
  },
  {
   "cell_type": "code",
   "execution_count": 140,
   "metadata": {
    "scrolled": true
   },
   "outputs": [
    {
     "name": "stdout",
     "output_type": "stream",
     "text": [
      "468231 52026\n"
     ]
    }
   ],
   "source": [
    "# use these variables - room for improvement here\n",
    "   \n",
    "#factors=[u'sex',u'status',u'salary',u'previous', 'age','predScore','indSimin','indXlist','indCreditBureau',\n",
    " #       'indInternet','indBadDebt',u'channel','indBadLocation','sumExternalDefault','loans','Mortgages']\n",
    "\n",
    "factors=[u'sex',u'status',u'salary',u'previous', 'age','externalScore','indSimin','indXlist','indCreditBureau',\n",
    "        'indInternet','indBadDebt',u'channel','indBadLocation','loans','Mortgages']\n",
    "\n",
    "X_train, X_test, y_train, y_test = train_test_split(training_set[factors], target_F, test_size=0.1, random_state=10)\n",
    "\n",
    "\n",
    "print (len(X_train), len(X_test))"
   ]
  },
  {
   "cell_type": "code",
   "execution_count": 141,
   "metadata": {
    "collapsed": true
   },
   "outputs": [],
   "source": [
    "X_test=(X_test - X_test.min())/(X_test.max() - X_test.min())\n",
    "X_train=(X_train - X_train.min())/(X_train.max() - X_train.min())"
   ]
  },
  {
   "cell_type": "markdown",
   "metadata": {},
   "source": [
    "### Standarize the scalling of the dataset to enhance prediction "
   ]
  },
  {
   "cell_type": "code",
   "execution_count": 142,
   "metadata": {
    "collapsed": true
   },
   "outputs": [],
   "source": [
    "from sklearn.preprocessing import StandardScaler  \n",
    "scaler = StandardScaler()  \n",
    "scaler.fit(X_train)\n",
    "\n",
    "X_train = scaler.transform(X_train)  \n",
    "X_test = scaler.transform(X_test)"
   ]
  },
  {
   "cell_type": "markdown",
   "metadata": {},
   "source": [
    "### Running Different Models and test the accuracy results to pick the best model"
   ]
  },
  {
   "cell_type": "code",
   "execution_count": 69,
   "metadata": {},
   "outputs": [
    {
     "name": "stdout",
     "output_type": "stream",
     "text": [
      "Logistic Regression Accuracy 0.6841163220979809\n"
     ]
    }
   ],
   "source": [
    "modelLR = LogisticRegression(random_state=0)\n",
    "modelLR.fit(X_train, y_train)\n",
    "scoreLR= modelLR.score(X_test,y_test)\n",
    "print ('Logistic Regression Accuracy', scoreLR)"
   ]
  },
  {
   "cell_type": "code",
   "execution_count": 53,
   "metadata": {},
   "outputs": [
    {
     "name": "stdout",
     "output_type": "stream",
     "text": [
      "Logistic Regression auc 0.6768719838128437\n"
     ]
    }
   ],
   "source": [
    "y_pred = modelLR.predict_proba(X_test)[:, 1]\n",
    "auc_scoreLR=roc_auc_score(y_test,y_pred)\n",
    "print ('Logistic Regression auc', auc_scoreLR)"
   ]
  },
  {
   "cell_type": "code",
   "execution_count": 54,
   "metadata": {
    "scrolled": true
   },
   "outputs": [
    {
     "ename": "KeyboardInterrupt",
     "evalue": "",
     "output_type": "error",
     "traceback": [
      "\u001b[1;31m---------------------------------------------------------------------------\u001b[0m",
      "\u001b[1;31mKeyboardInterrupt\u001b[0m                         Traceback (most recent call last)",
      "\u001b[1;32m<ipython-input-54-1d68e936360e>\u001b[0m in \u001b[0;36m<module>\u001b[1;34m()\u001b[0m\n\u001b[0;32m      1\u001b[0m \u001b[0mmodelETC\u001b[0m \u001b[1;33m=\u001b[0m \u001b[0mExtraTreesClassifier\u001b[0m\u001b[1;33m(\u001b[0m\u001b[0mn_estimators\u001b[0m\u001b[1;33m=\u001b[0m\u001b[1;36m1000\u001b[0m\u001b[1;33m,\u001b[0m\u001b[0mmin_samples_split\u001b[0m\u001b[1;33m=\u001b[0m\u001b[1;36m10\u001b[0m\u001b[1;33m)\u001b[0m\u001b[1;33m\u001b[0m\u001b[0m\n\u001b[1;32m----> 2\u001b[1;33m \u001b[0mmodelETC\u001b[0m\u001b[1;33m.\u001b[0m\u001b[0mfit\u001b[0m\u001b[1;33m(\u001b[0m\u001b[0mX_train\u001b[0m\u001b[1;33m,\u001b[0m \u001b[0my_train\u001b[0m\u001b[1;33m)\u001b[0m\u001b[1;33m\u001b[0m\u001b[0m\n\u001b[0m\u001b[0;32m      3\u001b[0m \u001b[0mscoreETC\u001b[0m\u001b[1;33m=\u001b[0m \u001b[0mmodelETC\u001b[0m\u001b[1;33m.\u001b[0m\u001b[0mscore\u001b[0m\u001b[1;33m(\u001b[0m\u001b[0mX_test\u001b[0m\u001b[1;33m,\u001b[0m\u001b[0my_test\u001b[0m\u001b[1;33m)\u001b[0m\u001b[1;33m\u001b[0m\u001b[0m\n\u001b[0;32m      4\u001b[0m \u001b[0mprint\u001b[0m \u001b[1;33m(\u001b[0m\u001b[1;34m'Extra Tree Classifier'\u001b[0m\u001b[1;33m,\u001b[0m \u001b[0mscoreETC\u001b[0m\u001b[1;33m)\u001b[0m\u001b[1;33m\u001b[0m\u001b[0m\n",
      "\u001b[1;32m~\\Anaconda3\\lib\\site-packages\\sklearn\\ensemble\\forest.py\u001b[0m in \u001b[0;36mfit\u001b[1;34m(self, X, y, sample_weight)\u001b[0m\n\u001b[0;32m    326\u001b[0m                     \u001b[0mt\u001b[0m\u001b[1;33m,\u001b[0m \u001b[0mself\u001b[0m\u001b[1;33m,\u001b[0m \u001b[0mX\u001b[0m\u001b[1;33m,\u001b[0m \u001b[0my\u001b[0m\u001b[1;33m,\u001b[0m \u001b[0msample_weight\u001b[0m\u001b[1;33m,\u001b[0m \u001b[0mi\u001b[0m\u001b[1;33m,\u001b[0m \u001b[0mlen\u001b[0m\u001b[1;33m(\u001b[0m\u001b[0mtrees\u001b[0m\u001b[1;33m)\u001b[0m\u001b[1;33m,\u001b[0m\u001b[1;33m\u001b[0m\u001b[0m\n\u001b[0;32m    327\u001b[0m                     verbose=self.verbose, class_weight=self.class_weight)\n\u001b[1;32m--> 328\u001b[1;33m                 for i, t in enumerate(trees))\n\u001b[0m\u001b[0;32m    329\u001b[0m \u001b[1;33m\u001b[0m\u001b[0m\n\u001b[0;32m    330\u001b[0m             \u001b[1;31m# Collect newly grown trees\u001b[0m\u001b[1;33m\u001b[0m\u001b[1;33m\u001b[0m\u001b[0m\n",
      "\u001b[1;32m~\\Anaconda3\\lib\\site-packages\\sklearn\\externals\\joblib\\parallel.py\u001b[0m in \u001b[0;36m__call__\u001b[1;34m(self, iterable)\u001b[0m\n\u001b[0;32m    777\u001b[0m             \u001b[1;31m# was dispatched. In particular this covers the edge\u001b[0m\u001b[1;33m\u001b[0m\u001b[1;33m\u001b[0m\u001b[0m\n\u001b[0;32m    778\u001b[0m             \u001b[1;31m# case of Parallel used with an exhausted iterator.\u001b[0m\u001b[1;33m\u001b[0m\u001b[1;33m\u001b[0m\u001b[0m\n\u001b[1;32m--> 779\u001b[1;33m             \u001b[1;32mwhile\u001b[0m \u001b[0mself\u001b[0m\u001b[1;33m.\u001b[0m\u001b[0mdispatch_one_batch\u001b[0m\u001b[1;33m(\u001b[0m\u001b[0miterator\u001b[0m\u001b[1;33m)\u001b[0m\u001b[1;33m:\u001b[0m\u001b[1;33m\u001b[0m\u001b[0m\n\u001b[0m\u001b[0;32m    780\u001b[0m                 \u001b[0mself\u001b[0m\u001b[1;33m.\u001b[0m\u001b[0m_iterating\u001b[0m \u001b[1;33m=\u001b[0m \u001b[1;32mTrue\u001b[0m\u001b[1;33m\u001b[0m\u001b[0m\n\u001b[0;32m    781\u001b[0m             \u001b[1;32melse\u001b[0m\u001b[1;33m:\u001b[0m\u001b[1;33m\u001b[0m\u001b[0m\n",
      "\u001b[1;32m~\\Anaconda3\\lib\\site-packages\\sklearn\\externals\\joblib\\parallel.py\u001b[0m in \u001b[0;36mdispatch_one_batch\u001b[1;34m(self, iterator)\u001b[0m\n\u001b[0;32m    623\u001b[0m                 \u001b[1;32mreturn\u001b[0m \u001b[1;32mFalse\u001b[0m\u001b[1;33m\u001b[0m\u001b[0m\n\u001b[0;32m    624\u001b[0m             \u001b[1;32melse\u001b[0m\u001b[1;33m:\u001b[0m\u001b[1;33m\u001b[0m\u001b[0m\n\u001b[1;32m--> 625\u001b[1;33m                 \u001b[0mself\u001b[0m\u001b[1;33m.\u001b[0m\u001b[0m_dispatch\u001b[0m\u001b[1;33m(\u001b[0m\u001b[0mtasks\u001b[0m\u001b[1;33m)\u001b[0m\u001b[1;33m\u001b[0m\u001b[0m\n\u001b[0m\u001b[0;32m    626\u001b[0m                 \u001b[1;32mreturn\u001b[0m \u001b[1;32mTrue\u001b[0m\u001b[1;33m\u001b[0m\u001b[0m\n\u001b[0;32m    627\u001b[0m \u001b[1;33m\u001b[0m\u001b[0m\n",
      "\u001b[1;32m~\\Anaconda3\\lib\\site-packages\\sklearn\\externals\\joblib\\parallel.py\u001b[0m in \u001b[0;36m_dispatch\u001b[1;34m(self, batch)\u001b[0m\n\u001b[0;32m    586\u001b[0m         \u001b[0mdispatch_timestamp\u001b[0m \u001b[1;33m=\u001b[0m \u001b[0mtime\u001b[0m\u001b[1;33m.\u001b[0m\u001b[0mtime\u001b[0m\u001b[1;33m(\u001b[0m\u001b[1;33m)\u001b[0m\u001b[1;33m\u001b[0m\u001b[0m\n\u001b[0;32m    587\u001b[0m         \u001b[0mcb\u001b[0m \u001b[1;33m=\u001b[0m \u001b[0mBatchCompletionCallBack\u001b[0m\u001b[1;33m(\u001b[0m\u001b[0mdispatch_timestamp\u001b[0m\u001b[1;33m,\u001b[0m \u001b[0mlen\u001b[0m\u001b[1;33m(\u001b[0m\u001b[0mbatch\u001b[0m\u001b[1;33m)\u001b[0m\u001b[1;33m,\u001b[0m \u001b[0mself\u001b[0m\u001b[1;33m)\u001b[0m\u001b[1;33m\u001b[0m\u001b[0m\n\u001b[1;32m--> 588\u001b[1;33m         \u001b[0mjob\u001b[0m \u001b[1;33m=\u001b[0m \u001b[0mself\u001b[0m\u001b[1;33m.\u001b[0m\u001b[0m_backend\u001b[0m\u001b[1;33m.\u001b[0m\u001b[0mapply_async\u001b[0m\u001b[1;33m(\u001b[0m\u001b[0mbatch\u001b[0m\u001b[1;33m,\u001b[0m \u001b[0mcallback\u001b[0m\u001b[1;33m=\u001b[0m\u001b[0mcb\u001b[0m\u001b[1;33m)\u001b[0m\u001b[1;33m\u001b[0m\u001b[0m\n\u001b[0m\u001b[0;32m    589\u001b[0m         \u001b[0mself\u001b[0m\u001b[1;33m.\u001b[0m\u001b[0m_jobs\u001b[0m\u001b[1;33m.\u001b[0m\u001b[0mappend\u001b[0m\u001b[1;33m(\u001b[0m\u001b[0mjob\u001b[0m\u001b[1;33m)\u001b[0m\u001b[1;33m\u001b[0m\u001b[0m\n\u001b[0;32m    590\u001b[0m \u001b[1;33m\u001b[0m\u001b[0m\n",
      "\u001b[1;32m~\\Anaconda3\\lib\\site-packages\\sklearn\\externals\\joblib\\_parallel_backends.py\u001b[0m in \u001b[0;36mapply_async\u001b[1;34m(self, func, callback)\u001b[0m\n\u001b[0;32m    109\u001b[0m     \u001b[1;32mdef\u001b[0m \u001b[0mapply_async\u001b[0m\u001b[1;33m(\u001b[0m\u001b[0mself\u001b[0m\u001b[1;33m,\u001b[0m \u001b[0mfunc\u001b[0m\u001b[1;33m,\u001b[0m \u001b[0mcallback\u001b[0m\u001b[1;33m=\u001b[0m\u001b[1;32mNone\u001b[0m\u001b[1;33m)\u001b[0m\u001b[1;33m:\u001b[0m\u001b[1;33m\u001b[0m\u001b[0m\n\u001b[0;32m    110\u001b[0m         \u001b[1;34m\"\"\"Schedule a func to be run\"\"\"\u001b[0m\u001b[1;33m\u001b[0m\u001b[0m\n\u001b[1;32m--> 111\u001b[1;33m         \u001b[0mresult\u001b[0m \u001b[1;33m=\u001b[0m \u001b[0mImmediateResult\u001b[0m\u001b[1;33m(\u001b[0m\u001b[0mfunc\u001b[0m\u001b[1;33m)\u001b[0m\u001b[1;33m\u001b[0m\u001b[0m\n\u001b[0m\u001b[0;32m    112\u001b[0m         \u001b[1;32mif\u001b[0m \u001b[0mcallback\u001b[0m\u001b[1;33m:\u001b[0m\u001b[1;33m\u001b[0m\u001b[0m\n\u001b[0;32m    113\u001b[0m             \u001b[0mcallback\u001b[0m\u001b[1;33m(\u001b[0m\u001b[0mresult\u001b[0m\u001b[1;33m)\u001b[0m\u001b[1;33m\u001b[0m\u001b[0m\n",
      "\u001b[1;32m~\\Anaconda3\\lib\\site-packages\\sklearn\\externals\\joblib\\_parallel_backends.py\u001b[0m in \u001b[0;36m__init__\u001b[1;34m(self, batch)\u001b[0m\n\u001b[0;32m    330\u001b[0m         \u001b[1;31m# Don't delay the application, to avoid keeping the input\u001b[0m\u001b[1;33m\u001b[0m\u001b[1;33m\u001b[0m\u001b[0m\n\u001b[0;32m    331\u001b[0m         \u001b[1;31m# arguments in memory\u001b[0m\u001b[1;33m\u001b[0m\u001b[1;33m\u001b[0m\u001b[0m\n\u001b[1;32m--> 332\u001b[1;33m         \u001b[0mself\u001b[0m\u001b[1;33m.\u001b[0m\u001b[0mresults\u001b[0m \u001b[1;33m=\u001b[0m \u001b[0mbatch\u001b[0m\u001b[1;33m(\u001b[0m\u001b[1;33m)\u001b[0m\u001b[1;33m\u001b[0m\u001b[0m\n\u001b[0m\u001b[0;32m    333\u001b[0m \u001b[1;33m\u001b[0m\u001b[0m\n\u001b[0;32m    334\u001b[0m     \u001b[1;32mdef\u001b[0m \u001b[0mget\u001b[0m\u001b[1;33m(\u001b[0m\u001b[0mself\u001b[0m\u001b[1;33m)\u001b[0m\u001b[1;33m:\u001b[0m\u001b[1;33m\u001b[0m\u001b[0m\n",
      "\u001b[1;32m~\\Anaconda3\\lib\\site-packages\\sklearn\\externals\\joblib\\parallel.py\u001b[0m in \u001b[0;36m__call__\u001b[1;34m(self)\u001b[0m\n\u001b[0;32m    129\u001b[0m \u001b[1;33m\u001b[0m\u001b[0m\n\u001b[0;32m    130\u001b[0m     \u001b[1;32mdef\u001b[0m \u001b[0m__call__\u001b[0m\u001b[1;33m(\u001b[0m\u001b[0mself\u001b[0m\u001b[1;33m)\u001b[0m\u001b[1;33m:\u001b[0m\u001b[1;33m\u001b[0m\u001b[0m\n\u001b[1;32m--> 131\u001b[1;33m         \u001b[1;32mreturn\u001b[0m \u001b[1;33m[\u001b[0m\u001b[0mfunc\u001b[0m\u001b[1;33m(\u001b[0m\u001b[1;33m*\u001b[0m\u001b[0margs\u001b[0m\u001b[1;33m,\u001b[0m \u001b[1;33m**\u001b[0m\u001b[0mkwargs\u001b[0m\u001b[1;33m)\u001b[0m \u001b[1;32mfor\u001b[0m \u001b[0mfunc\u001b[0m\u001b[1;33m,\u001b[0m \u001b[0margs\u001b[0m\u001b[1;33m,\u001b[0m \u001b[0mkwargs\u001b[0m \u001b[1;32min\u001b[0m \u001b[0mself\u001b[0m\u001b[1;33m.\u001b[0m\u001b[0mitems\u001b[0m\u001b[1;33m]\u001b[0m\u001b[1;33m\u001b[0m\u001b[0m\n\u001b[0m\u001b[0;32m    132\u001b[0m \u001b[1;33m\u001b[0m\u001b[0m\n\u001b[0;32m    133\u001b[0m     \u001b[1;32mdef\u001b[0m \u001b[0m__len__\u001b[0m\u001b[1;33m(\u001b[0m\u001b[0mself\u001b[0m\u001b[1;33m)\u001b[0m\u001b[1;33m:\u001b[0m\u001b[1;33m\u001b[0m\u001b[0m\n",
      "\u001b[1;32m~\\Anaconda3\\lib\\site-packages\\sklearn\\externals\\joblib\\parallel.py\u001b[0m in \u001b[0;36m<listcomp>\u001b[1;34m(.0)\u001b[0m\n\u001b[0;32m    129\u001b[0m \u001b[1;33m\u001b[0m\u001b[0m\n\u001b[0;32m    130\u001b[0m     \u001b[1;32mdef\u001b[0m \u001b[0m__call__\u001b[0m\u001b[1;33m(\u001b[0m\u001b[0mself\u001b[0m\u001b[1;33m)\u001b[0m\u001b[1;33m:\u001b[0m\u001b[1;33m\u001b[0m\u001b[0m\n\u001b[1;32m--> 131\u001b[1;33m         \u001b[1;32mreturn\u001b[0m \u001b[1;33m[\u001b[0m\u001b[0mfunc\u001b[0m\u001b[1;33m(\u001b[0m\u001b[1;33m*\u001b[0m\u001b[0margs\u001b[0m\u001b[1;33m,\u001b[0m \u001b[1;33m**\u001b[0m\u001b[0mkwargs\u001b[0m\u001b[1;33m)\u001b[0m \u001b[1;32mfor\u001b[0m \u001b[0mfunc\u001b[0m\u001b[1;33m,\u001b[0m \u001b[0margs\u001b[0m\u001b[1;33m,\u001b[0m \u001b[0mkwargs\u001b[0m \u001b[1;32min\u001b[0m \u001b[0mself\u001b[0m\u001b[1;33m.\u001b[0m\u001b[0mitems\u001b[0m\u001b[1;33m]\u001b[0m\u001b[1;33m\u001b[0m\u001b[0m\n\u001b[0m\u001b[0;32m    132\u001b[0m \u001b[1;33m\u001b[0m\u001b[0m\n\u001b[0;32m    133\u001b[0m     \u001b[1;32mdef\u001b[0m \u001b[0m__len__\u001b[0m\u001b[1;33m(\u001b[0m\u001b[0mself\u001b[0m\u001b[1;33m)\u001b[0m\u001b[1;33m:\u001b[0m\u001b[1;33m\u001b[0m\u001b[0m\n",
      "\u001b[1;32m~\\Anaconda3\\lib\\site-packages\\sklearn\\ensemble\\forest.py\u001b[0m in \u001b[0;36m_parallel_build_trees\u001b[1;34m(tree, forest, X, y, sample_weight, tree_idx, n_trees, verbose, class_weight)\u001b[0m\n\u001b[0;32m    121\u001b[0m         \u001b[0mtree\u001b[0m\u001b[1;33m.\u001b[0m\u001b[0mfit\u001b[0m\u001b[1;33m(\u001b[0m\u001b[0mX\u001b[0m\u001b[1;33m,\u001b[0m \u001b[0my\u001b[0m\u001b[1;33m,\u001b[0m \u001b[0msample_weight\u001b[0m\u001b[1;33m=\u001b[0m\u001b[0mcurr_sample_weight\u001b[0m\u001b[1;33m,\u001b[0m \u001b[0mcheck_input\u001b[0m\u001b[1;33m=\u001b[0m\u001b[1;32mFalse\u001b[0m\u001b[1;33m)\u001b[0m\u001b[1;33m\u001b[0m\u001b[0m\n\u001b[0;32m    122\u001b[0m     \u001b[1;32melse\u001b[0m\u001b[1;33m:\u001b[0m\u001b[1;33m\u001b[0m\u001b[0m\n\u001b[1;32m--> 123\u001b[1;33m         \u001b[0mtree\u001b[0m\u001b[1;33m.\u001b[0m\u001b[0mfit\u001b[0m\u001b[1;33m(\u001b[0m\u001b[0mX\u001b[0m\u001b[1;33m,\u001b[0m \u001b[0my\u001b[0m\u001b[1;33m,\u001b[0m \u001b[0msample_weight\u001b[0m\u001b[1;33m=\u001b[0m\u001b[0msample_weight\u001b[0m\u001b[1;33m,\u001b[0m \u001b[0mcheck_input\u001b[0m\u001b[1;33m=\u001b[0m\u001b[1;32mFalse\u001b[0m\u001b[1;33m)\u001b[0m\u001b[1;33m\u001b[0m\u001b[0m\n\u001b[0m\u001b[0;32m    124\u001b[0m \u001b[1;33m\u001b[0m\u001b[0m\n\u001b[0;32m    125\u001b[0m     \u001b[1;32mreturn\u001b[0m \u001b[0mtree\u001b[0m\u001b[1;33m\u001b[0m\u001b[0m\n",
      "\u001b[1;32m~\\Anaconda3\\lib\\site-packages\\sklearn\\tree\\tree.py\u001b[0m in \u001b[0;36mfit\u001b[1;34m(self, X, y, sample_weight, check_input, X_idx_sorted)\u001b[0m\n\u001b[0;32m    788\u001b[0m             \u001b[0msample_weight\u001b[0m\u001b[1;33m=\u001b[0m\u001b[0msample_weight\u001b[0m\u001b[1;33m,\u001b[0m\u001b[1;33m\u001b[0m\u001b[0m\n\u001b[0;32m    789\u001b[0m             \u001b[0mcheck_input\u001b[0m\u001b[1;33m=\u001b[0m\u001b[0mcheck_input\u001b[0m\u001b[1;33m,\u001b[0m\u001b[1;33m\u001b[0m\u001b[0m\n\u001b[1;32m--> 790\u001b[1;33m             X_idx_sorted=X_idx_sorted)\n\u001b[0m\u001b[0;32m    791\u001b[0m         \u001b[1;32mreturn\u001b[0m \u001b[0mself\u001b[0m\u001b[1;33m\u001b[0m\u001b[0m\n\u001b[0;32m    792\u001b[0m \u001b[1;33m\u001b[0m\u001b[0m\n",
      "\u001b[1;32m~\\Anaconda3\\lib\\site-packages\\sklearn\\tree\\tree.py\u001b[0m in \u001b[0;36mfit\u001b[1;34m(self, X, y, sample_weight, check_input, X_idx_sorted)\u001b[0m\n\u001b[0;32m    360\u001b[0m                                            min_impurity_split)\n\u001b[0;32m    361\u001b[0m \u001b[1;33m\u001b[0m\u001b[0m\n\u001b[1;32m--> 362\u001b[1;33m         \u001b[0mbuilder\u001b[0m\u001b[1;33m.\u001b[0m\u001b[0mbuild\u001b[0m\u001b[1;33m(\u001b[0m\u001b[0mself\u001b[0m\u001b[1;33m.\u001b[0m\u001b[0mtree_\u001b[0m\u001b[1;33m,\u001b[0m \u001b[0mX\u001b[0m\u001b[1;33m,\u001b[0m \u001b[0my\u001b[0m\u001b[1;33m,\u001b[0m \u001b[0msample_weight\u001b[0m\u001b[1;33m,\u001b[0m \u001b[0mX_idx_sorted\u001b[0m\u001b[1;33m)\u001b[0m\u001b[1;33m\u001b[0m\u001b[0m\n\u001b[0m\u001b[0;32m    363\u001b[0m \u001b[1;33m\u001b[0m\u001b[0m\n\u001b[0;32m    364\u001b[0m         \u001b[1;32mif\u001b[0m \u001b[0mself\u001b[0m\u001b[1;33m.\u001b[0m\u001b[0mn_outputs_\u001b[0m \u001b[1;33m==\u001b[0m \u001b[1;36m1\u001b[0m\u001b[1;33m:\u001b[0m\u001b[1;33m\u001b[0m\u001b[0m\n",
      "\u001b[1;31mKeyboardInterrupt\u001b[0m: "
     ]
    }
   ],
   "source": [
    "modelETC = ExtraTreesClassifier(n_estimators=1000,min_samples_split=10)\n",
    "modelETC.fit(X_train, y_train)\n",
    "scoreETC= modelETC.score(X_test,y_test)\n",
    "print ('Extra Tree Classifier', scoreETC)"
   ]
  },
  {
   "cell_type": "code",
   "execution_count": null,
   "metadata": {
    "collapsed": true
   },
   "outputs": [],
   "source": [
    "y_pred = modelETC.predict_proba(X_test)[:, 1]\n",
    "auc_scoreETC=roc_auc_score(y_test,y_pred)\n",
    "print ('Extra Tree Classifier auc', auc_scoreETC)"
   ]
  },
  {
   "cell_type": "code",
   "execution_count": null,
   "metadata": {
    "collapsed": true
   },
   "outputs": [],
   "source": [
    "modelRFC = RandomForestClassifier(n_estimators=1000,min_samples_split=5,bootstrap=True)\n",
    "modelRFC.fit(X_train, y_train)\n",
    "scoreRFC= modelRFC.score(X_test,y_test)\n",
    "print ('Random Forest Classifier', scoreRFC)"
   ]
  },
  {
   "cell_type": "code",
   "execution_count": null,
   "metadata": {
    "collapsed": true
   },
   "outputs": [],
   "source": [
    "y_pred = modelRFC.predict_proba(X_test)[:, 1]\n",
    "auc_scoreRFC=roc_auc_score(y_test,y_pred)\n",
    "print ('Random Forest Classifier auc', auc_scoreRFC)"
   ]
  },
  {
   "cell_type": "code",
   "execution_count": 143,
   "metadata": {
    "scrolled": true
   },
   "outputs": [
    {
     "name": "stdout",
     "output_type": "stream",
     "text": [
      "XGboost Classifiers 0.6908661054088341\n"
     ]
    },
    {
     "name": "stderr",
     "output_type": "stream",
     "text": [
      "C:\\Users\\ysami\\Anaconda3\\lib\\site-packages\\sklearn\\preprocessing\\label.py:151: DeprecationWarning: The truth value of an empty array is ambiguous. Returning False, but in future this will result in an error. Use `array.size > 0` to check that an array is not empty.\n",
      "  if diff:\n"
     ]
    }
   ],
   "source": [
    "modelXclass = XGBClassifier(learning_rate =0.1,\n",
    " n_estimators=1000,\n",
    " max_depth=5,\n",
    " min_child_weight=1,\n",
    " gamma=0,\n",
    " subsample=0.8,\n",
    " colsample_bytree=0.8,\n",
    " objective= 'binary:logistic',\n",
    " nthread=4,\n",
    " scale_pos_weight=1,\n",
    " seed=27)   \n",
    "modelXclass.fit(X_train, y_train)  \n",
    "scoreXclass= modelXclass.score(X_test,y_test)\n",
    "print ('XGboost Classifiers', scoreXclass)"
   ]
  },
  {
   "cell_type": "code",
   "execution_count": 144,
   "metadata": {},
   "outputs": [
    {
     "name": "stdout",
     "output_type": "stream",
     "text": [
      "XGboost Classifiers auc 0.6976951044369528\n"
     ]
    }
   ],
   "source": [
    "y_pred = modelXclass.predict_proba(X_test)[:, 1]\n",
    "auc_scoreXclass=roc_auc_score(y_test,y_pred)\n",
    "print ('XGboost Classifiers auc', auc_scoreXclass)"
   ]
  },
  {
   "cell_type": "code",
   "execution_count": null,
   "metadata": {
    "collapsed": true
   },
   "outputs": [],
   "source": [
    "pd.DataFrame([\n",
    "    ('LR' ,auc_scoreLR),\n",
    "    ('ETC', auc_scoreETC),\n",
    "    ('RFC', auc_scoreRFC),\n",
    "    ('XGB', auc_scoreXclass),\n",
    "    ], columns=[\"Network\", \"score\"]).plot(x=\"Network\", y=\"score\", kind=\"Bar\", fontsize=15)\n",
    "plt.xlabel('Network', fontsize=15)\n",
    "plt.ylabel('Score', fontsize=15)"
   ]
  },
  {
   "cell_type": "code",
   "execution_count": 145,
   "metadata": {
    "scrolled": true
   },
   "outputs": [
    {
     "name": "stdout",
     "output_type": "stream",
     "text": [
      "[0]\tvalidation_0-auc:0.6703\tvalidation_1-auc:0.665709\n",
      "Multiple eval metrics have been passed: 'validation_1-auc' will be used for early stopping.\n",
      "\n",
      "Will train until validation_1-auc hasn't improved in 50 rounds.\n",
      "[1]\tvalidation_0-auc:0.678373\tvalidation_1-auc:0.674201\n",
      "[2]\tvalidation_0-auc:0.679385\tvalidation_1-auc:0.67523\n",
      "[3]\tvalidation_0-auc:0.681052\tvalidation_1-auc:0.676708\n",
      "[4]\tvalidation_0-auc:0.68457\tvalidation_1-auc:0.680469\n",
      "[5]\tvalidation_0-auc:0.685975\tvalidation_1-auc:0.681677\n",
      "[6]\tvalidation_0-auc:0.688385\tvalidation_1-auc:0.683794\n",
      "[7]\tvalidation_0-auc:0.688686\tvalidation_1-auc:0.684068\n",
      "[8]\tvalidation_0-auc:0.690755\tvalidation_1-auc:0.685647\n",
      "[9]\tvalidation_0-auc:0.69152\tvalidation_1-auc:0.686323\n",
      "[10]\tvalidation_0-auc:0.691789\tvalidation_1-auc:0.686678\n",
      "[11]\tvalidation_0-auc:0.692205\tvalidation_1-auc:0.686963\n",
      "[12]\tvalidation_0-auc:0.692983\tvalidation_1-auc:0.687777\n",
      "[13]\tvalidation_0-auc:0.69383\tvalidation_1-auc:0.688372\n",
      "[14]\tvalidation_0-auc:0.694453\tvalidation_1-auc:0.688947\n",
      "[15]\tvalidation_0-auc:0.695039\tvalidation_1-auc:0.689673\n",
      "[16]\tvalidation_0-auc:0.695761\tvalidation_1-auc:0.690113\n",
      "[17]\tvalidation_0-auc:0.696315\tvalidation_1-auc:0.690667\n",
      "[18]\tvalidation_0-auc:0.697053\tvalidation_1-auc:0.691501\n",
      "[19]\tvalidation_0-auc:0.697642\tvalidation_1-auc:0.692081\n",
      "[20]\tvalidation_0-auc:0.698053\tvalidation_1-auc:0.692482\n",
      "[21]\tvalidation_0-auc:0.698674\tvalidation_1-auc:0.692949\n",
      "[22]\tvalidation_0-auc:0.699025\tvalidation_1-auc:0.69329\n",
      "[23]\tvalidation_0-auc:0.699255\tvalidation_1-auc:0.693567\n",
      "[24]\tvalidation_0-auc:0.699806\tvalidation_1-auc:0.693998\n",
      "[25]\tvalidation_0-auc:0.700036\tvalidation_1-auc:0.694237\n",
      "[26]\tvalidation_0-auc:0.700318\tvalidation_1-auc:0.694384\n",
      "[27]\tvalidation_0-auc:0.70046\tvalidation_1-auc:0.69448\n",
      "[28]\tvalidation_0-auc:0.700685\tvalidation_1-auc:0.694721\n",
      "[29]\tvalidation_0-auc:0.700868\tvalidation_1-auc:0.694914\n",
      "[30]\tvalidation_0-auc:0.701043\tvalidation_1-auc:0.695096\n",
      "[31]\tvalidation_0-auc:0.701215\tvalidation_1-auc:0.695179\n",
      "[32]\tvalidation_0-auc:0.701376\tvalidation_1-auc:0.69532\n",
      "[33]\tvalidation_0-auc:0.701598\tvalidation_1-auc:0.69549\n",
      "[34]\tvalidation_0-auc:0.70188\tvalidation_1-auc:0.695731\n",
      "[35]\tvalidation_0-auc:0.702069\tvalidation_1-auc:0.695955\n",
      "[36]\tvalidation_0-auc:0.702211\tvalidation_1-auc:0.696113\n",
      "[37]\tvalidation_0-auc:0.70232\tvalidation_1-auc:0.696159\n",
      "[38]\tvalidation_0-auc:0.702718\tvalidation_1-auc:0.696608\n",
      "[39]\tvalidation_0-auc:0.702838\tvalidation_1-auc:0.69673\n",
      "[40]\tvalidation_0-auc:0.702894\tvalidation_1-auc:0.696689\n",
      "[41]\tvalidation_0-auc:0.70299\tvalidation_1-auc:0.696823\n",
      "[42]\tvalidation_0-auc:0.703065\tvalidation_1-auc:0.696804\n",
      "[43]\tvalidation_0-auc:0.703307\tvalidation_1-auc:0.697089\n",
      "[44]\tvalidation_0-auc:0.703411\tvalidation_1-auc:0.697176\n",
      "[45]\tvalidation_0-auc:0.703568\tvalidation_1-auc:0.69726\n",
      "[46]\tvalidation_0-auc:0.703638\tvalidation_1-auc:0.697306\n",
      "[47]\tvalidation_0-auc:0.703831\tvalidation_1-auc:0.697442\n",
      "[48]\tvalidation_0-auc:0.704078\tvalidation_1-auc:0.69773\n",
      "[49]\tvalidation_0-auc:0.704156\tvalidation_1-auc:0.6978\n",
      "[50]\tvalidation_0-auc:0.704204\tvalidation_1-auc:0.697852\n",
      "[51]\tvalidation_0-auc:0.704287\tvalidation_1-auc:0.697918\n",
      "[52]\tvalidation_0-auc:0.70434\tvalidation_1-auc:0.697953\n",
      "[53]\tvalidation_0-auc:0.704537\tvalidation_1-auc:0.698127\n",
      "[54]\tvalidation_0-auc:0.704725\tvalidation_1-auc:0.698274\n",
      "[55]\tvalidation_0-auc:0.704801\tvalidation_1-auc:0.698305\n",
      "[56]\tvalidation_0-auc:0.704967\tvalidation_1-auc:0.698488\n",
      "[57]\tvalidation_0-auc:0.705059\tvalidation_1-auc:0.698566\n",
      "[58]\tvalidation_0-auc:0.705251\tvalidation_1-auc:0.698707\n",
      "[59]\tvalidation_0-auc:0.705392\tvalidation_1-auc:0.698784\n",
      "[60]\tvalidation_0-auc:0.705531\tvalidation_1-auc:0.698917\n",
      "[61]\tvalidation_0-auc:0.705707\tvalidation_1-auc:0.699055\n",
      "[62]\tvalidation_0-auc:0.705824\tvalidation_1-auc:0.699161\n",
      "[63]\tvalidation_0-auc:0.705861\tvalidation_1-auc:0.699191\n",
      "[64]\tvalidation_0-auc:0.705912\tvalidation_1-auc:0.699266\n",
      "[65]\tvalidation_0-auc:0.706008\tvalidation_1-auc:0.699341\n",
      "[66]\tvalidation_0-auc:0.706054\tvalidation_1-auc:0.699365\n",
      "[67]\tvalidation_0-auc:0.706094\tvalidation_1-auc:0.699403\n",
      "[68]\tvalidation_0-auc:0.706196\tvalidation_1-auc:0.699492\n",
      "[69]\tvalidation_0-auc:0.706267\tvalidation_1-auc:0.69956\n",
      "[70]\tvalidation_0-auc:0.706311\tvalidation_1-auc:0.699574\n",
      "[71]\tvalidation_0-auc:0.706384\tvalidation_1-auc:0.699647\n",
      "[72]\tvalidation_0-auc:0.706437\tvalidation_1-auc:0.699712\n",
      "[73]\tvalidation_0-auc:0.706537\tvalidation_1-auc:0.699771\n",
      "[74]\tvalidation_0-auc:0.706583\tvalidation_1-auc:0.699799\n",
      "[75]\tvalidation_0-auc:0.706634\tvalidation_1-auc:0.699851\n",
      "[76]\tvalidation_0-auc:0.706679\tvalidation_1-auc:0.699902\n",
      "[77]\tvalidation_0-auc:0.706747\tvalidation_1-auc:0.699928\n",
      "[78]\tvalidation_0-auc:0.706789\tvalidation_1-auc:0.699954\n",
      "[79]\tvalidation_0-auc:0.706861\tvalidation_1-auc:0.700012\n",
      "[80]\tvalidation_0-auc:0.706877\tvalidation_1-auc:0.699972\n",
      "[81]\tvalidation_0-auc:0.70691\tvalidation_1-auc:0.699987\n",
      "[82]\tvalidation_0-auc:0.706979\tvalidation_1-auc:0.700018\n",
      "[83]\tvalidation_0-auc:0.70702\tvalidation_1-auc:0.70005\n",
      "[84]\tvalidation_0-auc:0.707075\tvalidation_1-auc:0.700088\n",
      "[85]\tvalidation_0-auc:0.70713\tvalidation_1-auc:0.700078\n",
      "[86]\tvalidation_0-auc:0.70719\tvalidation_1-auc:0.700047\n",
      "[87]\tvalidation_0-auc:0.707234\tvalidation_1-auc:0.700064\n",
      "[88]\tvalidation_0-auc:0.707275\tvalidation_1-auc:0.700055\n",
      "[89]\tvalidation_0-auc:0.707305\tvalidation_1-auc:0.700076\n",
      "[90]\tvalidation_0-auc:0.707351\tvalidation_1-auc:0.700101\n",
      "[91]\tvalidation_0-auc:0.707383\tvalidation_1-auc:0.700113\n",
      "[92]\tvalidation_0-auc:0.707408\tvalidation_1-auc:0.70011\n",
      "[93]\tvalidation_0-auc:0.707453\tvalidation_1-auc:0.700064\n",
      "[94]\tvalidation_0-auc:0.707507\tvalidation_1-auc:0.70009\n",
      "[95]\tvalidation_0-auc:0.707539\tvalidation_1-auc:0.700092\n",
      "[96]\tvalidation_0-auc:0.707602\tvalidation_1-auc:0.700171\n",
      "[97]\tvalidation_0-auc:0.707637\tvalidation_1-auc:0.700194\n",
      "[98]\tvalidation_0-auc:0.70767\tvalidation_1-auc:0.700221\n",
      "[99]\tvalidation_0-auc:0.707719\tvalidation_1-auc:0.700212\n",
      "[100]\tvalidation_0-auc:0.707747\tvalidation_1-auc:0.700211\n",
      "[101]\tvalidation_0-auc:0.707783\tvalidation_1-auc:0.700192\n",
      "[102]\tvalidation_0-auc:0.707821\tvalidation_1-auc:0.700202\n",
      "[103]\tvalidation_0-auc:0.707858\tvalidation_1-auc:0.700211\n",
      "[104]\tvalidation_0-auc:0.707884\tvalidation_1-auc:0.700189\n",
      "[105]\tvalidation_0-auc:0.707922\tvalidation_1-auc:0.700217\n",
      "[106]\tvalidation_0-auc:0.707933\tvalidation_1-auc:0.700229\n",
      "[107]\tvalidation_0-auc:0.707949\tvalidation_1-auc:0.700219\n",
      "[108]\tvalidation_0-auc:0.707999\tvalidation_1-auc:0.700162\n",
      "[109]\tvalidation_0-auc:0.708017\tvalidation_1-auc:0.700178\n",
      "[110]\tvalidation_0-auc:0.708062\tvalidation_1-auc:0.700192\n",
      "[111]\tvalidation_0-auc:0.708089\tvalidation_1-auc:0.700198\n",
      "[112]\tvalidation_0-auc:0.708118\tvalidation_1-auc:0.700195\n",
      "[113]\tvalidation_0-auc:0.708153\tvalidation_1-auc:0.700217\n",
      "[114]\tvalidation_0-auc:0.708196\tvalidation_1-auc:0.700242\n",
      "[115]\tvalidation_0-auc:0.708228\tvalidation_1-auc:0.700251\n",
      "[116]\tvalidation_0-auc:0.708258\tvalidation_1-auc:0.700223\n",
      "[117]\tvalidation_0-auc:0.708284\tvalidation_1-auc:0.700219\n",
      "[118]\tvalidation_0-auc:0.7083\tvalidation_1-auc:0.700202\n",
      "[119]\tvalidation_0-auc:0.708335\tvalidation_1-auc:0.700231\n",
      "[120]\tvalidation_0-auc:0.70839\tvalidation_1-auc:0.700262\n",
      "[121]\tvalidation_0-auc:0.708436\tvalidation_1-auc:0.700266\n",
      "[122]\tvalidation_0-auc:0.708472\tvalidation_1-auc:0.70031\n",
      "[123]\tvalidation_0-auc:0.708508\tvalidation_1-auc:0.70032\n",
      "[124]\tvalidation_0-auc:0.708539\tvalidation_1-auc:0.700311\n",
      "[125]\tvalidation_0-auc:0.708574\tvalidation_1-auc:0.700312\n",
      "[126]\tvalidation_0-auc:0.708591\tvalidation_1-auc:0.700312\n",
      "[127]\tvalidation_0-auc:0.708601\tvalidation_1-auc:0.700302\n",
      "[128]\tvalidation_0-auc:0.708626\tvalidation_1-auc:0.700289\n",
      "[129]\tvalidation_0-auc:0.708674\tvalidation_1-auc:0.700266\n",
      "[130]\tvalidation_0-auc:0.708703\tvalidation_1-auc:0.700268\n",
      "[131]\tvalidation_0-auc:0.708748\tvalidation_1-auc:0.700265\n",
      "[132]\tvalidation_0-auc:0.70879\tvalidation_1-auc:0.700285\n",
      "[133]\tvalidation_0-auc:0.708821\tvalidation_1-auc:0.700284\n",
      "[134]\tvalidation_0-auc:0.708858\tvalidation_1-auc:0.700251\n",
      "[135]\tvalidation_0-auc:0.708892\tvalidation_1-auc:0.700257\n",
      "[136]\tvalidation_0-auc:0.708918\tvalidation_1-auc:0.700268\n",
      "[137]\tvalidation_0-auc:0.708938\tvalidation_1-auc:0.700273\n",
      "[138]\tvalidation_0-auc:0.708986\tvalidation_1-auc:0.700252\n",
      "[139]\tvalidation_0-auc:0.709028\tvalidation_1-auc:0.700221\n",
      "[140]\tvalidation_0-auc:0.709064\tvalidation_1-auc:0.700215\n",
      "[141]\tvalidation_0-auc:0.709099\tvalidation_1-auc:0.700218\n"
     ]
    },
    {
     "name": "stdout",
     "output_type": "stream",
     "text": [
      "[142]\tvalidation_0-auc:0.709134\tvalidation_1-auc:0.700215\n",
      "[143]\tvalidation_0-auc:0.709154\tvalidation_1-auc:0.700222\n",
      "[144]\tvalidation_0-auc:0.709191\tvalidation_1-auc:0.700222\n",
      "[145]\tvalidation_0-auc:0.709229\tvalidation_1-auc:0.700244\n",
      "[146]\tvalidation_0-auc:0.70926\tvalidation_1-auc:0.700246\n",
      "[147]\tvalidation_0-auc:0.70927\tvalidation_1-auc:0.700241\n",
      "[148]\tvalidation_0-auc:0.709345\tvalidation_1-auc:0.700313\n",
      "[149]\tvalidation_0-auc:0.709386\tvalidation_1-auc:0.700337\n",
      "[150]\tvalidation_0-auc:0.709434\tvalidation_1-auc:0.700354\n",
      "[151]\tvalidation_0-auc:0.709471\tvalidation_1-auc:0.700347\n",
      "[152]\tvalidation_0-auc:0.709493\tvalidation_1-auc:0.700328\n",
      "[153]\tvalidation_0-auc:0.709516\tvalidation_1-auc:0.70034\n",
      "[154]\tvalidation_0-auc:0.709538\tvalidation_1-auc:0.700334\n",
      "[155]\tvalidation_0-auc:0.709567\tvalidation_1-auc:0.700349\n",
      "[156]\tvalidation_0-auc:0.709602\tvalidation_1-auc:0.700334\n",
      "[157]\tvalidation_0-auc:0.709639\tvalidation_1-auc:0.70034\n",
      "[158]\tvalidation_0-auc:0.709662\tvalidation_1-auc:0.700345\n",
      "[159]\tvalidation_0-auc:0.709678\tvalidation_1-auc:0.700348\n",
      "[160]\tvalidation_0-auc:0.709699\tvalidation_1-auc:0.700351\n",
      "[161]\tvalidation_0-auc:0.709737\tvalidation_1-auc:0.700358\n",
      "[162]\tvalidation_0-auc:0.709778\tvalidation_1-auc:0.700349\n",
      "[163]\tvalidation_0-auc:0.70981\tvalidation_1-auc:0.700359\n",
      "[164]\tvalidation_0-auc:0.709846\tvalidation_1-auc:0.700366\n",
      "[165]\tvalidation_0-auc:0.709874\tvalidation_1-auc:0.700365\n",
      "[166]\tvalidation_0-auc:0.709892\tvalidation_1-auc:0.700368\n",
      "[167]\tvalidation_0-auc:0.709924\tvalidation_1-auc:0.700363\n",
      "[168]\tvalidation_0-auc:0.709951\tvalidation_1-auc:0.700362\n",
      "[169]\tvalidation_0-auc:0.709981\tvalidation_1-auc:0.700395\n",
      "[170]\tvalidation_0-auc:0.710001\tvalidation_1-auc:0.700383\n",
      "[171]\tvalidation_0-auc:0.71002\tvalidation_1-auc:0.700367\n",
      "[172]\tvalidation_0-auc:0.710047\tvalidation_1-auc:0.700385\n",
      "[173]\tvalidation_0-auc:0.710086\tvalidation_1-auc:0.700375\n",
      "[174]\tvalidation_0-auc:0.710105\tvalidation_1-auc:0.700379\n",
      "[175]\tvalidation_0-auc:0.71014\tvalidation_1-auc:0.70039\n",
      "[176]\tvalidation_0-auc:0.710169\tvalidation_1-auc:0.700388\n",
      "[177]\tvalidation_0-auc:0.710207\tvalidation_1-auc:0.700384\n",
      "[178]\tvalidation_0-auc:0.710228\tvalidation_1-auc:0.700385\n",
      "[179]\tvalidation_0-auc:0.710265\tvalidation_1-auc:0.700409\n",
      "[180]\tvalidation_0-auc:0.710295\tvalidation_1-auc:0.700396\n",
      "[181]\tvalidation_0-auc:0.710309\tvalidation_1-auc:0.700387\n",
      "[182]\tvalidation_0-auc:0.710338\tvalidation_1-auc:0.700378\n",
      "[183]\tvalidation_0-auc:0.710358\tvalidation_1-auc:0.700379\n",
      "[184]\tvalidation_0-auc:0.710388\tvalidation_1-auc:0.700375\n",
      "[185]\tvalidation_0-auc:0.710418\tvalidation_1-auc:0.700376\n",
      "[186]\tvalidation_0-auc:0.710439\tvalidation_1-auc:0.700357\n",
      "[187]\tvalidation_0-auc:0.710463\tvalidation_1-auc:0.70037\n",
      "[188]\tvalidation_0-auc:0.710488\tvalidation_1-auc:0.70037\n",
      "[189]\tvalidation_0-auc:0.710518\tvalidation_1-auc:0.700384\n",
      "[190]\tvalidation_0-auc:0.710547\tvalidation_1-auc:0.700376\n",
      "[191]\tvalidation_0-auc:0.710553\tvalidation_1-auc:0.700375\n",
      "[192]\tvalidation_0-auc:0.710584\tvalidation_1-auc:0.700392\n",
      "[193]\tvalidation_0-auc:0.710618\tvalidation_1-auc:0.700373\n",
      "[194]\tvalidation_0-auc:0.710647\tvalidation_1-auc:0.700351\n",
      "[195]\tvalidation_0-auc:0.710678\tvalidation_1-auc:0.70036\n",
      "[196]\tvalidation_0-auc:0.710717\tvalidation_1-auc:0.700361\n",
      "[197]\tvalidation_0-auc:0.710748\tvalidation_1-auc:0.700364\n",
      "[198]\tvalidation_0-auc:0.710768\tvalidation_1-auc:0.700359\n",
      "[199]\tvalidation_0-auc:0.710796\tvalidation_1-auc:0.700373\n",
      "[200]\tvalidation_0-auc:0.710824\tvalidation_1-auc:0.700345\n",
      "[201]\tvalidation_0-auc:0.710851\tvalidation_1-auc:0.700333\n",
      "[202]\tvalidation_0-auc:0.710872\tvalidation_1-auc:0.700327\n",
      "[203]\tvalidation_0-auc:0.710899\tvalidation_1-auc:0.700319\n",
      "[204]\tvalidation_0-auc:0.710906\tvalidation_1-auc:0.700332\n",
      "[205]\tvalidation_0-auc:0.710943\tvalidation_1-auc:0.700323\n",
      "[206]\tvalidation_0-auc:0.710966\tvalidation_1-auc:0.700314\n",
      "[207]\tvalidation_0-auc:0.711002\tvalidation_1-auc:0.700317\n",
      "[208]\tvalidation_0-auc:0.711042\tvalidation_1-auc:0.700299\n",
      "[209]\tvalidation_0-auc:0.711063\tvalidation_1-auc:0.700289\n",
      "[210]\tvalidation_0-auc:0.711094\tvalidation_1-auc:0.700295\n",
      "[211]\tvalidation_0-auc:0.711116\tvalidation_1-auc:0.700284\n",
      "[212]\tvalidation_0-auc:0.711136\tvalidation_1-auc:0.700281\n",
      "[213]\tvalidation_0-auc:0.711168\tvalidation_1-auc:0.700286\n",
      "[214]\tvalidation_0-auc:0.711192\tvalidation_1-auc:0.70027\n",
      "[215]\tvalidation_0-auc:0.711218\tvalidation_1-auc:0.700276\n",
      "[216]\tvalidation_0-auc:0.711228\tvalidation_1-auc:0.700272\n",
      "[217]\tvalidation_0-auc:0.711261\tvalidation_1-auc:0.700268\n",
      "[218]\tvalidation_0-auc:0.711283\tvalidation_1-auc:0.700264\n",
      "[219]\tvalidation_0-auc:0.711309\tvalidation_1-auc:0.700254\n",
      "[220]\tvalidation_0-auc:0.711345\tvalidation_1-auc:0.700257\n",
      "[221]\tvalidation_0-auc:0.71137\tvalidation_1-auc:0.70024\n",
      "[222]\tvalidation_0-auc:0.711378\tvalidation_1-auc:0.700243\n",
      "[223]\tvalidation_0-auc:0.711396\tvalidation_1-auc:0.700253\n",
      "[224]\tvalidation_0-auc:0.711422\tvalidation_1-auc:0.700275\n",
      "[225]\tvalidation_0-auc:0.711444\tvalidation_1-auc:0.700264\n",
      "[226]\tvalidation_0-auc:0.711459\tvalidation_1-auc:0.700257\n",
      "[227]\tvalidation_0-auc:0.71149\tvalidation_1-auc:0.700259\n",
      "[228]\tvalidation_0-auc:0.711519\tvalidation_1-auc:0.700255\n",
      "[229]\tvalidation_0-auc:0.711538\tvalidation_1-auc:0.700256\n",
      "Stopping. Best iteration:\n",
      "[179]\tvalidation_0-auc:0.710265\tvalidation_1-auc:0.700409\n",
      "\n"
     ]
    },
    {
     "data": {
      "text/plain": [
       "XGBClassifier(base_score=0.5, booster='gbtree', colsample_bylevel=1,\n",
       "       colsample_bytree=0.8, gamma=0, learning_rate=0.1, max_delta_step=0,\n",
       "       max_depth=5, min_child_weight=1, missing=None, n_estimators=1000,\n",
       "       n_jobs=1, nthread=4, objective='binary:logistic', random_state=0,\n",
       "       reg_alpha=0, reg_lambda=1, scale_pos_weight=1, seed=27, silent=True,\n",
       "       subsample=0.8)"
      ]
     },
     "execution_count": 145,
     "metadata": {},
     "output_type": "execute_result"
    }
   ],
   "source": [
    "modelXclass.fit(X_train, y_train, \\\n",
    "        eval_set=[(X_train, y_train), (X_test, y_test)], \\\n",
    "                  eval_metric='auc', early_stopping_rounds = 50)"
   ]
  },
  {
   "cell_type": "code",
   "execution_count": null,
   "metadata": {
    "collapsed": true
   },
   "outputs": [],
   "source": []
  },
  {
   "cell_type": "code",
   "execution_count": 73,
   "metadata": {
    "collapsed": true
   },
   "outputs": [],
   "source": [
    "modelXclass_f=XGBClassifier(base_score=0.5, booster='gbtree', colsample_bylevel=1,\n",
    "       colsample_bytree=0.8, gamma=0, learning_rate=0.1, max_delta_step=0,\n",
    "       max_depth=5, min_child_weight=1, missing=None, n_estimators=1000,\n",
    "       n_jobs=1, nthread=4, objective='binary:logistic', random_state=0,\n",
    "       reg_alpha=0, reg_lambda=1, scale_pos_weight=1, seed=27, silent=True,\n",
    "       subsample=0.8)"
   ]
  },
  {
   "cell_type": "code",
   "execution_count": 74,
   "metadata": {},
   "outputs": [
    {
     "data": {
      "text/plain": [
       "XGBClassifier(base_score=0.5, booster='gbtree', colsample_bylevel=1,\n",
       "       colsample_bytree=0.8, gamma=0, learning_rate=0.1, max_delta_step=0,\n",
       "       max_depth=5, min_child_weight=1, missing=None, n_estimators=1000,\n",
       "       n_jobs=1, nthread=4, objective='binary:logistic', random_state=0,\n",
       "       reg_alpha=0, reg_lambda=1, scale_pos_weight=1, seed=27, silent=True,\n",
       "       subsample=0.8)"
      ]
     },
     "execution_count": 74,
     "metadata": {},
     "output_type": "execute_result"
    }
   ],
   "source": [
    "modelXclass_f.fit(X_train, y_train)"
   ]
  },
  {
   "cell_type": "code",
   "execution_count": 75,
   "metadata": {
    "scrolled": false
   },
   "outputs": [
    {
     "data": {
      "text/plain": [
       "0.7130095412293418"
      ]
     },
     "execution_count": 75,
     "metadata": {},
     "output_type": "execute_result"
    }
   ],
   "source": [
    "y_pred = modelXclass_f.predict_proba(X_test)[:, 1]\n",
    "roc_auc_score(y_test,y_pred)"
   ]
  },
  {
   "cell_type": "code",
   "execution_count": 79,
   "metadata": {
    "collapsed": true
   },
   "outputs": [],
   "source": [
    "def plot_cm(ax, y_true, y_pred, classes, title, th=0.5, cmap=plt.cm.Blues):\n",
    "    y_pred_labels = (y_pred>th).astype(int)\n",
    "    \n",
    "    cm = confusion_matrix(y_true, y_pred_labels)\n",
    "    \n",
    "    im = ax.imshow(cm, interpolation='nearest', cmap=cmap)\n",
    "    ax.set_title(title)\n",
    "\n",
    "    tick_marks = np.arange(len(classes))\n",
    "    ax.set_xticks(tick_marks)\n",
    "    ax.set_yticks(tick_marks)\n",
    "    ax.set_xticklabels(classes)\n",
    "    ax.set_yticklabels(classes)\n",
    "\n",
    "    thresh = cm.max() / 2.\n",
    "    for i, j in itertools.product(range(cm.shape[0]), range(cm.shape[1])):\n",
    "        ax.text(j, i, cm[i, j],\n",
    "                 horizontalalignment=\"center\",\n",
    "                 color=\"white\" if cm[i, j] > thresh else \"black\")\n",
    "    ax.set_ylabel('True label')\n",
    "    ax.set_xlabel('Predicted label')\n",
    "\n",
    "def plot_auc(ax, y_train, y_train_pred, y_test, y_test_pred, th=0.5):\n",
    "\n",
    "    y_train_pred_labels = (y_train_pred>th).astype(int)\n",
    "    y_test_pred_labels  = (y_test_pred>th).astype(int)\n",
    "\n",
    "    fpr_train, tpr_train, _ = roc_curve(y_train,y_train_pred)\n",
    "    roc_auc_train = auc(fpr_train, tpr_train)\n",
    "    acc_train = accuracy_score(y_train, y_train_pred_labels)\n",
    "\n",
    "    fpr_test, tpr_test, _ = roc_curve(y_test,y_test_pred)\n",
    "    roc_auc_test = auc(fpr_test, tpr_test)\n",
    "    acc_test = accuracy_score(y_test, y_test_pred_labels)\n",
    "\n",
    "    ax.plot(fpr_train, tpr_train)\n",
    "    ax.plot(fpr_test, tpr_test)\n",
    "\n",
    "    ax.plot([0, 1], [0, 1], 'k--')\n",
    "\n",
    "    ax.set_xlim([0.0, 1.0])\n",
    "    ax.set_ylim([0.0, 1.05])\n",
    "    ax.set_xlabel('False Positive Rate')\n",
    "    ax.set_ylabel('True Positive Rate')\n",
    "    ax.set_title('ROC curve')\n",
    "    \n",
    "    train_text = 'train acc = {:.3f}, auc = {:.4f}'.format(acc_train, roc_auc_train)\n",
    "    test_text = 'test acc = {:.3f}, auc = {:.4f}'.format(acc_test, roc_auc_test)\n",
    "    ax.legend([train_text, test_text])"
   ]
  },
  {
   "cell_type": "code",
   "execution_count": 80,
   "metadata": {},
   "outputs": [
    {
     "ename": "NameError",
     "evalue": "name 'itertools' is not defined",
     "output_type": "error",
     "traceback": [
      "\u001b[1;31m---------------------------------------------------------------------------\u001b[0m",
      "\u001b[1;31mNameError\u001b[0m                                 Traceback (most recent call last)",
      "\u001b[1;32m<ipython-input-80-e938fdfbbc67>\u001b[0m in \u001b[0;36m<module>\u001b[1;34m()\u001b[0m\n\u001b[0;32m      6\u001b[0m \u001b[0mfig\u001b[0m\u001b[1;33m.\u001b[0m\u001b[0mset_size_inches\u001b[0m\u001b[1;33m(\u001b[0m\u001b[1;36m15\u001b[0m\u001b[1;33m,\u001b[0m\u001b[1;36m5\u001b[0m\u001b[1;33m)\u001b[0m\u001b[1;33m\u001b[0m\u001b[0m\n\u001b[0;32m      7\u001b[0m \u001b[1;33m\u001b[0m\u001b[0m\n\u001b[1;32m----> 8\u001b[1;33m \u001b[0mplot_cm\u001b[0m\u001b[1;33m(\u001b[0m\u001b[0max\u001b[0m\u001b[1;33m[\u001b[0m\u001b[1;36m0\u001b[0m\u001b[1;33m]\u001b[0m\u001b[1;33m,\u001b[0m  \u001b[0my_train\u001b[0m\u001b[1;33m,\u001b[0m \u001b[0mtrain_pred\u001b[0m\u001b[1;33m,\u001b[0m \u001b[1;33m[\u001b[0m\u001b[1;36m0\u001b[0m\u001b[1;33m,\u001b[0m\u001b[1;36m1\u001b[0m\u001b[1;33m]\u001b[0m\u001b[1;33m,\u001b[0m \u001b[1;34m'Confusion matrix (TRAIN)'\u001b[0m\u001b[1;33m,\u001b[0m \u001b[0mthreshold\u001b[0m\u001b[1;33m)\u001b[0m\u001b[1;33m\u001b[0m\u001b[0m\n\u001b[0m\u001b[0;32m      9\u001b[0m \u001b[0mplot_cm\u001b[0m\u001b[1;33m(\u001b[0m\u001b[0max\u001b[0m\u001b[1;33m[\u001b[0m\u001b[1;36m1\u001b[0m\u001b[1;33m]\u001b[0m\u001b[1;33m,\u001b[0m  \u001b[0my_test\u001b[0m\u001b[1;33m,\u001b[0m \u001b[0mtest_pred\u001b[0m\u001b[1;33m,\u001b[0m   \u001b[1;33m[\u001b[0m\u001b[1;36m0\u001b[0m\u001b[1;33m,\u001b[0m\u001b[1;36m1\u001b[0m\u001b[1;33m]\u001b[0m\u001b[1;33m,\u001b[0m \u001b[1;34m'Confusion matrix (TEST)'\u001b[0m\u001b[1;33m,\u001b[0m \u001b[0mthreshold\u001b[0m\u001b[1;33m)\u001b[0m\u001b[1;33m\u001b[0m\u001b[0m\n\u001b[0;32m     10\u001b[0m \u001b[0mplot_auc\u001b[0m\u001b[1;33m(\u001b[0m\u001b[0max\u001b[0m\u001b[1;33m[\u001b[0m\u001b[1;36m2\u001b[0m\u001b[1;33m]\u001b[0m\u001b[1;33m,\u001b[0m \u001b[0my_train\u001b[0m\u001b[1;33m,\u001b[0m \u001b[0mtrain_pred\u001b[0m\u001b[1;33m,\u001b[0m \u001b[0my_test\u001b[0m\u001b[1;33m,\u001b[0m \u001b[0mtest_pred\u001b[0m\u001b[1;33m,\u001b[0m \u001b[0mthreshold\u001b[0m\u001b[1;33m)\u001b[0m\u001b[1;33m\u001b[0m\u001b[0m\n",
      "\u001b[1;32m<ipython-input-79-10489194cc71>\u001b[0m in \u001b[0;36mplot_cm\u001b[1;34m(ax, y_true, y_pred, classes, title, th, cmap)\u001b[0m\n\u001b[0;32m     14\u001b[0m \u001b[1;33m\u001b[0m\u001b[0m\n\u001b[0;32m     15\u001b[0m     \u001b[0mthresh\u001b[0m \u001b[1;33m=\u001b[0m \u001b[0mcm\u001b[0m\u001b[1;33m.\u001b[0m\u001b[0mmax\u001b[0m\u001b[1;33m(\u001b[0m\u001b[1;33m)\u001b[0m \u001b[1;33m/\u001b[0m \u001b[1;36m2.\u001b[0m\u001b[1;33m\u001b[0m\u001b[0m\n\u001b[1;32m---> 16\u001b[1;33m     \u001b[1;32mfor\u001b[0m \u001b[0mi\u001b[0m\u001b[1;33m,\u001b[0m \u001b[0mj\u001b[0m \u001b[1;32min\u001b[0m \u001b[0mitertools\u001b[0m\u001b[1;33m.\u001b[0m\u001b[0mproduct\u001b[0m\u001b[1;33m(\u001b[0m\u001b[0mrange\u001b[0m\u001b[1;33m(\u001b[0m\u001b[0mcm\u001b[0m\u001b[1;33m.\u001b[0m\u001b[0mshape\u001b[0m\u001b[1;33m[\u001b[0m\u001b[1;36m0\u001b[0m\u001b[1;33m]\u001b[0m\u001b[1;33m)\u001b[0m\u001b[1;33m,\u001b[0m \u001b[0mrange\u001b[0m\u001b[1;33m(\u001b[0m\u001b[0mcm\u001b[0m\u001b[1;33m.\u001b[0m\u001b[0mshape\u001b[0m\u001b[1;33m[\u001b[0m\u001b[1;36m1\u001b[0m\u001b[1;33m]\u001b[0m\u001b[1;33m)\u001b[0m\u001b[1;33m)\u001b[0m\u001b[1;33m:\u001b[0m\u001b[1;33m\u001b[0m\u001b[0m\n\u001b[0m\u001b[0;32m     17\u001b[0m         ax.text(j, i, cm[i, j],\n\u001b[0;32m     18\u001b[0m                  \u001b[0mhorizontalalignment\u001b[0m\u001b[1;33m=\u001b[0m\u001b[1;34m\"center\"\u001b[0m\u001b[1;33m,\u001b[0m\u001b[1;33m\u001b[0m\u001b[0m\n",
      "\u001b[1;31mNameError\u001b[0m: name 'itertools' is not defined"
     ]
    },
    {
     "data": {
      "image/png": "[encoded data removed]",
      "text/plain": [
       "<matplotlib.figure.Figure at 0x153d902c3c8>"
      ]
     },
     "metadata": {},
     "output_type": "display_data"
    }
   ],
   "source": [
    "threshold = 0.5\n",
    "train_pred = modelXclass_f.predict_proba(X_train)[:,1]\n",
    "test_pred = modelXclass_f.predict_proba(X_test)[:,1]\n",
    "\n",
    "fig,ax = plt.subplots(1,3)\n",
    "fig.set_size_inches(15,5)\n",
    "\n",
    "plot_cm(ax[0],  y_train, train_pred, [0,1], 'Confusion matrix (TRAIN)', threshold)\n",
    "plot_cm(ax[1],  y_test, test_pred,   [0,1], 'Confusion matrix (TEST)', threshold)\n",
    "plot_auc(ax[2], y_train, train_pred, y_test, test_pred, threshold)\n",
    "    \n",
    "plt.tight_layout()\n",
    "plt.show()"
   ]
  },
  {
   "cell_type": "code",
   "execution_count": 76,
   "metadata": {},
   "outputs": [
    {
     "ename": "ValueError",
     "evalue": "Classification metrics can't handle a mix of binary and continuous-multioutput targets",
     "output_type": "error",
     "traceback": [
      "\u001b[1;31m---------------------------------------------------------------------------\u001b[0m",
      "\u001b[1;31mValueError\u001b[0m                                Traceback (most recent call last)",
      "\u001b[1;32m<ipython-input-76-321eff6fc0a3>\u001b[0m in \u001b[0;36m<module>\u001b[1;34m()\u001b[0m\n\u001b[0;32m     14\u001b[0m \u001b[0mthreshold\u001b[0m\u001b[1;33m=\u001b[0m\u001b[1;36m0.5\u001b[0m\u001b[1;33m\u001b[0m\u001b[0m\n\u001b[0;32m     15\u001b[0m \u001b[1;31m# Compute confusion matrix\u001b[0m\u001b[1;33m\u001b[0m\u001b[1;33m\u001b[0m\u001b[0m\n\u001b[1;32m---> 16\u001b[1;33m \u001b[0mcm\u001b[0m \u001b[1;33m=\u001b[0m \u001b[0mconfusion_matrix\u001b[0m\u001b[1;33m(\u001b[0m\u001b[0my_test\u001b[0m\u001b[1;33m,\u001b[0m \u001b[0mmodelXclass_f\u001b[0m\u001b[1;33m.\u001b[0m\u001b[0mpredict_proba\u001b[0m\u001b[1;33m(\u001b[0m\u001b[0mX_test\u001b[0m\u001b[1;33m)\u001b[0m\u001b[1;33m)\u001b[0m\u001b[1;33m\u001b[0m\u001b[0m\n\u001b[0m\u001b[0;32m     17\u001b[0m \u001b[0mnp\u001b[0m\u001b[1;33m.\u001b[0m\u001b[0mset_printoptions\u001b[0m\u001b[1;33m(\u001b[0m\u001b[0mprecision\u001b[0m\u001b[1;33m=\u001b[0m\u001b[1;36m2\u001b[0m\u001b[1;33m)\u001b[0m\u001b[1;33m\u001b[0m\u001b[0m\n\u001b[0;32m     18\u001b[0m \u001b[0mprint\u001b[0m\u001b[1;33m(\u001b[0m\u001b[1;34m'Confusion matrix, without normalization'\u001b[0m\u001b[1;33m)\u001b[0m\u001b[1;33m\u001b[0m\u001b[0m\n",
      "\u001b[1;32m~\\Anaconda3\\lib\\site-packages\\sklearn\\metrics\\classification.py\u001b[0m in \u001b[0;36mconfusion_matrix\u001b[1;34m(y_true, y_pred, labels, sample_weight)\u001b[0m\n\u001b[0;32m    248\u001b[0m \u001b[1;33m\u001b[0m\u001b[0m\n\u001b[0;32m    249\u001b[0m     \"\"\"\n\u001b[1;32m--> 250\u001b[1;33m     \u001b[0my_type\u001b[0m\u001b[1;33m,\u001b[0m \u001b[0my_true\u001b[0m\u001b[1;33m,\u001b[0m \u001b[0my_pred\u001b[0m \u001b[1;33m=\u001b[0m \u001b[0m_check_targets\u001b[0m\u001b[1;33m(\u001b[0m\u001b[0my_true\u001b[0m\u001b[1;33m,\u001b[0m \u001b[0my_pred\u001b[0m\u001b[1;33m)\u001b[0m\u001b[1;33m\u001b[0m\u001b[0m\n\u001b[0m\u001b[0;32m    251\u001b[0m     \u001b[1;32mif\u001b[0m \u001b[0my_type\u001b[0m \u001b[1;32mnot\u001b[0m \u001b[1;32min\u001b[0m \u001b[1;33m(\u001b[0m\u001b[1;34m\"binary\"\u001b[0m\u001b[1;33m,\u001b[0m \u001b[1;34m\"multiclass\"\u001b[0m\u001b[1;33m)\u001b[0m\u001b[1;33m:\u001b[0m\u001b[1;33m\u001b[0m\u001b[0m\n\u001b[0;32m    252\u001b[0m         \u001b[1;32mraise\u001b[0m \u001b[0mValueError\u001b[0m\u001b[1;33m(\u001b[0m\u001b[1;34m\"%s is not supported\"\u001b[0m \u001b[1;33m%\u001b[0m \u001b[0my_type\u001b[0m\u001b[1;33m)\u001b[0m\u001b[1;33m\u001b[0m\u001b[0m\n",
      "\u001b[1;32m~\\Anaconda3\\lib\\site-packages\\sklearn\\metrics\\classification.py\u001b[0m in \u001b[0;36m_check_targets\u001b[1;34m(y_true, y_pred)\u001b[0m\n\u001b[0;32m     79\u001b[0m     \u001b[1;32mif\u001b[0m \u001b[0mlen\u001b[0m\u001b[1;33m(\u001b[0m\u001b[0my_type\u001b[0m\u001b[1;33m)\u001b[0m \u001b[1;33m>\u001b[0m \u001b[1;36m1\u001b[0m\u001b[1;33m:\u001b[0m\u001b[1;33m\u001b[0m\u001b[0m\n\u001b[0;32m     80\u001b[0m         raise ValueError(\"Classification metrics can't handle a mix of {0} \"\n\u001b[1;32m---> 81\u001b[1;33m                          \"and {1} targets\".format(type_true, type_pred))\n\u001b[0m\u001b[0;32m     82\u001b[0m \u001b[1;33m\u001b[0m\u001b[0m\n\u001b[0;32m     83\u001b[0m     \u001b[1;31m# We can't have more than one value on y_type => The set is no more needed\u001b[0m\u001b[1;33m\u001b[0m\u001b[1;33m\u001b[0m\u001b[0m\n",
      "\u001b[1;31mValueError\u001b[0m: Classification metrics can't handle a mix of binary and continuous-multioutput targets"
     ]
    }
   ],
   "source": [
    "from sklearn.metrics import confusion_matrix\n",
    "labels=['functional','functional needs repair','non functional']\n",
    "def plot_confusion_matrix(cm, title='Confusion matrix', cmap=plt.cm.Blues):\n",
    "    plt.imshow(cm, interpolation='nearest', cmap=cmap)\n",
    "    plt.title(title)\n",
    "    plt.colorbar(shrink=0.7)\n",
    "    tick_marks = np.arange(len(labels))\n",
    "    plt.xticks(tick_marks, labels, rotation=45, ha='right', fontsize=12)\n",
    "    plt.yticks(tick_marks, labels , fontsize=12)\n",
    "    plt.tight_layout()\n",
    "    plt.ylabel('True label', fontsize=12)\n",
    "    plt.xlabel('Predicted label', fontsize=12)\n",
    "\n",
    "threshold=0.5\n",
    "# Compute confusion matrix\n",
    "cm = confusion_matrix(y_test, modelXclass_f.predict_proba(X_test))\n",
    "np.set_printoptions(precision=2)\n",
    "print('Confusion matrix, without normalization')\n",
    "print(cm)\n",
    "plt.figure()\n",
    "plot_confusion_matrix(cm)\n",
    "\n",
    "# Normalize the confusion matrix by row (i.e by the number of samples\n",
    "# in each class)\n",
    "cm_normalized = cm.astype('float') / cm.sum(axis=1)[:, np.newaxis]\n",
    "print('Normalized confusion matrix')\n",
    "print(cm_normalized)\n",
    "plt.figure()\n",
    "plot_confusion_matrix(cm_normalized, title='Normalized confusion matrix')\n",
    "\n",
    "plot_auc( y_train, y_train_pred, y_test, y_test_pred, threshold)\n",
    "\n",
    "plt.show()\n",
    "print ('Test Score', cm.diagonal().sum()/float(cm.sum()))"
   ]
  }
 ],
 "metadata": {
  "kernelspec": {
   "display_name": "Python 3",
   "language": "python",
   "name": "python3"
  },
  "language_info": {
   "codemirror_mode": {
    "name": "ipython",
    "version": 3
   },
   "file_extension": ".py",
   "mimetype": "text/x-python",
   "name": "python",
   "nbconvert_exporter": "python",
   "pygments_lexer": "ipython3",
   "version": "3.6.3"
  }
 },
 "nbformat": 4,
 "nbformat_minor": 2
}
